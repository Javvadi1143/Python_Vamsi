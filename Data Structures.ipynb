{
 "cells": [
  {
   "cell_type": "code",
   "execution_count": 2,
   "id": "5a897f19-ef97-44e4-9531-cab807f6bf66",
   "metadata": {},
   "outputs": [
    {
     "name": "stdout",
     "output_type": "stream",
     "text": [
      "<class 'list'>\n"
     ]
    }
   ],
   "source": [
    "list = []\n",
    "print(type(list))"
   ]
  },
  {
   "cell_type": "code",
   "execution_count": 4,
   "id": "30eaf9da-1be2-42c4-82f8-2c7226e2dc98",
   "metadata": {},
   "outputs": [
    {
     "name": "stdout",
     "output_type": "stream",
     "text": [
      "[10, 20, True, (10+5j), 5.2, 'Vamsi']\n"
     ]
    }
   ],
   "source": [
    "l = [10,20,True,10+5j,5.2,\"Vamsi\",\"Hemanth\",\"Pavan\"]\n",
    "print(l)"
   ]
  },
  {
   "cell_type": "code",
   "execution_count": 5,
   "id": "5d165003-16e3-4efe-ab63-652a7542ecce",
   "metadata": {},
   "outputs": [
    {
     "data": {
      "text/plain": [
       "True"
      ]
     },
     "execution_count": 5,
     "metadata": {},
     "output_type": "execute_result"
    }
   ],
   "source": [
    "l[2]"
   ]
  },
  {
   "cell_type": "code",
   "execution_count": 10,
   "id": "4730294a-339b-4e40-85f8-cc209e737806",
   "metadata": {},
   "outputs": [
    {
     "name": "stdout",
     "output_type": "stream",
     "text": [
      "[10, 20, True, (10+5j), 5.2, [45, 78], 'Hemanth', 'Pavan']\n"
     ]
    }
   ],
   "source": [
    "l = [10,20,True,10+5j,5.2,[45,78],\"Hemanth\",\"Pavan\"]\n",
    "print(l)"
   ]
  },
  {
   "cell_type": "code",
   "execution_count": 15,
   "id": "d9de1b33-53b2-42ca-8745-f928ac60e084",
   "metadata": {},
   "outputs": [
    {
     "data": {
      "text/plain": [
       "78"
      ]
     },
     "execution_count": 15,
     "metadata": {},
     "output_type": "execute_result"
    }
   ],
   "source": [
    "l[5][1]"
   ]
  },
  {
   "cell_type": "code",
   "execution_count": 18,
   "id": "f57fe941-5165-4e6f-8997-7a9838b48ded",
   "metadata": {},
   "outputs": [
    {
     "name": "stdin",
     "output_type": "stream",
     "text": [
      "Enter the value : 10\n"
     ]
    },
    {
     "name": "stdout",
     "output_type": "stream",
     "text": [
      "10\n"
     ]
    }
   ],
   "source": [
    "list = input(\"Enter the value :\")\n",
    "print(list)"
   ]
  },
  {
   "cell_type": "code",
   "execution_count": 23,
   "id": "e2913dab-a0c6-4d09-84ad-f7ceacbee6c7",
   "metadata": {},
   "outputs": [
    {
     "name": "stdin",
     "output_type": "stream",
     "text": [
      "Enter the value :  10\n"
     ]
    },
    {
     "name": "stdout",
     "output_type": "stream",
     "text": [
      "10\n"
     ]
    }
   ],
   "source": [
    "list = eval(input(\"Enter the value : \"))\n",
    "print(list)"
   ]
  },
  {
   "cell_type": "code",
   "execution_count": 25,
   "id": "a6f0a248-51e2-4f20-b36e-ce0f7405b5c6",
   "metadata": {},
   "outputs": [
    {
     "name": "stdin",
     "output_type": "stream",
     "text": [
      "Enter the value :  10,30,40,74,38,82\n"
     ]
    },
    {
     "name": "stdout",
     "output_type": "stream",
     "text": [
      "(10, 30, 40, 74, 38, 82)\n",
      "<class 'tuple'>\n"
     ]
    }
   ],
   "source": [
    "list = eval(input(\"Enter the value : \"))\n",
    "print(list)\n",
    "print(type(list))"
   ]
  },
  {
   "cell_type": "code",
   "execution_count": 26,
   "id": "1fe1c123-a96c-4580-aefe-ead48d9cfcba",
   "metadata": {},
   "outputs": [
    {
     "name": "stdin",
     "output_type": "stream",
     "text": [
      "Enter the value :  [10,20,45,28,37,95,18,32]\n"
     ]
    },
    {
     "name": "stdout",
     "output_type": "stream",
     "text": [
      "[10, 20, 45, 28, 37, 95, 18, 32]\n",
      "<class 'list'>\n"
     ]
    }
   ],
   "source": [
    "list = eval(input(\"Enter the value : \"))\n",
    "print(list)\n",
    "print(type(list))"
   ]
  },
  {
   "cell_type": "code",
   "execution_count": 27,
   "id": "9c32538d-c74b-4fa9-a8df-e3eb0fde2f1c",
   "metadata": {},
   "outputs": [
    {
     "name": "stdout",
     "output_type": "stream",
     "text": [
      "Vamsi Javvadi hemanth kambala\n"
     ]
    }
   ],
   "source": [
    "h = \"Vamsi Javvadi hemanth kambala\"\n",
    "print(h)"
   ]
  },
  {
   "cell_type": "code",
   "execution_count": 31,
   "id": "943a4d6b-2274-4527-a7de-44e2d9d59268",
   "metadata": {},
   "outputs": [
    {
     "name": "stdout",
     "output_type": "stream",
     "text": [
      "['Vamsi', 'Javvadi', 'hemanth', 'kambala']\n",
      "<class 'list'>\n"
     ]
    }
   ],
   "source": [
    "s = h.split()\n",
    "print(s)\n",
    "print(type(s))"
   ]
  },
  {
   "cell_type": "code",
   "execution_count": 35,
   "id": "b5ada748-a1db-4a00-a998-8efa20879107",
   "metadata": {},
   "outputs": [
    {
     "data": {
      "text/plain": [
       "[]"
      ]
     },
     "execution_count": 35,
     "metadata": {},
     "output_type": "execute_result"
    }
   ],
   "source": [
    "s[3:2:]"
   ]
  },
  {
   "cell_type": "code",
   "execution_count": 36,
   "id": "87521653-79df-49f8-b5e7-6054915b458f",
   "metadata": {},
   "outputs": [
    {
     "name": "stdout",
     "output_type": "stream",
     "text": [
      "[10, 20, True, (10+5j), 5.2, [45, 78], 'Hemanth', 'Pavan']\n"
     ]
    }
   ],
   "source": [
    "l = [10,20,True,10+5j,5.2,[45,78],\"Hemanth\",\"Pavan\"]\n",
    "print(l)"
   ]
  },
  {
   "cell_type": "code",
   "execution_count": 41,
   "id": "b85f11fd-3232-47a3-b0be-f8e46992035a",
   "metadata": {},
   "outputs": [
    {
     "name": "stdout",
     "output_type": "stream",
     "text": [
      "5.2\n",
      "<class 'float'>\n"
     ]
    }
   ],
   "source": [
    "j = l[4]\n",
    "print(j)\n",
    "print(type(j))"
   ]
  },
  {
   "cell_type": "code",
   "execution_count": 42,
   "id": "71c97f3e-0065-42fc-9aa1-0cc907c01f78",
   "metadata": {},
   "outputs": [
    {
     "name": "stdout",
     "output_type": "stream",
     "text": [
      "[45, 78]\n",
      "<class 'list'>\n"
     ]
    }
   ],
   "source": [
    "k = l[-3]\n",
    "print(k)\n",
    "print(type(k))   "
   ]
  },
  {
   "cell_type": "code",
   "execution_count": 53,
   "id": "963d873f-fa9d-4026-8017-4305c3f5923c",
   "metadata": {},
   "outputs": [
    {
     "name": "stdout",
     "output_type": "stream",
     "text": [
      "78\n",
      "<class 'int'>\n"
     ]
    }
   ],
   "source": [
    "k = l[-3][-0]\n",
    "print(k)\n",
    "print(type(k))  # doubt here we are passing the negative values but order is not getting properly"
   ]
  },
  {
   "cell_type": "code",
   "execution_count": 60,
   "id": "d757822b-20ae-48e0-b779-a6c6fbb37eb9",
   "metadata": {},
   "outputs": [
    {
     "name": "stdout",
     "output_type": "stream",
     "text": [
      "[10, 20, True, (10+5j), 5.2, [45, 78], 'Hemanth', 'Pavan']\n",
      "[True, (10+5j), 5.2]\n",
      "<class 'list'>\n"
     ]
    }
   ],
   "source": [
    "l = [10,20,True,10+5j,5.2,[45,78],\"Hemanth\",\"Pavan\"]\n",
    "print(l)\n",
    "k = l[-6:-3:1]\n",
    "print(k)\n",
    "print(type(k))"
   ]
  },
  {
   "cell_type": "code",
   "execution_count": 65,
   "id": "4037f938-fb7b-4b06-9319-69e4323271dc",
   "metadata": {},
   "outputs": [
    {
     "name": "stdout",
     "output_type": "stream",
     "text": [
      "[10, 20, True, (10+5j), 5.2, [45, 78], 'Hemanth', 'Pavan']\n",
      "[True]\n",
      "<class 'list'>\n"
     ]
    }
   ],
   "source": [
    "l = [10,20,True,10+5j,5.2,[45,78],\"Hemanth\",\"Pavan\"]\n",
    "print(l)\n",
    "k = l[-6:-5:1]   \n",
    "print(k)\n",
    "print(type(k))"
   ]
  },
  {
   "cell_type": "code",
   "execution_count": 68,
   "id": "4de2c1e9-c812-47c8-9ae0-e932185f4767",
   "metadata": {},
   "outputs": [
    {
     "data": {
      "text/plain": [
       "'amsi'"
      ]
     },
     "execution_count": 68,
     "metadata": {},
     "output_type": "execute_result"
    }
   ],
   "source": [
    "n = \"Vamsi Krishna Javvadi\"\n",
    "n[1:5]               #[start:end:step]"
   ]
  },
  {
   "cell_type": "code",
   "execution_count": 69,
   "id": "70607d45-295f-4e0e-a475-8d406ce6abfd",
   "metadata": {},
   "outputs": [
    {
     "data": {
      "text/plain": [
       "'as'"
      ]
     },
     "execution_count": 69,
     "metadata": {},
     "output_type": "execute_result"
    }
   ],
   "source": [
    "n[1:5:2]    #[start:end:step]"
   ]
  },
  {
   "cell_type": "raw",
   "id": "30df1b5d-8c30-448b-828d-e012241cb8d5",
   "metadata": {},
   "source": [
    "n[1:5:3]    #[start:end:step]"
   ]
  },
  {
   "cell_type": "code",
   "execution_count": 71,
   "id": "985c37dd-75cf-4db6-98c1-7bb598b0c7a3",
   "metadata": {},
   "outputs": [
    {
     "data": {
      "text/plain": [
       "'ismaV anhsirK idavvaJ'"
      ]
     },
     "execution_count": 71,
     "metadata": {},
     "output_type": "execute_result"
    }
   ],
   "source": [
    "n = \"Javvadi Krishna Vamsi\"\n",
    "n[::-1]    # reverse the string "
   ]
  },
  {
   "cell_type": "code",
   "execution_count": 73,
   "id": "bebf0d43-dcb8-44fd-99a5-47ac33563d2a",
   "metadata": {},
   "outputs": [
    {
     "data": {
      "text/plain": [
       "' Va'"
      ]
     },
     "execution_count": 73,
     "metadata": {},
     "output_type": "execute_result"
    }
   ],
   "source": [
    "n = \"Javvadi Krishna Vamsi\"\n",
    "n[-6:-3:]     #[start:end:step]  if step is not mention then it will takes default value is 1 "
   ]
  },
  {
   "cell_type": "code",
   "execution_count": 74,
   "id": "d675ea78-1bb8-4fb6-82cd-83b820ae98fd",
   "metadata": {},
   "outputs": [
    {
     "data": {
      "text/plain": [
       "''"
      ]
     },
     "execution_count": 74,
     "metadata": {},
     "output_type": "execute_result"
    }
   ],
   "source": [
    "n[-3:-6:]  # Start value can't be grater than end value it is greater than start value retun empty response"
   ]
  },
  {
   "cell_type": "code",
   "execution_count": 77,
   "id": "3ca1284b-14d2-48b0-bbc9-ce328b896a4a",
   "metadata": {},
   "outputs": [
    {
     "data": {
      "text/plain": [
       "'mVa'"
      ]
     },
     "execution_count": 77,
     "metadata": {},
     "output_type": "execute_result"
    }
   ],
   "source": [
    "n[-3:-8:-2] #[start:end:step] "
   ]
  },
  {
   "cell_type": "code",
   "execution_count": 94,
   "id": "e947d253-c5b1-4ab5-a93e-8a798ccf94f4",
   "metadata": {},
   "outputs": [
    {
     "data": {
      "text/plain": [
       "[(10+5j), 5.2, [45, 78], 'Hemanth', 'Pavan']"
      ]
     },
     "execution_count": 94,
     "metadata": {},
     "output_type": "execute_result"
    }
   ],
   "source": [
    "l = [10,20,True,10+5j,5.2,[45,78],\"Hemanth\",\"Pavan\"]\n",
    "l[3::]"
   ]
  },
  {
   "cell_type": "code",
   "execution_count": 95,
   "id": "9760a380-ed09-4b7b-808a-6462eea0bc57",
   "metadata": {},
   "outputs": [
    {
     "data": {
      "text/plain": [
       "[(10+5j), 5.2, [45, 78], 'Hemanth', 'Pavan']"
      ]
     },
     "execution_count": 95,
     "metadata": {},
     "output_type": "execute_result"
    }
   ],
   "source": [
    "l = [10,20,True,10+5j,5.2,[45,78],\"Hemanth\",\"Pavan\"]\n",
    "l[3::1]"
   ]
  },
  {
   "cell_type": "code",
   "execution_count": 96,
   "id": "c29d1890-fa77-4098-bfb4-fc11c03514cc",
   "metadata": {},
   "outputs": [
    {
     "data": {
      "text/plain": [
       "[(10+5j), [45, 78], 'Pavan']"
      ]
     },
     "execution_count": 96,
     "metadata": {},
     "output_type": "execute_result"
    }
   ],
   "source": [
    "l = [10,20,True,10+5j,5.2,[45,78],\"Hemanth\",\"Pavan\"]\n",
    "l[3::2]"
   ]
  },
  {
   "cell_type": "code",
   "execution_count": 98,
   "id": "435b2008-7344-4fd8-914b-c7dccc06e39b",
   "metadata": {},
   "outputs": [
    {
     "name": "stdout",
     "output_type": "stream",
     "text": [
      "[10, 20, True, (10+5j), 41, [45, 78], 'Hemanth', 'Pavan']\n",
      "8\n"
     ]
    }
   ],
   "source": [
    "l = [10,20,True,10+5j,5.2,[45,78],\"Hemanth\",\"Pavan\"]\n",
    "l[4] = 41     # index of 4 we are placing the 41 value\n",
    "print(l)\n",
    "print(len(l))"
   ]
  },
  {
   "cell_type": "markdown",
   "id": "254b9205-a8ce-47ac-9eb2-bb1c31df7e67",
   "metadata": {},
   "source": [
    "1. by using while loop"
   ]
  },
  {
   "cell_type": "code",
   "execution_count": 114,
   "id": "d91c13ca-ae1e-4d35-a380-61e3a1ca6523",
   "metadata": {},
   "outputs": [
    {
     "name": "stdout",
     "output_type": "stream",
     "text": [
      "1\n",
      "2\n",
      "3\n",
      "42\n",
      "3\n",
      "5\n",
      "8\n",
      "49\n",
      "23\n",
      "90\n",
      "45\n"
     ]
    }
   ],
   "source": [
    "n = [1,2,3,42,3,5,8,49,23,90,45]\n",
    "i =0\n",
    "while i<len(n):\n",
    "     print(n[i])\n",
    "     i = i+1"
   ]
  },
  {
   "cell_type": "code",
   "execution_count": 105,
   "id": "89766ea7-c890-4337-8cf5-6dfc76387590",
   "metadata": {},
   "outputs": [
    {
     "name": "stdout",
     "output_type": "stream",
     "text": [
      "0\n",
      "1\n",
      "2\n",
      "3\n",
      "4\n",
      "5\n",
      "6\n",
      "7\n",
      "8\n",
      "9\n"
     ]
    }
   ],
   "source": [
    "n = [0,1,2,3,4,5,6,7,8,9]\n",
    "i = 0\n",
    "while i<len(n):\n",
    "    print(n[i])\n",
    "    i = i+1"
   ]
  },
  {
   "cell_type": "code",
   "execution_count": 119,
   "id": "20793052-7ae8-44dc-a55d-1252c48590cd",
   "metadata": {},
   "outputs": [
    {
     "name": "stdout",
     "output_type": "stream",
     "text": [
      "0\n",
      "2\n",
      "4\n",
      "6\n",
      "8\n",
      "10\n",
      "12\n",
      "20\n",
      "22\n"
     ]
    }
   ],
   "source": [
    "n = [0,1,2,3,4,5,6,7,8,9,10,12,17,15,20,22,23]\n",
    "for e in n:\n",
    "     if e%2 == 0:\n",
    "           print(e)\n",
    "     "
   ]
  },
  {
   "cell_type": "markdown",
   "id": "1e712461-6339-4593-bf3c-eb2244d5e1b5",
   "metadata": {},
   "source": [
    "4. to display elements in index wise"
   ]
  },
  {
   "cell_type": "code",
   "execution_count": 125,
   "id": "87727ac2-d15f-4a17-9b43-d486c442052b",
   "metadata": {},
   "outputs": [
    {
     "name": "stdout",
     "output_type": "stream",
     "text": [
      "3\n",
      "Vamsi Positive Index value is :  0 Negative Index Value is :  -3\n",
      "Priya Positive Index value is :  1 Negative Index Value is :  -2\n",
      "javvadi Positive Index value is :  2 Negative Index Value is :  -1\n"
     ]
    }
   ],
   "source": [
    "n = [\"Vamsi\",\"Priya\",\"javvadi\"]\n",
    "a = len(n)\n",
    "print(a)\n",
    "for e in range(a):\n",
    "     print(n[e],\"Positive Index value is : \",e,\"Negative Index Value is : \",e-a)"
   ]
  },
  {
   "cell_type": "markdown",
   "id": "4a15cc57-07c7-4cfe-b353-4078a398c2f6",
   "metadata": {},
   "source": [
    "To get info about list"
   ]
  },
  {
   "cell_type": "code",
   "execution_count": null,
   "id": "ab491a9c-3981-4708-b350-be5896197873",
   "metadata": {},
   "outputs": [],
   "source": [
    "n = [1,2,3,42,3,5,8,49,23,90,45,2]\n",
    "print(len(n))\n",
    "print(n.count(2))\n",
    "n.count(2)\n",
    "n.index(2)\n",
    "print(n.index(8))"
   ]
  },
  {
   "cell_type": "markdown",
   "id": "d2821d4a-7cae-4eff-bc0f-b8ff3a55ca7b",
   "metadata": {},
   "source": [
    "Manipulating the elements of list"
   ]
  },
  {
   "cell_type": "code",
   "execution_count": 138,
   "id": "0f49fe5d-692d-4642-9d3c-484b5f628726",
   "metadata": {},
   "outputs": [
    {
     "name": "stdout",
     "output_type": "stream",
     "text": [
      "[10, 20, True, (10+5j), 5.2, [45, 78], 'Hemanth', 'Pavan']\n"
     ]
    }
   ],
   "source": [
    "l = [10,20,True,10+5j,5.2,[45,78],\"Hemanth\",\"Pavan\"]\n",
    "print(l)"
   ]
  },
  {
   "cell_type": "code",
   "execution_count": 139,
   "id": "d093bfc6-8e14-488b-997c-e1d3c8183915",
   "metadata": {},
   "outputs": [],
   "source": [
    "l.append(False)    # Appending the value in list "
   ]
  },
  {
   "cell_type": "code",
   "execution_count": 140,
   "id": "97108dc7-b705-42c9-a655-9c10cd879acb",
   "metadata": {},
   "outputs": [
    {
     "name": "stdout",
     "output_type": "stream",
     "text": [
      "[10, 20, True, (10+5j), 5.2, [45, 78], 'Hemanth', 'Pavan', False]\n"
     ]
    }
   ],
   "source": [
    "print(l)"
   ]
  },
  {
   "cell_type": "code",
   "execution_count": 150,
   "id": "a812dde3-25a4-46e3-976a-deb17b67850d",
   "metadata": {},
   "outputs": [
    {
     "data": {
      "text/plain": [
       "[0, 2, 4, 6, 8]"
      ]
     },
     "execution_count": 150,
     "metadata": {},
     "output_type": "execute_result"
    }
   ],
   "source": [
    "listVal = []\n",
    "for i in range(0,10):\n",
    "    if i%2 == 0:\n",
    "        listVal.append(i)\n",
    "listVal       # space differenec in below functinality"
   ]
  },
  {
   "cell_type": "code",
   "execution_count": 151,
   "id": "4b9f47e4-0fe9-4e97-a03b-2ed0d85a9e5f",
   "metadata": {},
   "outputs": [
    {
     "name": "stdout",
     "output_type": "stream",
     "text": [
      "[0]\n",
      "[0, 2]\n",
      "[0, 2, 4]\n",
      "[0, 2, 4, 6]\n",
      "[0, 2, 4, 6, 8]\n"
     ]
    }
   ],
   "source": [
    "listVal = []\n",
    "for i in range(0,10):\n",
    "    if i%2 == 0:\n",
    "        listVal.append(i)\n",
    "        print(listVal)"
   ]
  },
  {
   "cell_type": "markdown",
   "id": "a27becef-dc6f-44c9-8ba5-1f3bab264288",
   "metadata": {},
   "source": [
    "Insert the value by using the index"
   ]
  },
  {
   "cell_type": "code",
   "execution_count": 153,
   "id": "a59adca3-07ab-4f08-9a58-ee5b57a5e6ce",
   "metadata": {},
   "outputs": [
    {
     "data": {
      "text/plain": [
       "[10, 41, 20, True, (10+5j), 5.2, [45, 78], 'Hemanth', 'Pavan']"
      ]
     },
     "execution_count": 153,
     "metadata": {},
     "output_type": "execute_result"
    }
   ],
   "source": [
    "l = [10,20,True,10+5j,5.2,[45,78],\"Hemanth\",\"Pavan\"]\n",
    "l.insert(1,41)        # based on Index value we are inserting the value by using insert method\n",
    "l"
   ]
  },
  {
   "cell_type": "code",
   "execution_count": 155,
   "id": "1bc35b8d-2c58-48d5-b329-5a89fa6a05a1",
   "metadata": {},
   "outputs": [
    {
     "data": {
      "text/plain": [
       "[10, 20, True, (10+5j), 5.2, [45, 78], 'Hemanth', 'Pavan', 'Javvadi']"
      ]
     },
     "execution_count": 155,
     "metadata": {},
     "output_type": "execute_result"
    }
   ],
   "source": [
    "l = [10,20,True,10+5j,5.2,[45,78],\"Hemanth\",\"Pavan\"]\n",
    "l.insert(9,\"Javvadi\")        # based on Index value we are inserting the value by using insert method\n",
    "l"
   ]
  },
  {
   "cell_type": "markdown",
   "id": "a5e0a1bf-811a-473b-8256-659e54b8246c",
   "metadata": {},
   "source": [
    "Note: If the specified index is greater than max index then element will be inserted at last position. If the specified index is smaller than min index then element will be inserted at first position."
   ]
  },
  {
   "cell_type": "code",
   "execution_count": 160,
   "id": "84978c78-7208-4fe9-ae7f-acac2e867e75",
   "metadata": {},
   "outputs": [
    {
     "data": {
      "text/plain": [
       "['Javvadi', 10, 20, True, (10+5j), 5.2, [45, 78], 'Hemanth', 'Pavan']"
      ]
     },
     "execution_count": 160,
     "metadata": {},
     "output_type": "execute_result"
    }
   ],
   "source": [
    "   l = [10,20,True,10+5j,5.2,[45,78],\"Hemanth\",\"Pavan\"]\n",
    "l.insert(-0,\"Javvadi\")        # based on Index value we are inserting the value by using insert method\n",
    "l "
   ]
  },
  {
   "cell_type": "code",
   "execution_count": 162,
   "id": "43515132-0978-4c3f-a412-f0179645d57f",
   "metadata": {},
   "outputs": [
    {
     "data": {
      "text/plain": [
       "[10, 20, True, (10+5j), 5.2, [45, 78], 'Hemanth', 'Javvadi', 'Pavan']"
      ]
     },
     "execution_count": 162,
     "metadata": {},
     "output_type": "execute_result"
    }
   ],
   "source": [
    "l = [10,20,True,10+5j,5.2,[45,78],\"Hemanth\",\"Pavan\"]\n",
    "l.insert(-1,\"Javvadi\")        # based on Index value we are inserting the value by using insert method\n",
    "l "
   ]
  },
  {
   "cell_type": "markdown",
   "id": "c92dc115-5029-4e1a-b4a3-5f34abbf571a",
   "metadata": {},
   "source": [
    "diff between append() and insert()\n",
    "\n",
    "*In List when we add any element by using append() it will come in last i.e. it will be last element. \n",
    "\n",
    "*In List we can insert any element in particular index number \n",
    "\n",
    "\n",
    "extend()\n",
    "\n",
    "to add all items of one list to another list"
   ]
  },
  {
   "cell_type": "code",
   "execution_count": 165,
   "id": "8c2a319e-ade5-47d1-968e-2c618f878570",
   "metadata": {},
   "outputs": [
    {
     "ename": "TypeError",
     "evalue": "'int' object is not iterable",
     "output_type": "error",
     "traceback": [
      "\u001b[1;31m---------------------------------------------------------------------------\u001b[0m",
      "\u001b[1;31mTypeError\u001b[0m                                 Traceback (most recent call last)",
      "Cell \u001b[1;32mIn[165], line 2\u001b[0m\n\u001b[0;32m      1\u001b[0m k \u001b[38;5;241m=\u001b[39m [\u001b[38;5;241m10\u001b[39m, \u001b[38;5;241m20\u001b[39m, \u001b[38;5;28;01mTrue\u001b[39;00m, (\u001b[38;5;241m10\u001b[39m\u001b[38;5;241m+\u001b[39m\u001b[38;5;241m5\u001b[39mj), \u001b[38;5;241m5.2\u001b[39m, [\u001b[38;5;241m45\u001b[39m, \u001b[38;5;241m78\u001b[39m], \u001b[38;5;124m'\u001b[39m\u001b[38;5;124mHemanth\u001b[39m\u001b[38;5;124m'\u001b[39m, \u001b[38;5;124m'\u001b[39m\u001b[38;5;124mJavvadi\u001b[39m\u001b[38;5;124m'\u001b[39m, \u001b[38;5;124m'\u001b[39m\u001b[38;5;124mPavan\u001b[39m\u001b[38;5;124m'\u001b[39m]\n\u001b[1;32m----> 2\u001b[0m \u001b[43mk\u001b[49m\u001b[38;5;241;43m.\u001b[39;49m\u001b[43mextend\u001b[49m\u001b[43m(\u001b[49m\u001b[38;5;241;43m41\u001b[39;49m\u001b[43m)\u001b[49m\n",
      "\u001b[1;31mTypeError\u001b[0m: 'int' object is not iterable"
     ]
    }
   ],
   "source": [
    "k = [10, 20, True, (10+5j), 5.2, [45, 78], 'Hemanth', 'Javvadi', 'Pavan']\n",
    "k.extend(41)      # dount we trying to extend the integer value but it is showing error y\n",
    "                  # Inside the list you have to pass the any valu i.e int float complex etc.,"
   ]
  },
  {
   "cell_type": "code",
   "execution_count": 198,
   "id": "d07e909d-5da8-47d3-829a-9841e7009fc9",
   "metadata": {},
   "outputs": [
    {
     "data": {
      "text/plain": [
       "[10, 20, True, (10+5j), 5.2, [45, 78], 'Hemanth', 'Javvadi', 'Pavan', 'h', 'i']"
      ]
     },
     "execution_count": 198,
     "metadata": {},
     "output_type": "execute_result"
    }
   ],
   "source": [
    "k = [10, 20, True, (10+5j), 5.2, [45, 78], 'Hemanth', 'Javvadi', 'Pavan']\n",
    "k.extend(\"hi\")       # if we are trying to add string \n",
    "k"
   ]
  },
  {
   "cell_type": "code",
   "execution_count": 197,
   "id": "9bd4aeb8-5401-4256-a40b-7a56771e70d8",
   "metadata": {},
   "outputs": [
    {
     "data": {
      "text/plain": [
       "[]"
      ]
     },
     "execution_count": 197,
     "metadata": {},
     "output_type": "execute_result"
    }
   ],
   "source": [
    "k"
   ]
  },
  {
   "cell_type": "markdown",
   "id": "a4a9886c-3d34-483f-8e29-8d9fa2e54479",
   "metadata": {},
   "source": [
    "k.extend([\"Pandu\",\"Priya\"])\n",
    "k"
   ]
  },
  {
   "cell_type": "code",
   "execution_count": 217,
   "id": "015a962d-370b-4415-a72f-bdf14c33e78e",
   "metadata": {},
   "outputs": [],
   "source": [
    "k = [10, 20, True, (10+5j), 5.2, [45, 78], 'Hemanth', 'Javvadi', 'Pavan']\n"
   ]
  },
  {
   "cell_type": "code",
   "execution_count": 4,
   "id": "36a97901-22bd-4293-a428-c2af096e6361",
   "metadata": {},
   "outputs": [
    {
     "data": {
      "text/plain": [
       "[10,\n",
       " 20,\n",
       " True,\n",
       " (10+5j),\n",
       " 5.2,\n",
       " [45, 78],\n",
       " 'Hemanth',\n",
       " 'Javvadi',\n",
       " 'Pavan',\n",
       " 'Vamsi',\n",
       " 'Lochana']"
      ]
     },
     "execution_count": 4,
     "metadata": {},
     "output_type": "execute_result"
    }
   ],
   "source": [
    "k = [10, 20, True, (10+5j), 5.2, [45, 78], 'Hemanth', 'Javvadi', 'Pavan']\n",
    "k.extend([\"Vamsi\",\"Lochana\"])\n",
    "k"
   ]
  },
  {
   "cell_type": "markdown",
   "id": "c8bcbe6d-a17c-40c1-a986-608d93ef7bdd",
   "metadata": {},
   "source": [
    "remove()\n",
    "\n",
    "*We can use this function to remove specified item from the list.If the item present multiple times then only first occurrence will be removed."
   ]
  },
  {
   "cell_type": "code",
   "execution_count": 8,
   "id": "f41cddc4-3de2-46a4-9e9b-f44fc295de0f",
   "metadata": {},
   "outputs": [
    {
     "data": {
      "text/plain": [
       "[10, 20, True, (10+5j), 5.2, [45, 78], 'Hemanth', 'Javvadi', 'Pavan', 'Vamsi']"
      ]
     },
     "execution_count": 8,
     "metadata": {},
     "output_type": "execute_result"
    }
   ],
   "source": [
    "k.remove(\"Lochana\")\n",
    "k"
   ]
  },
  {
   "cell_type": "code",
   "execution_count": 9,
   "id": "871dca1b-3696-4154-a5f9-ea140d719dad",
   "metadata": {},
   "outputs": [
    {
     "data": {
      "text/plain": [
       "[10, 20, True, (10+5j), 5.2, [45, 78], 'Hemanth', 'Javvadi', 'Pavan']"
      ]
     },
     "execution_count": 9,
     "metadata": {},
     "output_type": "execute_result"
    }
   ],
   "source": [
    "k.remove(\"Vamsi\")\n",
    "k"
   ]
  },
  {
   "cell_type": "code",
   "execution_count": 10,
   "id": "6cb69d46-8c05-4097-89fe-679492752974",
   "metadata": {},
   "outputs": [
    {
     "data": {
      "text/plain": [
       "[10, 20, True, (10+5j), [45, 78], 'Hemanth', 'Javvadi', 'Pavan']"
      ]
     },
     "execution_count": 10,
     "metadata": {},
     "output_type": "execute_result"
    }
   ],
   "source": [
    "k.remove(5.2)\n",
    "k"
   ]
  },
  {
   "cell_type": "code",
   "execution_count": 11,
   "id": "436918e6-1f4f-4bea-a61d-134c962c0a62",
   "metadata": {},
   "outputs": [
    {
     "data": {
      "text/plain": [
       "[10, 20, True, [45, 78], 'Hemanth', 'Javvadi', 'Pavan']"
      ]
     },
     "execution_count": 11,
     "metadata": {},
     "output_type": "execute_result"
    }
   ],
   "source": [
    "k.remove(10+5j)\n",
    "k"
   ]
  },
  {
   "cell_type": "code",
   "execution_count": 12,
   "id": "22661206-ac6d-49ed-a9b5-2a5a20a2c19a",
   "metadata": {},
   "outputs": [
    {
     "ename": "TypeError",
     "evalue": "list.remove() takes exactly one argument (2 given)",
     "output_type": "error",
     "traceback": [
      "\u001b[1;31m---------------------------------------------------------------------------\u001b[0m",
      "\u001b[1;31mTypeError\u001b[0m                                 Traceback (most recent call last)",
      "Cell \u001b[1;32mIn[12], line 1\u001b[0m\n\u001b[1;32m----> 1\u001b[0m \u001b[43mk\u001b[49m\u001b[38;5;241;43m.\u001b[39;49m\u001b[43mremove\u001b[49m\u001b[43m(\u001b[49m\u001b[38;5;241;43m45\u001b[39;49m\u001b[43m,\u001b[49m\u001b[38;5;241;43m78\u001b[39;49m\u001b[43m)\u001b[49m\n\u001b[0;32m      2\u001b[0m k\n",
      "\u001b[1;31mTypeError\u001b[0m: list.remove() takes exactly one argument (2 given)"
     ]
    }
   ],
   "source": [
    "k.remove(45,78)\n",
    "k      # insdie the list we are trying to remove"
   ]
  },
  {
   "cell_type": "code",
   "execution_count": 13,
   "id": "43006519-cdd8-45b0-87ff-18531509d821",
   "metadata": {},
   "outputs": [
    {
     "data": {
      "text/plain": [
       "[10, 20, True, 'Hemanth', 'Javvadi', 'Pavan']"
      ]
     },
     "execution_count": 13,
     "metadata": {},
     "output_type": "execute_result"
    }
   ],
   "source": [
    "k.remove([45,78])\n",
    "k  "
   ]
  },
  {
   "cell_type": "markdown",
   "id": "591126b4-331b-483f-8b55-8a551721b439",
   "metadata": {},
   "source": [
    "\n",
    "pop() function\n",
    "\n",
    "* It removes and returns the last element of the list.\n",
    "* This is only function which manipulates list and returns some element.\n"
   ]
  },
  {
   "cell_type": "code",
   "execution_count": 14,
   "id": "4e28f205-4e8a-4ded-8912-316de54d2b6c",
   "metadata": {},
   "outputs": [
    {
     "data": {
      "text/plain": [
       "[10, 20, True, 'Hemanth', 'Javvadi', 'Pavan']"
      ]
     },
     "execution_count": 14,
     "metadata": {},
     "output_type": "execute_result"
    }
   ],
   "source": [
    "k"
   ]
  },
  {
   "cell_type": "code",
   "execution_count": 15,
   "id": "f5579266-6c4c-4aec-9504-94b2f7c62d92",
   "metadata": {},
   "outputs": [
    {
     "data": {
      "text/plain": [
       "[10, 20, True, 'Hemanth', 'Javvadi']"
      ]
     },
     "execution_count": 15,
     "metadata": {},
     "output_type": "execute_result"
    }
   ],
   "source": [
    "k.pop()\n",
    "k"
   ]
  },
  {
   "cell_type": "code",
   "execution_count": 21,
   "id": "db6639eb-ad00-4427-bf31-e9fab71299fb",
   "metadata": {},
   "outputs": [
    {
     "ename": "TypeError",
     "evalue": "'str' object cannot be interpreted as an integer",
     "output_type": "error",
     "traceback": [
      "\u001b[1;31m---------------------------------------------------------------------------\u001b[0m",
      "\u001b[1;31mTypeError\u001b[0m                                 Traceback (most recent call last)",
      "Cell \u001b[1;32mIn[21], line 1\u001b[0m\n\u001b[1;32m----> 1\u001b[0m \u001b[43mk\u001b[49m\u001b[38;5;241;43m.\u001b[39;49m\u001b[43mpop\u001b[49m\u001b[43m(\u001b[49m\u001b[38;5;124;43m\"\u001b[39;49m\u001b[38;5;124;43mHemanth\u001b[39;49m\u001b[38;5;124;43m\"\u001b[39;49m\u001b[43m)\u001b[49m\n",
      "\u001b[1;31mTypeError\u001b[0m: 'str' object cannot be interpreted as an integer"
     ]
    }
   ],
   "source": [
    "k.pop(\"Hemanth\")    # Str value is not pop "
   ]
  },
  {
   "cell_type": "code",
   "execution_count": 23,
   "id": "7a5cfeed-d025-4132-a0c8-e730cc77912c",
   "metadata": {},
   "outputs": [
    {
     "data": {
      "text/plain": [
       "[10, 'Hemanth', 'Javvadi']"
      ]
     },
     "execution_count": 23,
     "metadata": {},
     "output_type": "execute_result"
    }
   ],
   "source": [
    "k.pop(True)\n",
    "k"
   ]
  },
  {
   "cell_type": "code",
   "execution_count": 25,
   "id": "e1bc5c88-cce5-40e0-a04a-536769926287",
   "metadata": {},
   "outputs": [
    {
     "data": {
      "text/plain": [
       "20"
      ]
     },
     "execution_count": 25,
     "metadata": {},
     "output_type": "execute_result"
    }
   ],
   "source": [
    "j = [10, 20, True, 'Hemanth', 'Javvadi']\n",
    "j.pop(True)     # Here I'm passing the boolean Value but pop is 20 y"
   ]
  },
  {
   "cell_type": "code",
   "execution_count": 26,
   "id": "c9801751-9bda-4017-934e-f6de67731a17",
   "metadata": {},
   "outputs": [
    {
     "data": {
      "text/plain": [
       "[10, True, 'Hemanth', 'Javvadi']"
      ]
     },
     "execution_count": 26,
     "metadata": {},
     "output_type": "execute_result"
    }
   ],
   "source": [
    "j"
   ]
  },
  {
   "cell_type": "code",
   "execution_count": 28,
   "id": "3cdc3637-ee28-49fb-9256-e9d4a98d3fb0",
   "metadata": {},
   "outputs": [
    {
     "data": {
      "text/plain": [
       "True"
      ]
     },
     "execution_count": 28,
     "metadata": {},
     "output_type": "execute_result"
    }
   ],
   "source": [
    "j.pop(True)"
   ]
  },
  {
   "cell_type": "code",
   "execution_count": 29,
   "id": "5e647f99-6d86-4988-8cd3-505fbd3b38c0",
   "metadata": {},
   "outputs": [
    {
     "data": {
      "text/plain": [
       "[10, 'Hemanth', 'Javvadi']"
      ]
     },
     "execution_count": 29,
     "metadata": {},
     "output_type": "execute_result"
    }
   ],
   "source": [
    "j"
   ]
  },
  {
   "cell_type": "code",
   "execution_count": null,
   "id": "bcf65e72-2bbf-4e7b-8ae4-a6b50faa8e59",
   "metadata": {},
   "outputs": [],
   "source": []
  },
  {
   "cell_type": "markdown",
   "id": "1befb702-3ff9-4023-b120-30b4476e8d31",
   "metadata": {},
   "source": [
    "Ordering elements of list"
   ]
  },
  {
   "cell_type": "code",
   "execution_count": 31,
   "id": "7c1bd4a3-5df4-4c62-b9ee-a5248af410a5",
   "metadata": {},
   "outputs": [
    {
     "name": "stdout",
     "output_type": "stream",
     "text": [
      "[40, 30, 20, 10]\n"
     ]
    }
   ],
   "source": [
    "n = [10,20,30,40]\n",
    "n.reverse()\n",
    "print(n)"
   ]
  },
  {
   "cell_type": "code",
   "execution_count": 32,
   "id": "5ba2a8bd-97c9-4a5f-8380-b3758ea8eb8c",
   "metadata": {},
   "outputs": [
    {
     "data": {
      "text/plain": [
       "[1, 2, 3, 5, 6, 7]"
      ]
     },
     "execution_count": 32,
     "metadata": {},
     "output_type": "execute_result"
    }
   ],
   "source": [
    "s = [3,2,1,7,5,6]\n",
    "s.sort()\n",
    "s"
   ]
  },
  {
   "cell_type": "code",
   "execution_count": 33,
   "id": "30f48470-3eaf-4f1b-9413-2b1ccc63022c",
   "metadata": {},
   "outputs": [
    {
     "data": {
      "text/plain": [
       "['apple', 'boy', 'elephant']"
      ]
     },
     "execution_count": 33,
     "metadata": {},
     "output_type": "execute_result"
    }
   ],
   "source": [
    "f = [\"boy\",\"apple\",\"elephant\"]\n",
    "f.sort()\n",
    "f"
   ]
  },
  {
   "cell_type": "markdown",
   "id": "284508ca-e4c3-4565-8fcf-8d2432d7778a",
   "metadata": {},
   "source": [
    "Note: To use sort() function, compulsory list should contain only homogeneous elements. otherwise we will get TypeError"
   ]
  },
  {
   "cell_type": "code",
   "execution_count": 43,
   "id": "5b074089-fd0a-4eb8-b857-87376c6c4607",
   "metadata": {},
   "outputs": [
    {
     "ename": "TypeError",
     "evalue": "'<' not supported between instances of 'complex' and 'float'",
     "output_type": "error",
     "traceback": [
      "\u001b[1;31m---------------------------------------------------------------------------\u001b[0m",
      "\u001b[1;31mTypeError\u001b[0m                                 Traceback (most recent call last)",
      "Cell \u001b[1;32mIn[43], line 2\u001b[0m\n\u001b[0;32m      1\u001b[0m f \u001b[38;5;241m=\u001b[39m [\u001b[38;5;241m10\u001b[39m,\u001b[38;5;241m20.30\u001b[39m,\u001b[38;5;241m10\u001b[39m\u001b[38;5;241m+\u001b[39m\u001b[38;5;241m2\u001b[39mj,\u001b[38;5;124m\"\u001b[39m\u001b[38;5;124mboy\u001b[39m\u001b[38;5;124m\"\u001b[39m,\u001b[38;5;124m\"\u001b[39m\u001b[38;5;124mapple\u001b[39m\u001b[38;5;124m\"\u001b[39m,\u001b[38;5;124m\"\u001b[39m\u001b[38;5;124melephant\u001b[39m\u001b[38;5;124m\"\u001b[39m]\n\u001b[1;32m----> 2\u001b[0m \u001b[43mf\u001b[49m\u001b[38;5;241;43m.\u001b[39;49m\u001b[43msort\u001b[49m\u001b[43m(\u001b[49m\u001b[43m)\u001b[49m\n\u001b[0;32m      3\u001b[0m f                \u001b[38;5;66;03m#TypeError: '<' not supported between instances of 'complex' and 'float'\u001b[39;00m\n",
      "\u001b[1;31mTypeError\u001b[0m: '<' not supported between instances of 'complex' and 'float'"
     ]
    }
   ],
   "source": [
    "f = [10,20.30,10+2j,\"boy\",\"apple\",\"elephant\"]\n",
    "f.sort()\n",
    "f                #TypeError: '<' not supported between instances of 'complex' and 'float'"
   ]
  },
  {
   "cell_type": "markdown",
   "id": "5eafd65a-f4ff-4d0e-aa2f-f11eef24d451",
   "metadata": {},
   "source": [
    "To sort in reverse of default natural sorting order:\n",
    "We can sort according to reverse of default natural sorting order by using reverse=True argument."
   ]
  },
  {
   "cell_type": "code",
   "execution_count": 44,
   "id": "a9043add-33b3-43f2-8309-d29011f611f5",
   "metadata": {},
   "outputs": [
    {
     "data": {
      "text/plain": [
       "[10, 20, 30, 40]"
      ]
     },
     "execution_count": 44,
     "metadata": {},
     "output_type": "execute_result"
    }
   ],
   "source": [
    "n = [40,10,30,20]\n",
    "n.sort()\n",
    "n"
   ]
  },
  {
   "cell_type": "code",
   "execution_count": 45,
   "id": "72b53f58-a218-4b7b-92b2-028c2457491a",
   "metadata": {},
   "outputs": [
    {
     "data": {
      "text/plain": [
       "[40, 30, 20, 10]"
      ]
     },
     "execution_count": 45,
     "metadata": {},
     "output_type": "execute_result"
    }
   ],
   "source": [
    "n = [40,10,30,20]\n",
    "n.sort(reverse=True)\n",
    "n"
   ]
  },
  {
   "cell_type": "code",
   "execution_count": 46,
   "id": "1a03197c-569f-4961-9c26-e3e709df96bf",
   "metadata": {},
   "outputs": [
    {
     "data": {
      "text/plain": [
       "[10, 20, 30, 40]"
      ]
     },
     "execution_count": 46,
     "metadata": {},
     "output_type": "execute_result"
    }
   ],
   "source": [
    "n = [40,10,30,20]\n",
    "n.sort(reverse=False)\n",
    "n"
   ]
  },
  {
   "cell_type": "code",
   "execution_count": 48,
   "id": "00815b49-dbea-43c4-9346-7d67fabd938d",
   "metadata": {},
   "outputs": [
    {
     "data": {
      "text/plain": [
       "[40, 30, 20, 10]"
      ]
     },
     "execution_count": 48,
     "metadata": {},
     "output_type": "execute_result"
    }
   ],
   "source": [
    "n.sort(reverse=True)\n",
    "n"
   ]
  },
  {
   "cell_type": "code",
   "execution_count": 49,
   "id": "8a95477c-9646-42fd-9f9d-e2de56e7b3fc",
   "metadata": {},
   "outputs": [
    {
     "data": {
      "text/plain": [
       "[10, 20, 30, 40]"
      ]
     },
     "execution_count": 49,
     "metadata": {},
     "output_type": "execute_result"
    }
   ],
   "source": [
    "n.sort(reverse=False)\n",
    "n"
   ]
  },
  {
   "cell_type": "code",
   "execution_count": 50,
   "id": "39210ec0-1487-45f2-bed8-9695eee75dca",
   "metadata": {},
   "outputs": [
    {
     "data": {
      "text/plain": [
       "[1, 2, 3, 1, 2, 3, 1, 2, 3]"
      ]
     },
     "execution_count": 50,
     "metadata": {},
     "output_type": "execute_result"
    }
   ],
   "source": [
    "a=[1,2,3]\n",
    "a*3"
   ]
  },
  {
   "cell_type": "code",
   "execution_count": 51,
   "id": "81232f7d-8da0-4988-a045-bb97cbe4e43f",
   "metadata": {},
   "outputs": [
    {
     "data": {
      "text/plain": [
       "False"
      ]
     },
     "execution_count": 51,
     "metadata": {},
     "output_type": "execute_result"
    }
   ],
   "source": [
    "a=[1,2,3]\n",
    "b=[4,5,6]\n",
    "a==b"
   ]
  },
  {
   "cell_type": "code",
   "execution_count": 52,
   "id": "5e6b941f-ad99-4cad-80d4-fd684ad78ef3",
   "metadata": {},
   "outputs": [
    {
     "data": {
      "text/plain": [
       "True"
      ]
     },
     "execution_count": 52,
     "metadata": {},
     "output_type": "execute_result"
    }
   ],
   "source": [
    "a<=b"
   ]
  },
  {
   "cell_type": "markdown",
   "id": "1367befb-9542-4620-9c89-c729af537ca2",
   "metadata": {},
   "source": [
    "Membership Operator\n",
    "We can check whether element is a member of the list or not by using memebership operators.\n"
   ]
  },
  {
   "cell_type": "code",
   "execution_count": 53,
   "id": "1220ea77-b5c0-4e22-aa70-f9be20fc3fd9",
   "metadata": {},
   "outputs": [
    {
     "name": "stdout",
     "output_type": "stream",
     "text": [
      "True\n",
      "True\n"
     ]
    }
   ],
   "source": [
    "n = [10,20,30,40,50]\n",
    "print(10 in n)\n",
    "print(60 not in n)"
   ]
  },
  {
   "cell_type": "markdown",
   "id": "d6d0ff51-88a6-4891-a6b4-144175834b56",
   "metadata": {},
   "source": [
    "--List comprehensions--\n",
    "\n",
    "*It is very easy and compact way of creating list objects from any iterable objects(like list,tuple,dictionary,range etc) based on some condition."
   ]
  },
  {
   "cell_type": "code",
   "execution_count": 57,
   "id": "d4f12caa-f9e0-4bae-bacc-ec4deae14b8c",
   "metadata": {},
   "outputs": [
    {
     "name": "stdout",
     "output_type": "stream",
     "text": [
      "1,2,3,4,5,6,7,8,9,10,"
     ]
    }
   ],
   "source": [
    "for i in range(1,11):\n",
    "    print(i,end=\",\")"
   ]
  },
  {
   "cell_type": "code",
   "execution_count": 59,
   "id": "7575aefb-65d5-462c-b197-eed8b91d7056",
   "metadata": {},
   "outputs": [
    {
     "data": {
      "text/plain": [
       "[1, 4, 9, 16, 25, 36, 49, 64, 81, 100]"
      ]
     },
     "execution_count": 59,
     "metadata": {},
     "output_type": "execute_result"
    }
   ],
   "source": [
    "a = [i*i for i in range(1,11)]\n",
    "a                              #True Value Condition "
   ]
  },
  {
   "cell_type": "code",
   "execution_count": 60,
   "id": "04e922a6-9cb8-4850-8155-ba2fe01abc76",
   "metadata": {},
   "outputs": [
    {
     "data": {
      "text/plain": [
       "[2, 4, 6, 8, 10, 12, 14, 16, 18, 20]"
      ]
     },
     "execution_count": 60,
     "metadata": {},
     "output_type": "execute_result"
    }
   ],
   "source": [
    "a = [2*i for i in range(1,11)]\n",
    "a  "
   ]
  },
  {
   "cell_type": "code",
   "execution_count": 66,
   "id": "34bd52af-40a1-4441-913b-f8f0dd9aa31a",
   "metadata": {},
   "outputs": [
    {
     "data": {
      "text/plain": [
       "[2, 4, 6, 8, 10, 12, 14, 16, 18, 20]"
      ]
     },
     "execution_count": 66,
     "metadata": {},
     "output_type": "execute_result"
    }
   ],
   "source": [
    "s = [m for m in a if m%2 == 0]\n",
    "s"
   ]
  },
  {
   "cell_type": "code",
   "execution_count": 67,
   "id": "68840ff0-74e4-4f83-babe-085f7822e03e",
   "metadata": {},
   "outputs": [
    {
     "name": "stdout",
     "output_type": "stream",
     "text": [
      "['C', 'N', 'B', 'M', 'P']\n"
     ]
    }
   ],
   "source": [
    "words=[\"Chiranjeevi\",\"Nagarjuna\",\"Balayya\",\"Mahesh\",\"Pawan\"]\n",
    "l = [w[0] for w in words]\n",
    "print(l)"
   ]
  },
  {
   "cell_type": "code",
   "execution_count": 68,
   "id": "a0c66bb3-d801-4dad-b3f7-cb3942ecbea1",
   "metadata": {},
   "outputs": [
    {
     "name": "stdout",
     "output_type": "stream",
     "text": [
      "objects in list1: [10, 20]\n",
      "objects in list2: [30, 40]\n"
     ]
    }
   ],
   "source": [
    "num1=[10,20,30,40]\n",
    "num2=[30,40,50,60]\n",
    "l1 = [n for n in num1 if n not in num2]\n",
    "print(\"objects in list1:\",l1)\n",
    "l2 = [n for n in num1 if n in num2]\n",
    "print(\"objects in list2:\",l2)"
   ]
  },
  {
   "cell_type": "code",
   "execution_count": 73,
   "id": "dd82a28e-850f-4aff-91cc-fb95c88a08c1",
   "metadata": {},
   "outputs": [
    {
     "name": "stdout",
     "output_type": "stream",
     "text": [
      "[['EVERY', 5], ['DOG', 3], ['HAS', 3], ['ITS', 3], ['DAY', 3]]\n"
     ]
    }
   ],
   "source": [
    "\n",
    "\n",
    "word=\"every dog has its day\".split()\n",
    "l3 = [[w.upper(),len(w)] for w in word]\n",
    "print(l3)"
   ]
  },
  {
   "cell_type": "code",
   "execution_count": 77,
   "id": "01cd0df9-86f5-4240-9987-9d2ad4ca92b7",
   "metadata": {},
   "outputs": [
    {
     "name": "stdout",
     "output_type": "stream",
     "text": [
      "[['IM', 2], ['VAMSI', 5], ['JAVVADI', 7], ['FROM', 4], ['BHIMAVARAM', 10], ['WORKING', 7], ['AS', 2], ['DEVELOPER', 9]]\n"
     ]
    }
   ],
   "source": [
    "word = \"Im vamsi Javvadi from Bhimavaram working as developer\".split()\n",
    "x = [[w.upper(),len(w)] for w in word]\n",
    "print(x)"
   ]
  },
  {
   "cell_type": "code",
   "execution_count": 90,
   "id": "86f063c5-5d82-4489-95d3-d4d7bd20748c",
   "metadata": {},
   "outputs": [
    {
     "name": "stdin",
     "output_type": "stream",
     "text": [
      "Enter the word here :  Vamsi\n"
     ]
    },
    {
     "name": "stdout",
     "output_type": "stream",
     "text": [
      "['a', 'i']\n",
      "In Word these are the vowels Vamsi total list :  2\n"
     ]
    }
   ],
   "source": [
    "vowels=['a','e','i','o','u']\n",
    "text=input(\"Enter the word here : \")\n",
    "list=[]\n",
    "for a in text:\n",
    "     if a in vowels:\n",
    "        if a not in list:\n",
    "            list.append(a)\n",
    "print(list)\n",
    "print(\"In Word these are the vowels\",word,\"total list : \",len(list))"
   ]
  },
  {
   "cell_type": "code",
   "execution_count": null,
   "id": "addbc3c6-8dc6-4317-8136-25ebcad5357e",
   "metadata": {},
   "outputs": [],
   "source": []
  },
  {
   "cell_type": "markdown",
   "id": "242c9d49-5434-4fbe-9d3f-9a542bac2ad9",
   "metadata": {},
   "source": [
    "3. Implement List comprehensions to produce the following lists.Write List comprehensions to produce the following Lists"
   ]
  },
  {
   "cell_type": "code",
   "execution_count": 94,
   "id": "4332c8c7-ef62-4a74-82e8-413969d5b31a",
   "metadata": {},
   "outputs": [
    {
     "data": {
      "text/plain": [
       "['a', 'b', 'c', 'd', 'j', 'h', 's', 'h', 'n', 'd', 'j', 'k', 'k', 'd', 'd']"
      ]
     },
     "execution_count": 94,
     "metadata": {},
     "output_type": "execute_result"
    }
   ],
   "source": [
    "a = \"abcdjhshndjkkdd\"\n",
    "[i for i in a]"
   ]
  },
  {
   "cell_type": "code",
   "execution_count": 130,
   "id": "6a8457b7-a1c2-4160-8c6a-d0f0123f7b81",
   "metadata": {},
   "outputs": [
    {
     "ename": "TypeError",
     "evalue": "'list' object is not callable",
     "output_type": "error",
     "traceback": [
      "\u001b[1;31m---------------------------------------------------------------------------\u001b[0m",
      "\u001b[1;31mTypeError\u001b[0m                                 Traceback (most recent call last)",
      "Cell \u001b[1;32mIn[130], line 1\u001b[0m\n\u001b[1;32m----> 1\u001b[0m v \u001b[38;5;241m=\u001b[39m \u001b[38;5;28;43mlist\u001b[39;49m\u001b[43m(\u001b[49m\u001b[38;5;124;43m\"\u001b[39;49m\u001b[38;5;124;43mabc\u001b[39;49m\u001b[38;5;124;43m\"\u001b[39;49m\u001b[43m)\u001b[49m\n\u001b[0;32m      2\u001b[0m new \u001b[38;5;241m=\u001b[39m []\n\u001b[0;32m      3\u001b[0m \u001b[38;5;28;01mfor\u001b[39;00m i \u001b[38;5;129;01min\u001b[39;00m \u001b[38;5;28mrange\u001b[39m(\u001b[38;5;28mlen\u001b[39m(v)):\n",
      "\u001b[1;31mTypeError\u001b[0m: 'list' object is not callable"
     ]
    }
   ],
   "source": [
    "v = list(\"abc\")\n",
    "new = []\n",
    "for i in range(len(v)):\n",
    "    for j in range(1,5):\n",
    "        new.append(i*s[j])\n",
    "new                               # getting error in Your Github account also"
   ]
  },
  {
   "cell_type": "code",
   "execution_count": 135,
   "id": "4cade0de-77ef-4899-a77a-6f937fa09c1e",
   "metadata": {},
   "outputs": [
    {
     "ename": "TypeError",
     "evalue": "'list' object is not callable",
     "output_type": "error",
     "traceback": [
      "\u001b[1;31m---------------------------------------------------------------------------\u001b[0m",
      "\u001b[1;31mTypeError\u001b[0m                                 Traceback (most recent call last)",
      "Cell \u001b[1;32mIn[135], line 1\u001b[0m\n\u001b[1;32m----> 1\u001b[0m s \u001b[38;5;241m=\u001b[39m \u001b[38;5;28mrange\u001b[39m(\u001b[38;5;28;43mlist\u001b[39;49m\u001b[43m(\u001b[49m\u001b[38;5;124;43m'\u001b[39;49m\u001b[38;5;124;43mxyz\u001b[39;49m\u001b[38;5;124;43m'\u001b[39;49m\u001b[43m)\u001b[49m)\n\u001b[0;32m      2\u001b[0m new\u001b[38;5;241m=\u001b[39m[]\n\u001b[0;32m      3\u001b[0m \u001b[38;5;28;01mfor\u001b[39;00m i \u001b[38;5;129;01min\u001b[39;00m \u001b[38;5;28mrange\u001b[39m(\u001b[38;5;241m1\u001b[39m,\u001b[38;5;241m5\u001b[39m):\n",
      "\u001b[1;31mTypeError\u001b[0m: 'list' object is not callable"
     ]
    }
   ],
   "source": [
    "s = list('xyz')\n",
    "new=[]\n",
    "for i in range(1,5):\n",
    "    for j in range(len(s)):\n",
    "        new.append(i*s[j])\n",
    "new"
   ]
  },
  {
   "cell_type": "code",
   "execution_count": 106,
   "id": "fbdf652f-df56-41d8-84a1-06c846ad1a66",
   "metadata": {},
   "outputs": [
    {
     "data": {
      "text/plain": [
       "['x', 'y', 'z', 'xx', 'yy', 'zz', 'xxx', 'yyy', 'zzz', 'xxxx', 'yyyy', 'zzzz']"
      ]
     },
     "execution_count": 106,
     "metadata": {},
     "output_type": "execute_result"
    }
   ],
   "source": []
  },
  {
   "cell_type": "code",
   "execution_count": 115,
   "id": "ad149751-bdeb-4a5e-a811-88e773865048",
   "metadata": {},
   "outputs": [
    {
     "data": {
      "text/plain": [
       "['x', 'y', 'z', 'xx', 'yy', 'zz', 'xxx', 'yyy', 'zzz', 'xxxx', 'yyyy', 'zzzz']"
      ]
     },
     "execution_count": 115,
     "metadata": {},
     "output_type": "execute_result"
    }
   ],
   "source": [
    "[i*j for i in range(1,5) for j in 'xyz']"
   ]
  },
  {
   "cell_type": "code",
   "execution_count": 136,
   "id": "ba6fa4cd-dfce-44c5-90d8-e9100b68e641",
   "metadata": {},
   "outputs": [
    {
     "data": {
      "text/plain": [
       "[[2], [3], [4], [3], [4], [5], [4], [5], [6]]"
      ]
     },
     "execution_count": 136,
     "metadata": {},
     "output_type": "execute_result"
    }
   ],
   "source": [
    "l=[2,3,4]\n",
    "result=[]\n",
    "for i in l:\n",
    "    for n in range(0,3):\n",
    "        result.append([i+n])\n",
    "result"
   ]
  },
  {
   "cell_type": "code",
   "execution_count": 137,
   "id": "a86a64d3-683a-457c-b354-40dc4296b98d",
   "metadata": {},
   "outputs": [
    {
     "data": {
      "text/plain": [
       "[[2], [3], [4], [3], [4], [5], [4], [5], [6]]"
      ]
     },
     "execution_count": 137,
     "metadata": {},
     "output_type": "execute_result"
    }
   ],
   "source": [
    "l=[2,3,4]\n",
    "[[i+n] for i in l for n in range(0,3)]"
   ]
  },
  {
   "cell_type": "code",
   "execution_count": 138,
   "id": "3ce532fe-67d5-4cf3-a20d-77477df48e69",
   "metadata": {},
   "outputs": [
    {
     "data": {
      "text/plain": [
       "[[2, 3, 4], [3, 4, 5], [4, 5, 6]]"
      ]
     },
     "execution_count": 138,
     "metadata": {},
     "output_type": "execute_result"
    }
   ],
   "source": [
    "l=[2,3,4]\n",
    "[[i+n for i in l] for n in range(0,3)]"
   ]
  },
  {
   "cell_type": "code",
   "execution_count": 139,
   "id": "4844a513-9033-4a11-a938-670d2cd1ee78",
   "metadata": {},
   "outputs": [
    {
     "data": {
      "text/plain": [
       "[(1, 1), (2, 1), (3, 1), (1, 2), (2, 2), (3, 2), (1, 3), (2, 3), (3, 3)]"
      ]
     },
     "execution_count": 139,
     "metadata": {},
     "output_type": "execute_result"
    }
   ],
   "source": [
    "l=[1,2,3]\n",
    "[(n,i) for i in l for n in l]"
   ]
  },
  {
   "cell_type": "code",
   "execution_count": null,
   "id": "75d1e02b-63b7-41e8-a546-703afcd8b81d",
   "metadata": {},
   "outputs": [],
   "source": [
    "List Data Upto here"
   ]
  },
  {
   "cell_type": "code",
   "execution_count": null,
   "id": "5355b206-f622-4b3d-9135-315f1bdce2bd",
   "metadata": {},
   "outputs": [],
   "source": []
  },
  {
   "cell_type": "code",
   "execution_count": null,
   "id": "496d5068-df72-433c-85c1-75e5d26106e3",
   "metadata": {},
   "outputs": [],
   "source": []
  },
  {
   "cell_type": "code",
   "execution_count": null,
   "id": "e20d376c-49f2-4859-a537-b1732706ab2b",
   "metadata": {},
   "outputs": [],
   "source": []
  }
 ],
 "metadata": {
  "kernelspec": {
   "display_name": "Python 3 (ipykernel)",
   "language": "python",
   "name": "python3"
  },
  "language_info": {
   "codemirror_mode": {
    "name": "ipython",
    "version": 3
   },
   "file_extension": ".py",
   "mimetype": "text/x-python",
   "name": "python",
   "nbconvert_exporter": "python",
   "pygments_lexer": "ipython3",
   "version": "3.11.5"
  }
 },
 "nbformat": 4,
 "nbformat_minor": 5
}
