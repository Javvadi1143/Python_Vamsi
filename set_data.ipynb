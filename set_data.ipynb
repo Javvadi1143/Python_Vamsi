{
 "cells": [
  {
   "cell_type": "markdown",
   "id": "f8ff51b8-9814-4e60-9ac2-87ec1121b510",
   "metadata": {},
   "source": [
    "Set Data Structure\n",
    "\n",
    "*if we to represent a group of unique values as a single entity      \n",
    "*duplicates are not allowed    \n",
    "*insertion order is not preserved but we can sort elements  \n",
    "*slicing and inndexing is not possible    \n",
    "*heterogenious elements are allowed"
   ]
  },
  {
   "cell_type": "code",
   "execution_count": 2,
   "id": "a74a7355-94d5-492e-a1f2-29326419b485",
   "metadata": {},
   "outputs": [
    {
     "name": "stdout",
     "output_type": "stream",
     "text": [
      "<class 'set'> {64, 34, 87, 23, 88, 13}\n"
     ]
    }
   ],
   "source": [
    "s = {23,34,64,87,13,88}\n",
    "print(type(s),s)"
   ]
  },
  {
   "cell_type": "code",
   "execution_count": 4,
   "id": "b5e6b8b6-a8b0-431f-b504-120e9456dbaa",
   "metadata": {},
   "outputs": [
    {
     "name": "stdout",
     "output_type": "stream",
     "text": [
      "<class 'dict'> {}\n"
     ]
    }
   ],
   "source": [
    "a = {}\n",
    "print(type(a),a)     # Empty default takes the Dict funtion"
   ]
  },
  {
   "cell_type": "code",
   "execution_count": 5,
   "id": "06237040-aff1-440c-adc6-3855c9ad7fbc",
   "metadata": {},
   "outputs": [
    {
     "name": "stdout",
     "output_type": "stream",
     "text": [
      "{40, 10, 50, 20, 30}\n"
     ]
    }
   ],
   "source": [
    "l=[10,20,30,40,50,40,30,20,10]\n",
    "s=set(l)\n",
    "print(s)    # list converting to set duplicates are not allowing and order is miss matching"
   ]
  },
  {
   "cell_type": "code",
   "execution_count": 8,
   "id": "607e8304-9d10-4a51-989a-6433ab27e9b1",
   "metadata": {},
   "outputs": [
    {
     "name": "stdout",
     "output_type": "stream",
     "text": [
      "{1, 2, 3, 4, 5, 6}\n"
     ]
    }
   ],
   "source": [
    "k = [1,2,3,4,5,6,4,3,2,1]\n",
    "m = set(k)\n",
    "print(m)"
   ]
  },
  {
   "cell_type": "code",
   "execution_count": 12,
   "id": "118c3e10-41f0-47d1-b523-81f65003354e",
   "metadata": {},
   "outputs": [
    {
     "name": "stdout",
     "output_type": "stream",
     "text": [
      "{1, 2, 3, 4, 5}\n"
     ]
    }
   ],
   "source": [
    "d = set(range(1,6))\n",
    "print(d)"
   ]
  },
  {
   "cell_type": "markdown",
   "id": "9c1f0211-3d5a-4700-84a2-c1daa3a35922",
   "metadata": {},
   "source": [
    "important functions of set "
   ]
  },
  {
   "cell_type": "code",
   "execution_count": 15,
   "id": "e089d2bc-363f-407f-8abe-74f407feab67",
   "metadata": {},
   "outputs": [
    {
     "name": "stdout",
     "output_type": "stream",
     "text": [
      "<class 'set'> {34, 54, 23}\n",
      "<class 'set'> {41, 34, 54, 23}\n"
     ]
    }
   ],
   "source": [
    "a = {23,34,54}\n",
    "print(type(a),a)\n",
    "a.add(41)\n",
    "print(type(a),a)"
   ]
  },
  {
   "cell_type": "code",
   "execution_count": 19,
   "id": "bc561109-c420-4ebd-9725-ed5f8c13b88f",
   "metadata": {},
   "outputs": [
    {
     "name": "stdout",
     "output_type": "stream",
     "text": [
      "<class 'set'> {98, 54, 23, 12, 77}\n",
      "{98, 34, 41, 12, 77, 54, 23}\n"
     ]
    }
   ],
   "source": [
    "b = {54,77,23,98,12}\n",
    "print(type(b),b)\n",
    "b.update(a)\n",
    "print(b)"
   ]
  },
  {
   "cell_type": "code",
   "execution_count": 33,
   "id": "f2ea043d-8b14-4933-a8f4-a361ecad627c",
   "metadata": {},
   "outputs": [
    {
     "name": "stdout",
     "output_type": "stream",
     "text": [
      "<class 'list'> [54, 77, 23, 98, 12]\n",
      "[54, 77, 23, 98, 12, 55, 78, 95]\n"
     ]
    }
   ],
   "source": [
    "g = [55,78,95] \n",
    "c = [54,77,23,98,12]\n",
    "print(type(c),c)\n",
    "c.extend(g)   \n",
    "print(c)"
   ]
  },
  {
   "cell_type": "code",
   "execution_count": 30,
   "id": "14f63ee4-2857-4f89-b12b-4192f861b3de",
   "metadata": {},
   "outputs": [
    {
     "name": "stdout",
     "output_type": "stream",
     "text": [
      "<class 'list'> [54, 77, 23, 98, 12]\n",
      "[54, 77, 23, 98, 12, 'Vamsi', 'Priya']\n"
     ]
    }
   ],
   "source": [
    "g = [55,78,95] \n",
    "c = [54,77,23,98,12]\n",
    "print(type(c),c)\n",
    "c.extend([\"Vamsi\",\"Priya\"])       # Update is not work for list\n",
    "print(c) "
   ]
  },
  {
   "cell_type": "code",
   "execution_count": 38,
   "id": "7a379348-3800-4e36-9c52-018fc4312722",
   "metadata": {},
   "outputs": [
    {
     "name": "stdout",
     "output_type": "stream",
     "text": [
      "{0, 1, 2, 67, 3, 4, 12, 89, 34, 45}\n"
     ]
    }
   ],
   "source": [
    "r = {34,67,12,89,45}\n",
    "r.update(range(5))\n",
    "print(r)"
   ]
  },
  {
   "cell_type": "code",
   "execution_count": 40,
   "id": "a634e0d1-80df-48ab-a49d-88e898586b3a",
   "metadata": {},
   "outputs": [
    {
     "name": "stdout",
     "output_type": "stream",
     "text": [
      "{0, 1, 2, 67, 3, 4, 12, 89, 34, 45}\n"
     ]
    },
    {
     "data": {
      "text/plain": [
       "{0, 1, 2, 3, 4, 12, 34, 45, 67, 89}"
      ]
     },
     "execution_count": 40,
     "metadata": {},
     "output_type": "execute_result"
    }
   ],
   "source": [
    "print(r)\n",
    "r.copy()"
   ]
  },
  {
   "cell_type": "code",
   "execution_count": 41,
   "id": "a8284553-2768-4062-b037-0e7bae06fc88",
   "metadata": {},
   "outputs": [
    {
     "name": "stdout",
     "output_type": "stream",
     "text": [
      "{0, 1, 2, 67, 3, 4, 12, 89, 34, 45}\n"
     ]
    }
   ],
   "source": [
    "print(r)"
   ]
  },
  {
   "cell_type": "code",
   "execution_count": 43,
   "id": "4ccc7ac5-9d73-4d4f-a4bc-5df7e3b9f97b",
   "metadata": {},
   "outputs": [
    {
     "data": {
      "text/plain": [
       "0"
      ]
     },
     "execution_count": 43,
     "metadata": {},
     "output_type": "execute_result"
    }
   ],
   "source": [
    "r.pop()"
   ]
  },
  {
   "cell_type": "code",
   "execution_count": 45,
   "id": "cd1f436c-3cb1-4ed9-bc3f-9c4f27412c47",
   "metadata": {},
   "outputs": [
    {
     "ename": "TypeError",
     "evalue": "set.pop() takes no arguments (1 given)",
     "output_type": "error",
     "traceback": [
      "\u001b[1;31m---------------------------------------------------------------------------\u001b[0m",
      "\u001b[1;31mTypeError\u001b[0m                                 Traceback (most recent call last)",
      "Cell \u001b[1;32mIn[45], line 1\u001b[0m\n\u001b[1;32m----> 1\u001b[0m \u001b[43mr\u001b[49m\u001b[38;5;241;43m.\u001b[39;49m\u001b[43mpop\u001b[49m\u001b[43m(\u001b[49m\u001b[38;5;241;43m3\u001b[39;49m\u001b[43m)\u001b[49m\n",
      "\u001b[1;31mTypeError\u001b[0m: set.pop() takes no arguments (1 given)"
     ]
    }
   ],
   "source": [
    "r.pop(3)"
   ]
  },
  {
   "cell_type": "code",
   "execution_count": 48,
   "id": "a409b500-0e16-41bc-baf7-e0ebfe15ccc5",
   "metadata": {},
   "outputs": [
    {
     "name": "stdout",
     "output_type": "stream",
     "text": [
      "{1, 2, 67, 4, 12, 89, 34, 45}\n"
     ]
    }
   ],
   "source": [
    "r.remove(3)\n",
    "print(r)"
   ]
  },
  {
   "cell_type": "code",
   "execution_count": 49,
   "id": "321ab7b5-cd58-4e8d-bbdd-2eb15d649041",
   "metadata": {},
   "outputs": [
    {
     "name": "stdout",
     "output_type": "stream",
     "text": [
      "{1, 2, 67, 4, 12, 89, 34, 45}\n",
      "{1, 2, 67, 4, 12, 34, 45}\n"
     ]
    }
   ],
   "source": [
    "print(r)\n",
    "r.remove(89)\n",
    "print(r)"
   ]
  },
  {
   "cell_type": "code",
   "execution_count": 50,
   "id": "d9af9cae-b27c-4872-8d8e-7e1a40a0364a",
   "metadata": {},
   "outputs": [
    {
     "name": "stdout",
     "output_type": "stream",
     "text": [
      "{1, 2, 67, 4, 12, 34, 45}\n"
     ]
    },
    {
     "ename": "KeyError",
     "evalue": "90",
     "output_type": "error",
     "traceback": [
      "\u001b[1;31m---------------------------------------------------------------------------\u001b[0m",
      "\u001b[1;31mKeyError\u001b[0m                                  Traceback (most recent call last)",
      "Cell \u001b[1;32mIn[50], line 2\u001b[0m\n\u001b[0;32m      1\u001b[0m \u001b[38;5;28mprint\u001b[39m(r)\n\u001b[1;32m----> 2\u001b[0m \u001b[43mr\u001b[49m\u001b[38;5;241;43m.\u001b[39;49m\u001b[43mremove\u001b[49m\u001b[43m(\u001b[49m\u001b[38;5;241;43m90\u001b[39;49m\u001b[43m)\u001b[49m\n\u001b[0;32m      3\u001b[0m \u001b[38;5;28mprint\u001b[39m(r)\n",
      "\u001b[1;31mKeyError\u001b[0m: 90"
     ]
    }
   ],
   "source": [
    "print(r)\n",
    "r.remove(90)\n",
    "print(r)"
   ]
  },
  {
   "cell_type": "code",
   "execution_count": 51,
   "id": "509f0d77-96d8-472c-8785-b0d8f44c956c",
   "metadata": {},
   "outputs": [
    {
     "name": "stdout",
     "output_type": "stream",
     "text": [
      "{1, 2, 67, 4, 12, 34, 45}\n",
      "{1, 2, 67, 4, 12, 34, 45}\n"
     ]
    }
   ],
   "source": [
    "print(r)\n",
    "r.discard(90)    # remove method work like if value there in list it is remove other wise through error\n",
    "print(r)        # discard method will not through any error"
   ]
  },
  {
   "cell_type": "code",
   "execution_count": 54,
   "id": "a146a8d5-855b-4098-b52e-d06911d56f53",
   "metadata": {},
   "outputs": [
    {
     "name": "stdout",
     "output_type": "stream",
     "text": [
      "set()\n"
     ]
    }
   ],
   "source": [
    "r.clear()\n",
    "print(r)"
   ]
  },
  {
   "cell_type": "markdown",
   "id": "b4e33367-c3e4-4265-84f5-0ccef32195b3",
   "metadata": {},
   "source": [
    "mathematicaloperations on set"
   ]
  },
  {
   "cell_type": "code",
   "execution_count": 56,
   "id": "7c100c29-ce10-4131-9029-ed323627d588",
   "metadata": {},
   "outputs": [],
   "source": [
    "a = {32,43,65,86,78,97}\n",
    "b = {76,34,32,65,67,98}"
   ]
  },
  {
   "cell_type": "code",
   "execution_count": 61,
   "id": "e3f4dfe6-77b3-461a-abcd-b27c87ece841",
   "metadata": {},
   "outputs": [
    {
     "data": {
      "text/plain": [
       "{32, 34, 43, 65, 67, 76, 78, 86, 97, 98}"
      ]
     },
     "execution_count": 61,
     "metadata": {},
     "output_type": "execute_result"
    }
   ],
   "source": [
    "a.union(b)    # ani elemets with out repeated elememts"
   ]
  },
  {
   "cell_type": "code",
   "execution_count": 58,
   "id": "e5717746-cadc-45a6-b49f-252b69f7c661",
   "metadata": {},
   "outputs": [
    {
     "data": {
      "text/plain": [
       "{32, 65}"
      ]
     },
     "execution_count": 58,
     "metadata": {},
     "output_type": "execute_result"
    }
   ],
   "source": [
    "a.intersection(b)    # both sets commom elememts"
   ]
  },
  {
   "cell_type": "code",
   "execution_count": 59,
   "id": "f54a0365-1d42-44f5-a04a-d8838218a736",
   "metadata": {},
   "outputs": [
    {
     "data": {
      "text/plain": [
       "{43, 78, 86, 97}"
      ]
     },
     "execution_count": 59,
     "metadata": {},
     "output_type": "execute_result"
    }
   ],
   "source": [
    "a.difference(b)     # left side of the set with out duplicates"
   ]
  },
  {
   "cell_type": "code",
   "execution_count": 60,
   "id": "8ea8a963-35f3-426c-8714-068a27ef937a",
   "metadata": {},
   "outputs": [
    {
     "data": {
      "text/plain": [
       "{34, 43, 67, 76, 78, 86, 97, 98}"
      ]
     },
     "execution_count": 60,
     "metadata": {},
     "output_type": "execute_result"
    }
   ],
   "source": [
    "a.symmetric_difference(b)    # both stes except duplicates"
   ]
  },
  {
   "cell_type": "markdown",
   "id": "94cf1292-ce34-4fa3-b54c-f7f37620afa9",
   "metadata": {},
   "source": [
    "memebership operators in\\not in"
   ]
  },
  {
   "cell_type": "code",
   "execution_count": 62,
   "id": "92f5e248-3066-4e36-b0ac-f5edb48c7fed",
   "metadata": {},
   "outputs": [
    {
     "data": {
      "text/plain": [
       "{'V', 'a', 'i', 'm', 's'}"
      ]
     },
     "execution_count": 62,
     "metadata": {},
     "output_type": "execute_result"
    }
   ],
   "source": [
    "s = set(\"Vamsi\")\n",
    "s"
   ]
  },
  {
   "cell_type": "code",
   "execution_count": 67,
   "id": "e2f2e6f7-dba3-4336-b2bd-fba87ec2bbab",
   "metadata": {},
   "outputs": [
    {
     "data": {
      "text/plain": [
       "True"
      ]
     },
     "execution_count": 67,
     "metadata": {},
     "output_type": "execute_result"
    }
   ],
   "source": [
    "\"a\" in s"
   ]
  },
  {
   "cell_type": "code",
   "execution_count": 68,
   "id": "4c041058-48f8-4c69-a861-9b044ced2816",
   "metadata": {},
   "outputs": [
    {
     "data": {
      "text/plain": [
       "False"
      ]
     },
     "execution_count": 68,
     "metadata": {},
     "output_type": "execute_result"
    }
   ],
   "source": [
    "\"j\" in s"
   ]
  },
  {
   "cell_type": "code",
   "execution_count": 69,
   "id": "3d76158e-a9cb-4819-8013-0820d7d96a9c",
   "metadata": {},
   "outputs": [
    {
     "data": {
      "text/plain": [
       "True"
      ]
     },
     "execution_count": 69,
     "metadata": {},
     "output_type": "execute_result"
    }
   ],
   "source": [
    "\"V\" in s"
   ]
  },
  {
   "cell_type": "code",
   "execution_count": 70,
   "id": "1e430b45-abe6-43a5-95fd-de91c1a9ad25",
   "metadata": {},
   "outputs": [
    {
     "data": {
      "text/plain": [
       "True"
      ]
     },
     "execution_count": 70,
     "metadata": {},
     "output_type": "execute_result"
    }
   ],
   "source": [
    "\"N\" not in s"
   ]
  },
  {
   "cell_type": "markdown",
   "id": "fe6d2c95-d1ad-4587-a5dc-b38ba5b6f2ff",
   "metadata": {},
   "source": [
    "Set comprehension"
   ]
  },
  {
   "cell_type": "code",
   "execution_count": 82,
   "id": "ea9e0761-3c45-4ffe-a95c-17afd7f19788",
   "metadata": {},
   "outputs": [
    {
     "name": "stdout",
     "output_type": "stream",
     "text": [
      "{16, 1, 4, 9}\n"
     ]
    }
   ],
   "source": [
    "j = {i*i for i in range(1,5)}\n",
    "print(j)"
   ]
  },
  {
   "cell_type": "code",
   "execution_count": 79,
   "id": "e8296df4-5425-48b2-9414-7b3c1e5d507f",
   "metadata": {},
   "outputs": [
    {
     "name": "stdout",
     "output_type": "stream",
     "text": [
      "{0, 1, 4, 9, 16, 25}\n"
     ]
    }
   ],
   "source": [
    "k = {i*i for i in {1,5,2}}\n",
    "print(j)"
   ]
  },
  {
   "cell_type": "code",
   "execution_count": 81,
   "id": "f984128b-bef6-4ac0-822a-aba29224732f",
   "metadata": {},
   "outputs": [
    {
     "name": "stdout",
     "output_type": "stream",
     "text": [
      "{0, 1, 4, 9, 16, 25}\n"
     ]
    }
   ],
   "source": [
    "m = {i**i for i in {1,5}}\n",
    "print(j)"
   ]
  },
  {
   "cell_type": "code",
   "execution_count": 83,
   "id": "90bb1a72-096d-4f77-a6a3-4799b398b6d6",
   "metadata": {},
   "outputs": [
    {
     "name": "stdout",
     "output_type": "stream",
     "text": [
      "{16, 1, 4, 9}\n"
     ]
    }
   ],
   "source": [
    "m = {2**i for i in {1,5}}\n",
    "print(j)"
   ]
  },
  {
   "cell_type": "code",
   "execution_count": null,
   "id": "c5481c65-5a27-415b-b04f-a15bd9db86ea",
   "metadata": {},
   "outputs": [],
   "source": []
  }
 ],
 "metadata": {
  "kernelspec": {
   "display_name": "Python 3 (ipykernel)",
   "language": "python",
   "name": "python3"
  },
  "language_info": {
   "codemirror_mode": {
    "name": "ipython",
    "version": 3
   },
   "file_extension": ".py",
   "mimetype": "text/x-python",
   "name": "python",
   "nbconvert_exporter": "python",
   "pygments_lexer": "ipython3",
   "version": "3.11.5"
  }
 },
 "nbformat": 4,
 "nbformat_minor": 5
}
