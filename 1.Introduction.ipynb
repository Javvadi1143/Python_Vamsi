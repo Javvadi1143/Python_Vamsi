{
 "cells": [
  {
   "cell_type": "code",
   "execution_count": 1,
   "id": "2a182983-50ba-408d-ba20-2bc50278d9fe",
   "metadata": {},
   "outputs": [
    {
     "name": "stdout",
     "output_type": "stream",
     "text": [
      "The Sum is : 30\n"
     ]
    }
   ],
   "source": [
    "x = 10\n",
    "y = 20\n",
    "print(\"The Sum is :\",x+y)"
   ]
  },
  {
   "cell_type": "code",
   "execution_count": 2,
   "id": "6eac322f-d5c5-4b10-9699-c7affa425e63",
   "metadata": {},
   "outputs": [
    {
     "name": "stdout",
     "output_type": "stream",
     "text": [
      "The Sum is : -10\n"
     ]
    }
   ],
   "source": [
    "x = 10\n",
    "y = 20\n",
    "z = x-y\n",
    "print(\"The Sum is :\",z)"
   ]
  },
  {
   "cell_type": "code",
   "execution_count": null,
   "id": "97cef125-3027-4302-bed2-654207341c99",
   "metadata": {},
   "outputs": [],
   "source": [
    "int Example"
   ]
  },
  {
   "cell_type": "code",
   "execution_count": 7,
   "id": "1d987ff3-b4f0-4ef0-9b6b-cbc010f02ccd",
   "metadata": {},
   "outputs": [
    {
     "name": "stdout",
     "output_type": "stream",
     "text": [
      "140735797388360\n",
      "140735797388360\n"
     ]
    }
   ],
   "source": [
    "x = 10\n",
    "y = 10\n",
    "print(id(x))\n",
    "print(id(y))      # Ref is different but value is same "
   ]
  },
  {
   "cell_type": "code",
   "execution_count": 8,
   "id": "f68abb61-61a0-4aa5-8f9f-ab355f0edee0",
   "metadata": {},
   "outputs": [
    {
     "name": "stdout",
     "output_type": "stream",
     "text": [
      "140735797388360\n",
      "140735797388680\n"
     ]
    }
   ],
   "source": [
    "x = 10\n",
    "y = 20\n",
    "print(id(x))\n",
    "print(id(y))    different values and ref"
   ]
  },
  {
   "cell_type": "code",
   "execution_count": 9,
   "id": "8704b0ce-4466-46dd-b9b8-1e6d8d46a06f",
   "metadata": {},
   "outputs": [
    {
     "name": "stdout",
     "output_type": "stream",
     "text": [
      "<class 'int'>\n"
     ]
    }
   ],
   "source": [
    "x = 10\n",
    "y = 20\n",
    "print(type(x)) "
   ]
  },
  {
   "cell_type": "code",
   "execution_count": 10,
   "id": "61e59e84-06f0-460e-929f-a75fb0144a76",
   "metadata": {},
   "outputs": [
    {
     "name": "stdout",
     "output_type": "stream",
     "text": [
      "<class 'int'>\n"
     ]
    }
   ],
   "source": [
    "x = 1111\n",
    "print(type(x))"
   ]
  },
  {
   "cell_type": "code",
   "execution_count": 13,
   "id": "a718ad8f-ed38-4e61-a434-6a589f385333",
   "metadata": {},
   "outputs": [
    {
     "name": "stdout",
     "output_type": "stream",
     "text": [
      "2222\n",
      "15\n",
      "15\n",
      "-15\n",
      "73\n",
      "73\n",
      "186\n",
      "186\n"
     ]
    }
   ],
   "source": [
    "a=2222     #decimal\n",
    "print(a)\n",
    "\n",
    "a=0b1111   #binary\n",
    "print(a)\n",
    "\n",
    "a=0B1111   #binary\n",
    "print(a)\n",
    "\n",
    "a=-0b1111  #binary\n",
    "print(a)\n",
    "\n",
    "a= 0o111   #octa\n",
    "print(a)\n",
    "\n",
    "a= 0O111   #octa\n",
    "print(a)\n",
    "\n",
    "a=0xba     #hexa\n",
    "print(a)\n",
    "\n",
    "a=0Xba     #hexa\n",
    "print(a)"
   ]
  },
  {
   "cell_type": "code",
   "execution_count": 14,
   "id": "99802635-8cf4-4e1b-8e86-ee1b1b06f265",
   "metadata": {},
   "outputs": [
    {
     "name": "stdout",
     "output_type": "stream",
     "text": [
      "0b101001\n"
     ]
    }
   ],
   "source": [
    "x = 41\n",
    "print(bin(x))"
   ]
  },
  {
   "cell_type": "code",
   "execution_count": 15,
   "id": "e56fff11-323a-4fa9-90a4-55af5ec367ba",
   "metadata": {},
   "outputs": [
    {
     "name": "stdout",
     "output_type": "stream",
     "text": [
      "0o51\n"
     ]
    }
   ],
   "source": [
    "print(oct(x))"
   ]
  },
  {
   "cell_type": "code",
   "execution_count": 17,
   "id": "342baa68-c655-4849-bdbe-a46077b79a46",
   "metadata": {},
   "outputs": [
    {
     "name": "stdout",
     "output_type": "stream",
     "text": [
      "0x29\n"
     ]
    }
   ],
   "source": [
    "print(hex(x))"
   ]
  },
  {
   "cell_type": "code",
   "execution_count": 18,
   "id": "0c4dc40e-e415-4d00-8053-49c41f412d19",
   "metadata": {},
   "outputs": [
    {
     "name": "stdout",
     "output_type": "stream",
     "text": [
      "<class 'float'>\n"
     ]
    }
   ],
   "source": [
    "f = 1.21\n",
    "print(type(f))"
   ]
  },
  {
   "cell_type": "code",
   "execution_count": 19,
   "id": "1fb654ec-44b3-473f-a427-c429fc227027",
   "metadata": {},
   "outputs": [
    {
     "name": "stdout",
     "output_type": "stream",
     "text": [
      "1200.0\n"
     ]
    }
   ],
   "source": [
    "f = 1.2e3\n",
    "print(f)  # Here E only accepting Y (Doubt)"
   ]
  },
  {
   "cell_type": "code",
   "execution_count": 23,
   "id": "ce622c42-f1b5-402e-bcea-8c692e1841e7",
   "metadata": {},
   "outputs": [
    {
     "ename": "SyntaxError",
     "evalue": "invalid decimal literal (1882233818.py, line 1)",
     "output_type": "error",
     "traceback": [
      "\u001b[1;36m  Cell \u001b[1;32mIn[23], line 1\u001b[1;36m\u001b[0m\n\u001b[1;33m    f = 1.2a3\u001b[0m\n\u001b[1;37m          ^\u001b[0m\n\u001b[1;31mSyntaxError\u001b[0m\u001b[1;31m:\u001b[0m invalid decimal literal\n"
     ]
    }
   ],
   "source": [
    "f = 1.2a3\n",
    "print(f) "
   ]
  },
  {
   "cell_type": "code",
   "execution_count": 24,
   "id": "83dd1410-a2f8-4500-9a0a-cf7f4d9d61a0",
   "metadata": {},
   "outputs": [
    {
     "name": "stdout",
     "output_type": "stream",
     "text": [
      "<class 'complex'>\n"
     ]
    }
   ],
   "source": [
    "C =4+4j\n",
    "print(type(C))"
   ]
  },
  {
   "cell_type": "code",
   "execution_count": 25,
   "id": "5c04ba73-ff05-4bb6-90f7-be56ba963a4b",
   "metadata": {},
   "outputs": [
    {
     "name": "stdout",
     "output_type": "stream",
     "text": [
      "(3+8j)\n"
     ]
    }
   ],
   "source": [
    "c = 3+8J\n",
    "print(c)"
   ]
  },
  {
   "cell_type": "code",
   "execution_count": 27,
   "id": "1e7a4f6c-f912-4e40-9659-29701377e712",
   "metadata": {},
   "outputs": [
    {
     "name": "stdout",
     "output_type": "stream",
     "text": [
      "6.0\n",
      "9.0\n"
     ]
    }
   ],
   "source": [
    "c = 6+9J\n",
    "print(c.real)\n",
    "print(c.imag)    # here what is real and imag"
   ]
  },
  {
   "cell_type": "code",
   "execution_count": 34,
   "id": "5e93e89f-2cd1-42d8-8b87-dbe31f6aa17b",
   "metadata": {},
   "outputs": [
    {
     "name": "stdout",
     "output_type": "stream",
     "text": [
      "<class 'bool'>\n",
      "True\n"
     ]
    }
   ],
   "source": [
    "t = True\n",
    "print(type(t))\n",
    "print(t)"
   ]
  },
  {
   "cell_type": "code",
   "execution_count": 29,
   "id": "a5910559-ad4a-4e93-af85-ce9cd88a2d3b",
   "metadata": {},
   "outputs": [
    {
     "ename": "NameError",
     "evalue": "name 'true' is not defined",
     "output_type": "error",
     "traceback": [
      "\u001b[1;31m---------------------------------------------------------------------------\u001b[0m",
      "\u001b[1;31mNameError\u001b[0m                                 Traceback (most recent call last)",
      "Cell \u001b[1;32mIn[29], line 1\u001b[0m\n\u001b[1;32m----> 1\u001b[0m \u001b[38;5;28;01mTrue\u001b[39;00m\u001b[38;5;241m+\u001b[39m\u001b[43mtrue\u001b[49m\n",
      "\u001b[1;31mNameError\u001b[0m: name 'true' is not defined"
     ]
    }
   ],
   "source": [
    "True+true"
   ]
  },
  {
   "cell_type": "code",
   "execution_count": 30,
   "id": "d5025ee0-1076-4ac6-9501-939955b047c7",
   "metadata": {},
   "outputs": [
    {
     "data": {
      "text/plain": [
       "2"
      ]
     },
     "execution_count": 30,
     "metadata": {},
     "output_type": "execute_result"
    }
   ],
   "source": [
    "True+True   # True returns 1 value"
   ]
  },
  {
   "cell_type": "code",
   "execution_count": 35,
   "id": "6890bc1b-feb8-45c7-a102-ec2cb613150d",
   "metadata": {},
   "outputs": [
    {
     "name": "stdout",
     "output_type": "stream",
     "text": [
      "False\n"
     ]
    }
   ],
   "source": [
    "a = False\n",
    "print(a)"
   ]
  },
  {
   "cell_type": "code",
   "execution_count": 36,
   "id": "35647c7e-5954-41b3-9251-a0cd6bf84603",
   "metadata": {},
   "outputs": [
    {
     "data": {
      "text/plain": [
       "1"
      ]
     },
     "execution_count": 36,
     "metadata": {},
     "output_type": "execute_result"
    }
   ],
   "source": [
    "False+True"
   ]
  },
  {
   "cell_type": "code",
   "execution_count": 37,
   "id": "e569d2e3-437d-4fea-b463-d8fd48d8085f",
   "metadata": {},
   "outputs": [
    {
     "name": "stdout",
     "output_type": "stream",
     "text": [
      "<class 'str'>\n"
     ]
    }
   ],
   "source": [
    "s = \"vamsi Priyanka\"\n",
    "print(type(s))"
   ]
  },
  {
   "cell_type": "code",
   "execution_count": 38,
   "id": "59fe446d-7e86-4f25-b870-1ff62b1a5ba7",
   "metadata": {},
   "outputs": [
    {
     "name": "stdout",
     "output_type": "stream",
     "text": [
      "14\n"
     ]
    }
   ],
   "source": [
    "print(len(s))"
   ]
  },
  {
   "cell_type": "code",
   "execution_count": 40,
   "id": "702c2a5c-9d53-4bd2-a5bb-c91c4f9e2346",
   "metadata": {},
   "outputs": [
    {
     "name": "stdout",
     "output_type": "stream",
     "text": [
      "v\n",
      "P\n"
     ]
    }
   ],
   "source": [
    "print(s[0])\n",
    "print(s[6])"
   ]
  },
  {
   "cell_type": "code",
   "execution_count": 41,
   "id": "d3b512df-abba-4216-8cef-be2f1185ff11",
   "metadata": {},
   "outputs": [
    {
     "name": "stdout",
     "output_type": "stream",
     "text": [
      "11\n"
     ]
    }
   ],
   "source": [
    "k = \"Vamsi Priya\"\n",
    "print(len(k))"
   ]
  },
  {
   "cell_type": "code",
   "execution_count": 42,
   "id": "3b9b8fdf-0177-4bb6-bcd7-427d3e7b2735",
   "metadata": {},
   "outputs": [
    {
     "name": "stdout",
     "output_type": "stream",
     "text": [
      "i\n"
     ]
    }
   ],
   "source": [
    "print(k[4])"
   ]
  },
  {
   "cell_type": "code",
   "execution_count": 43,
   "id": "52f9752d-3a89-41cb-91e8-b8163fd08bb0",
   "metadata": {},
   "outputs": [
    {
     "name": "stdout",
     "output_type": "stream",
     "text": [
      "i\n"
     ]
    }
   ],
   "source": [
    "print(k[-7])"
   ]
  },
  {
   "cell_type": "code",
   "execution_count": 46,
   "id": "d29010d0-f07a-431b-9d73-40a5624ea253",
   "metadata": {},
   "outputs": [
    {
     "data": {
      "text/plain": [
       "'amsi'"
      ]
     },
     "execution_count": 46,
     "metadata": {},
     "output_type": "execute_result"
    }
   ],
   "source": [
    "J = \"Vamsi Krishna\"\n",
    "J[1:5]"
   ]
  },
  {
   "cell_type": "code",
   "execution_count": 47,
   "id": "1084fa28-6633-4162-8164-52b885217023",
   "metadata": {},
   "outputs": [
    {
     "data": {
      "text/plain": [
       "'as'"
      ]
     },
     "execution_count": 47,
     "metadata": {},
     "output_type": "execute_result"
    }
   ],
   "source": [
    "J[1:5:2]"
   ]
  },
  {
   "cell_type": "code",
   "execution_count": 48,
   "id": "3cbc5e15-4566-43d9-a145-67766139c95d",
   "metadata": {},
   "outputs": [
    {
     "data": {
      "text/plain": [
       "'anhsirK ismaV'"
      ]
     },
     "execution_count": 48,
     "metadata": {},
     "output_type": "execute_result"
    }
   ],
   "source": [
    "J[::-1]   # reverse the String"
   ]
  },
  {
   "cell_type": "code",
   "execution_count": 49,
   "id": "40c46a75-ce3c-458a-a2d3-e0c09208ea81",
   "metadata": {},
   "outputs": [
    {
     "data": {
      "text/plain": [
       "''"
      ]
     },
     "execution_count": 49,
     "metadata": {},
     "output_type": "execute_result"
    }
   ],
   "source": [
    "J[-1:-9]   # stop values is not greater than start in negative values declare time"
   ]
  },
  {
   "cell_type": "code",
   "execution_count": 50,
   "id": "ba8f3c0a-d995-4dd6-9971-f009929de327",
   "metadata": {},
   "outputs": [
    {
     "data": {
      "text/plain": [
       "'i Krishn'"
      ]
     },
     "execution_count": 50,
     "metadata": {},
     "output_type": "execute_result"
    }
   ],
   "source": [
    "J[-9:-1]"
   ]
  },
  {
   "cell_type": "code",
   "execution_count": 53,
   "id": "84f3f054-f7d5-47a2-8a11-8b8ec839964c",
   "metadata": {},
   "outputs": [
    {
     "data": {
      "text/plain": [
       "'anhsirK '"
      ]
     },
     "execution_count": 53,
     "metadata": {},
     "output_type": "execute_result"
    }
   ],
   "source": [
    "J[-1:-9:-1]"
   ]
  },
  {
   "cell_type": "code",
   "execution_count": 52,
   "id": "d014aa47-a38f-4395-824f-e14317e95b03",
   "metadata": {},
   "outputs": [
    {
     "data": {
      "text/plain": [
       "''"
      ]
     },
     "execution_count": 52,
     "metadata": {},
     "output_type": "execute_result"
    }
   ],
   "source": [
    "J[-9:-1:-1]"
   ]
  },
  {
   "cell_type": "code",
   "execution_count": 54,
   "id": "ade07b67-637e-4011-aa19-cf87dd34b863",
   "metadata": {},
   "outputs": [
    {
     "data": {
      "text/plain": [
       "'ahiK'"
      ]
     },
     "execution_count": 54,
     "metadata": {},
     "output_type": "execute_result"
    }
   ],
   "source": [
    "J[-1:-9:-2]"
   ]
  },
  {
   "cell_type": "code",
   "execution_count": 55,
   "id": "5d30524f-dac8-4d4b-b66f-5dcd8bd85fce",
   "metadata": {},
   "outputs": [
    {
     "data": {
      "text/plain": [
       "''"
      ]
     },
     "execution_count": 55,
     "metadata": {},
     "output_type": "execute_result"
    }
   ],
   "source": [
    "J[-9:-1:-2]"
   ]
  },
  {
   "cell_type": "code",
   "execution_count": null,
   "id": "b9e83dd6-a54a-4434-913d-15534135f0a9",
   "metadata": {},
   "outputs": [],
   "source": []
  },
  {
   "cell_type": "code",
   "execution_count": null,
   "id": "5fe6c5b1-b8c9-43f2-9674-5cabe7a26717",
   "metadata": {},
   "outputs": [],
   "source": []
  },
  {
   "cell_type": "code",
   "execution_count": null,
   "id": "5714f7e8-24e2-4de9-aef4-08c9a236d53f",
   "metadata": {},
   "outputs": [],
   "source": []
  },
  {
   "cell_type": "code",
   "execution_count": null,
   "id": "c26d41ba-a45f-4a33-a18a-310ec8f65555",
   "metadata": {},
   "outputs": [],
   "source": []
  },
  {
   "cell_type": "code",
   "execution_count": null,
   "id": "7bedc820-d285-4113-98de-aef6f703c297",
   "metadata": {},
   "outputs": [],
   "source": []
  }
 ],
 "metadata": {
  "kernelspec": {
   "display_name": "Python 3 (ipykernel)",
   "language": "python",
   "name": "python3"
  },
  "language_info": {
   "codemirror_mode": {
    "name": "ipython",
    "version": 3
   },
   "file_extension": ".py",
   "mimetype": "text/x-python",
   "name": "python",
   "nbconvert_exporter": "python",
   "pygments_lexer": "ipython3",
   "version": "3.11.5"
  }
 },
 "nbformat": 4,
 "nbformat_minor": 5
}
