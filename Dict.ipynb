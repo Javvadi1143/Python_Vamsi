{
 "cells": [
  {
   "cell_type": "code",
   "execution_count": 1,
   "id": "fad29be1-df71-40a5-a8de-c6e337b6b44b",
   "metadata": {},
   "outputs": [],
   "source": [
    "d = {}"
   ]
  },
  {
   "cell_type": "code",
   "execution_count": 2,
   "id": "b90a4667-bb90-4f90-8dca-450991461bad",
   "metadata": {},
   "outputs": [],
   "source": [
    "d = dict()"
   ]
  },
  {
   "cell_type": "code",
   "execution_count": 3,
   "id": "cfcf0ab2-e17e-44ad-a924-cff734e47487",
   "metadata": {},
   "outputs": [
    {
     "data": {
      "text/plain": [
       "{1: 'Vamsi', 2: 'Javvadi', 3: 'Priyanka', 4: 'Pandu'}"
      ]
     },
     "execution_count": 3,
     "metadata": {},
     "output_type": "execute_result"
    }
   ],
   "source": [
    "d[1] = \"Vamsi\"\n",
    "d[2] = \"Javvadi\"\n",
    "d[3] = \"Priyanka\"\n",
    "d[4] = \"Pandu\"\n",
    "d"
   ]
  },
  {
   "cell_type": "code",
   "execution_count": 4,
   "id": "56a8671b-4217-4d97-b4e2-0a9ee3934085",
   "metadata": {},
   "outputs": [
    {
     "name": "stdout",
     "output_type": "stream",
     "text": [
      "<class 'dict'> {1: 'Vamsi', 2: 'Javvadi', 3: 'Priyanka', 4: 'Pandu'}\n"
     ]
    }
   ],
   "source": [
    "print(type(d),d)"
   ]
  },
  {
   "cell_type": "code",
   "execution_count": 5,
   "id": "ac432223-177e-4b9a-aa65-976afc60ceb2",
   "metadata": {},
   "outputs": [
    {
     "data": {
      "text/plain": [
       "'Priyanka'"
      ]
     },
     "execution_count": 5,
     "metadata": {},
     "output_type": "execute_result"
    }
   ],
   "source": [
    "d[3]    #accesing the data based on position"
   ]
  },
  {
   "cell_type": "code",
   "execution_count": 6,
   "id": "d934fc94-447e-433d-a802-7e303c08cf55",
   "metadata": {},
   "outputs": [],
   "source": [
    "d[\"final\"] = \"Krishna\""
   ]
  },
  {
   "cell_type": "code",
   "execution_count": 7,
   "id": "6b221da4-0a05-44eb-ab51-c534690f9558",
   "metadata": {},
   "outputs": [
    {
     "data": {
      "text/plain": [
       "{1: 'Vamsi', 2: 'Javvadi', 3: 'Priyanka', 4: 'Pandu', 'final': 'Krishna'}"
      ]
     },
     "execution_count": 7,
     "metadata": {},
     "output_type": "execute_result"
    }
   ],
   "source": [
    "d"
   ]
  },
  {
   "cell_type": "code",
   "execution_count": 8,
   "id": "43f26019-abf6-40ce-99ef-21b3a7d76d5c",
   "metadata": {},
   "outputs": [
    {
     "data": {
      "text/plain": [
       "'Krishna'"
      ]
     },
     "execution_count": 8,
     "metadata": {},
     "output_type": "execute_result"
    }
   ],
   "source": [
    "d[\"final\"]"
   ]
  },
  {
   "cell_type": "code",
   "execution_count": 9,
   "id": "14a2c07e-8513-4f34-896c-154a710346bc",
   "metadata": {},
   "outputs": [],
   "source": [
    "del d[4]"
   ]
  },
  {
   "cell_type": "code",
   "execution_count": 10,
   "id": "d9f41d55-39f5-4ff7-a6d7-f1b4b9d72a28",
   "metadata": {},
   "outputs": [
    {
     "data": {
      "text/plain": [
       "{1: 'Vamsi', 2: 'Javvadi', 3: 'Priyanka', 'final': 'Krishna'}"
      ]
     },
     "execution_count": 10,
     "metadata": {},
     "output_type": "execute_result"
    }
   ],
   "source": [
    "d"
   ]
  },
  {
   "cell_type": "code",
   "execution_count": 12,
   "id": "4d0fc0f8-6d20-4f15-a37f-799b6008df87",
   "metadata": {},
   "outputs": [],
   "source": [
    "d.clear()"
   ]
  },
  {
   "cell_type": "code",
   "execution_count": 13,
   "id": "0ebdfb0d-0939-4e02-a360-be6ab87cec2c",
   "metadata": {},
   "outputs": [
    {
     "data": {
      "text/plain": [
       "{}"
      ]
     },
     "execution_count": 13,
     "metadata": {},
     "output_type": "execute_result"
    }
   ],
   "source": [
    "d"
   ]
  },
  {
   "cell_type": "code",
   "execution_count": 23,
   "id": "b65d7a53-66d6-4aa2-aef2-cdc1f324c08d",
   "metadata": {},
   "outputs": [
    {
     "data": {
      "text/plain": [
       "{1: 'Vamsi', 2: 'Javvadi', 3: 'Priyanka', 4: 'Pandu'}"
      ]
     },
     "execution_count": 23,
     "metadata": {},
     "output_type": "execute_result"
    }
   ],
   "source": [
    "k = [(1,\"Vamsi\"), (2,\"Javvadi\"), (3,\"Priyanka\"), (4,\"Pandu\")]\n",
    "j = dict(k)\n",
    "j"
   ]
  },
  {
   "cell_type": "code",
   "execution_count": 25,
   "id": "42922e0b-79fa-4f57-b7fe-2da45ba6f63a",
   "metadata": {},
   "outputs": [
    {
     "data": {
      "text/plain": [
       "4"
      ]
     },
     "execution_count": 25,
     "metadata": {},
     "output_type": "execute_result"
    }
   ],
   "source": [
    "len(j)"
   ]
  },
  {
   "cell_type": "markdown",
   "id": "818e984d-53e2-4bcb-bba3-ce7fb2a88f5f",
   "metadata": {},
   "source": [
    "get(): To get the value associated with the key \n",
    "* d.get(key) If the key is available then returns the corresponding value otherwise returns None.It wont raise any error.   \n",
    "* d.get(key,defaultvalue) If the key is available then returns the corresponding value otherwise returns default value.  "
   ]
  },
  {
   "cell_type": "code",
   "execution_count": 27,
   "id": "089a3bdc-65f2-4798-8ffb-9b30ae5089b9",
   "metadata": {},
   "outputs": [
    {
     "name": "stdout",
     "output_type": "stream",
     "text": [
      "{1: 'Vamsi', 2: 'Javvadi', 3: 'Priyanka', 4: 'Pandu'}\n"
     ]
    }
   ],
   "source": [
    "print(j)"
   ]
  },
  {
   "cell_type": "code",
   "execution_count": 28,
   "id": "ced74253-f028-470a-bc3f-1ffaa6731c1b",
   "metadata": {},
   "outputs": [
    {
     "data": {
      "text/plain": [
       "'Javvadi'"
      ]
     },
     "execution_count": 28,
     "metadata": {},
     "output_type": "execute_result"
    }
   ],
   "source": [
    "j.get(2)"
   ]
  },
  {
   "cell_type": "code",
   "execution_count": 29,
   "id": "02d3d48d-1420-4af4-9869-1fb3507e850e",
   "metadata": {},
   "outputs": [],
   "source": [
    "j.get(6)   # if key value is not there its can't be run return value"
   ]
  },
  {
   "cell_type": "code",
   "execution_count": 30,
   "id": "2e097929-2b33-4ab8-b2de-09ccadf0fa11",
   "metadata": {},
   "outputs": [
    {
     "data": {
      "text/plain": [
       "'Pandu'"
      ]
     },
     "execution_count": 30,
     "metadata": {},
     "output_type": "execute_result"
    }
   ],
   "source": [
    "j.get(4,\"Krishna\")"
   ]
  },
  {
   "cell_type": "code",
   "execution_count": 31,
   "id": "56850f6c-89bb-4927-9c01-fd7b2c9c4da7",
   "metadata": {},
   "outputs": [
    {
     "data": {
      "text/plain": [
       "'Krishna'"
      ]
     },
     "execution_count": 31,
     "metadata": {},
     "output_type": "execute_result"
    }
   ],
   "source": [
    "j.get(5,\"Krishna\")   # if key value is not there it retruns the default value what you return "
   ]
  },
  {
   "cell_type": "markdown",
   "id": "bc23a828-b0d8-4d66-88ef-7e8d8f0eb4a5",
   "metadata": {},
   "source": [
    "d.pop(key): It removes the entry associated with the specified key and returns the corresponding value If the specified key is not available then we will get KeyError"
   ]
  },
  {
   "cell_type": "code",
   "execution_count": 32,
   "id": "3882d455-c280-4e50-9ef0-d1c2c3993c13",
   "metadata": {},
   "outputs": [
    {
     "data": {
      "text/plain": [
       "{1: 'Vamsi', 2: 'Javvadi', 3: 'Priyanka', 4: 'Pandu'}"
      ]
     },
     "execution_count": 32,
     "metadata": {},
     "output_type": "execute_result"
    }
   ],
   "source": [
    "j"
   ]
  },
  {
   "cell_type": "code",
   "execution_count": 34,
   "id": "0d016d5c-27f4-4a91-910a-54144be3011a",
   "metadata": {},
   "outputs": [
    {
     "data": {
      "text/plain": [
       "'Javvadi'"
      ]
     },
     "execution_count": 34,
     "metadata": {},
     "output_type": "execute_result"
    }
   ],
   "source": [
    "j.pop(2)"
   ]
  },
  {
   "cell_type": "code",
   "execution_count": 35,
   "id": "bb9bd5b7-1542-4611-9dfb-1504800f6cba",
   "metadata": {},
   "outputs": [
    {
     "ename": "KeyError",
     "evalue": "5",
     "output_type": "error",
     "traceback": [
      "\u001b[1;31m---------------------------------------------------------------------------\u001b[0m",
      "\u001b[1;31mKeyError\u001b[0m                                  Traceback (most recent call last)",
      "Cell \u001b[1;32mIn[35], line 1\u001b[0m\n\u001b[1;32m----> 1\u001b[0m \u001b[43mj\u001b[49m\u001b[38;5;241;43m.\u001b[39;49m\u001b[43mpop\u001b[49m\u001b[43m(\u001b[49m\u001b[38;5;241;43m5\u001b[39;49m\u001b[43m)\u001b[49m\n",
      "\u001b[1;31mKeyError\u001b[0m: 5"
     ]
    }
   ],
   "source": [
    "j.pop(5)   # if it is nit available return the value"
   ]
  },
  {
   "cell_type": "code",
   "execution_count": 37,
   "id": "f2828ce0-0178-4f70-8947-8275516d5a90",
   "metadata": {},
   "outputs": [
    {
     "data": {
      "text/plain": [
       "(4, 'Pandu')"
      ]
     },
     "execution_count": 37,
     "metadata": {},
     "output_type": "execute_result"
    }
   ],
   "source": [
    "j.popitem()  # retrurn the last item of in list "
   ]
  },
  {
   "cell_type": "code",
   "execution_count": 38,
   "id": "c8873ba4-01b6-4cff-bc6d-39973d21daa0",
   "metadata": {},
   "outputs": [
    {
     "data": {
      "text/plain": [
       "dict_keys([1, 3])"
      ]
     },
     "execution_count": 38,
     "metadata": {},
     "output_type": "execute_result"
    }
   ],
   "source": [
    "j.keys()"
   ]
  },
  {
   "cell_type": "code",
   "execution_count": 39,
   "id": "00bfff08-91c5-4e2c-b2a3-947c00a106b9",
   "metadata": {},
   "outputs": [
    {
     "data": {
      "text/plain": [
       "dict_values(['Vamsi', 'Priyanka'])"
      ]
     },
     "execution_count": 39,
     "metadata": {},
     "output_type": "execute_result"
    }
   ],
   "source": [
    "j.values()"
   ]
  },
  {
   "cell_type": "code",
   "execution_count": 42,
   "id": "d5a9b922-9e15-4bc6-a084-325589934b58",
   "metadata": {},
   "outputs": [
    {
     "data": {
      "text/plain": [
       "{1: 'Vamsi', 3: 'Priyanka'}"
      ]
     },
     "execution_count": 42,
     "metadata": {},
     "output_type": "execute_result"
    }
   ],
   "source": [
    "j"
   ]
  },
  {
   "cell_type": "code",
   "execution_count": 43,
   "id": "ee33610c-11bb-4bb9-9f68-a55c1240dab5",
   "metadata": {},
   "outputs": [
    {
     "data": {
      "text/plain": [
       "dict_items([(1, 'Vamsi'), (3, 'Priyanka')])"
      ]
     },
     "execution_count": 43,
     "metadata": {},
     "output_type": "execute_result"
    }
   ],
   "source": [
    "j.items()"
   ]
  },
  {
   "cell_type": "code",
   "execution_count": 44,
   "id": "5461e794-593c-4605-b261-af29b9c3979f",
   "metadata": {},
   "outputs": [],
   "source": [
    "m = j.copy()"
   ]
  },
  {
   "cell_type": "code",
   "execution_count": 45,
   "id": "88aecbbc-3c10-4303-829f-c9c8ed9bc066",
   "metadata": {},
   "outputs": [
    {
     "data": {
      "text/plain": [
       "{1: 'Vamsi', 3: 'Priyanka'}"
      ]
     },
     "execution_count": 45,
     "metadata": {},
     "output_type": "execute_result"
    }
   ],
   "source": [
    "m"
   ]
  },
  {
   "cell_type": "code",
   "execution_count": 49,
   "id": "bed552f4-ec39-4392-8340-2efae6b28cfd",
   "metadata": {},
   "outputs": [],
   "source": [
    "m.setdefault(5,\"krishna\")    # same as get"
   ]
  },
  {
   "cell_type": "code",
   "execution_count": 50,
   "id": "bb420f60-8a48-47a4-9310-e835e64f063b",
   "metadata": {},
   "outputs": [
    {
     "data": {
      "text/plain": [
       "'Vamsi'"
      ]
     },
     "execution_count": 50,
     "metadata": {},
     "output_type": "execute_result"
    }
   ],
   "source": [
    "m.setdefault(1,\"krishna\")   "
   ]
  },
  {
   "cell_type": "code",
   "execution_count": 53,
   "id": "2a6a7688-0d1b-4965-8f28-4c6899503cca",
   "metadata": {},
   "outputs": [
    {
     "data": {
      "text/plain": [
       "{1: 1, 2: 2, 3: 3, 4: 4, 5: 5}"
      ]
     },
     "execution_count": 53,
     "metadata": {},
     "output_type": "execute_result"
    }
   ],
   "source": [
    "s1 ={i:i for i in range(1,6)}\n",
    "s1\n"
   ]
  },
  {
   "cell_type": "code",
   "execution_count": 54,
   "id": "d414b35a-9d6a-403b-b7c4-3bcfde43291e",
   "metadata": {},
   "outputs": [
    {
     "data": {
      "text/plain": [
       "{1: 1, 2: 4, 3: 9, 4: 16, 5: 25}"
      ]
     },
     "execution_count": 54,
     "metadata": {},
     "output_type": "execute_result"
    }
   ],
   "source": [
    "s2 ={i:i*i for i in range(1,6)}\n",
    "s2"
   ]
  },
  {
   "cell_type": "code",
   "execution_count": 56,
   "id": "d36e1418-8e09-45cc-ad8a-c63d2866e753",
   "metadata": {},
   "outputs": [
    {
     "data": {
      "text/plain": [
       "{1: 2, 2: 4, 3: 8, 4: 16, 5: 32}"
      ]
     },
     "execution_count": 56,
     "metadata": {},
     "output_type": "execute_result"
    }
   ],
   "source": [
    "s3 ={i:2**i for i in range(1,6)}\n",
    "s3"
   ]
  },
  {
   "cell_type": "code",
   "execution_count": null,
   "id": "53356211-84c3-4aee-a0d6-a3a3d949a486",
   "metadata": {},
   "outputs": [],
   "source": []
  }
 ],
 "metadata": {
  "kernelspec": {
   "display_name": "Python 3 (ipykernel)",
   "language": "python",
   "name": "python3"
  },
  "language_info": {
   "codemirror_mode": {
    "name": "ipython",
    "version": 3
   },
   "file_extension": ".py",
   "mimetype": "text/x-python",
   "name": "python",
   "nbconvert_exporter": "python",
   "pygments_lexer": "ipython3",
   "version": "3.11.5"
  }
 },
 "nbformat": 4,
 "nbformat_minor": 5
}
