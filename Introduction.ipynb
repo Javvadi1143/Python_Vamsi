{
 "cells": [
  {
   "cell_type": "code",
   "execution_count": 1,
   "id": "fd4b6fb4-ebf7-4827-98aa-e6947beec1f5",
   "metadata": {},
   "outputs": [
    {
     "name": "stdout",
     "output_type": "stream",
     "text": [
      "Welcome to Python\n"
     ]
    }
   ],
   "source": [
    "print(\"Welcome to Python\")"
   ]
  },
  {
   "cell_type": "code",
   "execution_count": null,
   "id": "ac34d831-6774-43d4-bf71-603097be6f62",
   "metadata": {},
   "outputs": [],
   "source": []
  }
 ],
 "metadata": {
  "kernelspec": {
   "display_name": "Python 3 (ipykernel)",
   "language": "python",
   "name": "python3"
  },
  "language_info": {
   "codemirror_mode": {
    "name": "ipython",
    "version": 3
   },
   "file_extension": ".py",
   "mimetype": "text/x-python",
   "name": "python",
   "nbconvert_exporter": "python",
   "pygments_lexer": "ipython3",
   "version": "3.11.5"
  }
 },
 "nbformat": 4,
 "nbformat_minor": 5
}
