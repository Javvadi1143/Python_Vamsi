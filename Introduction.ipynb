{
 "cells": [
  {
   "cell_type": "code",
   "execution_count": 1,
   "id": "fd4b6fb4-ebf7-4827-98aa-e6947beec1f5",
   "metadata": {},
   "outputs": [
    {
     "name": "stdout",
     "output_type": "stream",
     "text": [
      "Welcome to Python\n"
     ]
    }
   ],
   "source": [
    "print(\"Welcome to Python\")"
   ]
  },
  {
   "cell_type": "code",
   "execution_count": 3,
   "id": "56e4c30f-0ea1-49cd-bbd9-c206fe2a56b5",
   "metadata": {},
   "outputs": [
    {
     "name": "stdout",
     "output_type": "stream",
     "text": [
      "Positive value is 40\n"
     ]
    }
   ],
   "source": [
    "a = 40\n",
    "if(a > 0):\n",
    "  print(\"Positive value is\",a)"
   ]
  },
  {
   "cell_type": "code",
   "execution_count": 9,
   "id": "f82710b3-3039-436e-aefe-9bfdecc0e567",
   "metadata": {},
   "outputs": [
    {
     "name": "stdout",
     "output_type": "stream",
     "text": [
      "Biggest Number in the given numbers\n"
     ]
    }
   ],
   "source": [
    "  a = 50\n",
    "  b = 100\n",
    "  c = 25\n",
    "  if(a > c):\n",
    "    if(b > a):\n",
    "        print(\"Biggest Number in the given numbers\")\n",
    "    elif(c > b):\n",
    "        print(\"False\")\n",
    "    else :\n",
    "        print(\"Exit\")"
   ]
  },
  {
   "cell_type": "code",
   "execution_count": 17,
   "id": "3914d661-4ce7-4985-860f-019c98b7135f",
   "metadata": {},
   "outputs": [],
   "source": [
    "  a = 150\n",
    "  b = 100\n",
    "  c = 250\n",
    "  if(a > c):      # If Main If failes how to write the else condition\n",
    "    if(b > a):\n",
    "        print(\"Biggest Number in the given numbers\")\n",
    "    elif(c > b):\n",
    "        print(\"False\")\n",
    "    else :\n",
    "        print(\"Exit\")\n",
    "         "
   ]
  },
  {
   "cell_type": "code",
   "execution_count": 22,
   "id": "a8aea46a-db09-43eb-a6a6-f06209480b82",
   "metadata": {},
   "outputs": [
    {
     "name": "stdout",
     "output_type": "stream",
     "text": [
      "False\n"
     ]
    }
   ],
   "source": [
    "  a = 500\n",
    "  b = 100\n",
    "  c = 25\n",
    "  if(a > c):\n",
    "    if(b > a):\n",
    "        print(\"Biggest Number in the given numbers\")\n",
    "    elif(b > c):\n",
    "        print(\"False\")\n",
    "    else :\n",
    "        print(\"Exit\")"
   ]
  },
  {
   "cell_type": "code",
   "execution_count": 24,
   "id": "95558b81-b3df-478c-a44c-c908bcb3a81e",
   "metadata": {},
   "outputs": [
    {
     "name": "stdout",
     "output_type": "stream",
     "text": [
      "8 16 24 10 20 30 "
     ]
    }
   ],
   "source": [
    "for num in 8,10:\n",
    "    for counter in range (1,4):\n",
    "        print(num*counter,end = \" \")"
   ]
  },
  {
   "cell_type": "code",
   "execution_count": 66,
   "id": "ae47cfbc-363e-4513-a49d-ca94dff10b31",
   "metadata": {},
   "outputs": [
    {
     "name": "stdout",
     "output_type": "stream",
     "text": [
      "10,11,12,13,14,15,16,17,18,19,20,21,22,23,24,25,26,27,28,29,30,31,32,33,34,35,36,37,38,39,"
     ]
    }
   ],
   "source": [
    " number = 40\n",
    " for value in range(10,60):\n",
    "   if(number > value):\n",
    "     print(value,end = \",\") "
   ]
  },
  {
   "cell_type": "code",
   "execution_count": 45,
   "id": "8b6bdeae-3de2-408a-b242-2a11748a648c",
   "metadata": {},
   "outputs": [
    {
     "name": "stdout",
     "output_type": "stream",
     "text": [
      "10\n",
      "11\n",
      "12\n",
      "13\n",
      "14\n",
      "15\n",
      "16\n",
      "17\n",
      "18\n",
      "19\n",
      "20\n",
      "21\n",
      "22\n",
      "23\n",
      "24\n",
      "25\n",
      "26\n",
      "27\n",
      "28\n",
      "29\n",
      "30\n",
      "31\n",
      "32\n",
      "33\n",
      "34\n",
      "35\n",
      "36\n",
      "37\n",
      "38\n",
      "39\n",
      "40,"
     ]
    }
   ],
   "source": [
    " number = 40\n",
    " for value in range(10,60):\n",
    "   if(number > value):\n",
    "     print(value) \n",
    "   else:\n",
    "     print(value)\n",
    "     break"
   ]
  },
  {
   "cell_type": "code",
   "execution_count": 56,
   "id": "32b0cdac-86b5-4cdb-8edb-6d468adcc5f1",
   "metadata": {},
   "outputs": [
    {
     "name": "stdout",
     "output_type": "stream",
     "text": [
      "23\n",
      "43\n",
      "84\n",
      "92\n"
     ]
    }
   ],
   "source": [
    "for num in 5,10,23,35,43,55,60,70,84,92:\n",
    "    if(num%5!=0):\n",
    "        print(num)"
   ]
  },
  {
   "cell_type": "code",
   "execution_count": 65,
   "id": "9694aa27-6285-45e5-9e40-f86e930ee969",
   "metadata": {},
   "outputs": [
    {
     "name": "stdout",
     "output_type": "stream",
     "text": [
      "10,23,43,60,70,84,92,"
     ]
    }
   ],
   "source": [
    "for num in 5,10,23,35,43,55,60,70,84,92:\n",
    "    if(num%5!=0):\n",
    "        print(num,end = \",\")\n",
    "        continue\n",
    "    if(num%10 == 0):\n",
    "        print(num, end = \",\")\n",
    "        continue"
   ]
  },
  {
   "cell_type": "code",
   "execution_count": 70,
   "id": "0e2076fd-82df-4278-806e-b2b8f32bf773",
   "metadata": {},
   "outputs": [
    {
     "name": "stdout",
     "output_type": "stream",
     "text": [
      "10,23,40,60,70,84,92,"
     ]
    }
   ],
   "source": [
    "for num in 5,10,23,35,40,55,60,70,84,92:\n",
    "    if(num%5!=0):\n",
    "        print(num,end = \",\")\n",
    "        continue\n",
    "    if(num%10 == 0):\n",
    "        print(num, end = \",\")\n",
    "        continue\n",
    "    if(num%4 == 0):\n",
    "        print(num)\n",
    "        continue"
   ]
  },
  {
   "cell_type": "code",
   "execution_count": 75,
   "id": "2f124bcc-f657-4975-8a04-9e0031a374a5",
   "metadata": {},
   "outputs": [
    {
     "name": "stdout",
     "output_type": "stream",
     "text": [
      "5.0\n"
     ]
    }
   ],
   "source": [
    "  a = 20\n",
    "  b = 6\n",
    "  while(a > 4):\n",
    "      if(a >= b):\n",
    "          a = a/4\n",
    "      else:\n",
    "          print(a)\n",
    "          break"
   ]
  },
  {
   "cell_type": "code",
   "execution_count": 77,
   "id": "0d8af909-ccee-4d07-ad2b-074f375a52ab",
   "metadata": {},
   "outputs": [
    {
     "name": "stdout",
     "output_type": "stream",
     "text": [
      "10700\n"
     ]
    }
   ],
   "source": [
    "def collect_tax(x,y):\n",
    "    tax=x+y\n",
    "    return tax\n",
    "\n",
    "a=2500\n",
    "b=8200\n",
    "result=collect_tax(a,b)\n",
    "print(result)"
   ]
  },
  {
   "cell_type": "code",
   "execution_count": 80,
   "id": "b7d7c2b6-0764-421b-a7f1-df5618bc8712",
   "metadata": {},
   "outputs": [
    {
     "name": "stdout",
     "output_type": "stream",
     "text": [
      "Result: 10700\n"
     ]
    }
   ],
   "source": [
    "def check_value(message,num):\n",
    "    msg=message[:num]\n",
    "    return len(msg)\n",
    "\n",
    "#line 4:function call statement \n",
    "print(\"Result:\", result)  # Here we are not giving any number in this its default taking above rersult y "
   ]
  },
  {
   "cell_type": "code",
   "execution_count": 82,
   "id": "7bbcd803-c447-4a03-8c02-07b5a1b6bd36",
   "metadata": {},
   "outputs": [],
   "source": [
    "def verify(num1,num2):\n",
    "    if num1 > num2:\n",
    "        return num1\n",
    "    elif num1 == num2:\n",
    "        return 1\n",
    "    else:\n",
    "        return num2   # here also not giving any num how to check the verify condition"
   ]
  },
  {
   "cell_type": "code",
   "execution_count": 83,
   "id": "2809b3f2-0e13-42f4-a674-1fc9063ca3b0",
   "metadata": {},
   "outputs": [
    {
     "name": "stdout",
     "output_type": "stream",
     "text": [
      "B\n"
     ]
    }
   ],
   "source": [
    "def display(arg1,arg2):\n",
    "    if(verify(arg1,arg2)==arg1):\n",
    "        print(\"A\")\n",
    "    elif(verify(arg1,arg2)==1):\n",
    "        print(\"C\")\n",
    "    else:\n",
    "        print(\"B\")\n",
    "        \n",
    "display(1000,3500)    # here also not giving any num how to check the verify condition"
   ]
  },
  {
   "cell_type": "code",
   "execution_count": 84,
   "id": "ac34d831-6774-43d4-bf71-603097be6f62",
   "metadata": {},
   "outputs": [
    {
     "name": "stdout",
     "output_type": "stream",
     "text": [
      "B\n"
     ]
    }
   ],
   "source": [
    "def verify(num1,num2):\n",
    "    if num1 > num2:\n",
    "        return num1\n",
    "    elif num1 == num2:\n",
    "        return 1\n",
    "    else:\n",
    "        return num2\n",
    "def display(arg1,arg2):\n",
    "    if(verify(arg1,arg2)==arg1):\n",
    "        print(\"A\")\n",
    "    elif(verify(arg1,arg2)==1):\n",
    "        print(\"C\")\n",
    "    else:\n",
    "        print(\"B\")\n",
    "        \n",
    "display(1000,3500)    # here also not giving any num how to check the verify condition        "
   ]
  },
  {
   "cell_type": "code",
   "execution_count": 85,
   "id": "3e3d3129-99e0-4847-b89f-6c0a062a8600",
   "metadata": {},
   "outputs": [
    {
     "name": "stdout",
     "output_type": "stream",
     "text": [
      "0\n",
      "0\n"
     ]
    }
   ],
   "source": [
    "result=0\n",
    "\n",
    "def find_sum(num1,num2):\n",
    "    if(num1!=num2):\n",
    "        result=num1+num2\n",
    "    else:\n",
    "        result=2*(num1+num2)\n",
    "\n",
    "        find_sum(3,4)\n",
    "print(result)\n",
    "find_sum(5,5)\n",
    "print(result)"
   ]
  },
  {
   "cell_type": "code",
   "execution_count": 88,
   "id": "cc90c0e3-32ef-41f0-8752-622608cf3276",
   "metadata": {},
   "outputs": [],
   "source": [
    "def find_avg(list_num):\n",
    "    result_sum=0\n",
    "    for num in list_num:\n",
    "        result_sum+=num\n",
    "    result_avg=result_sum/len(list_num)\n",
    "    find_avg([5,8,5])\n",
    "    print(result_avg)"
   ]
  },
  {
   "cell_type": "code",
   "execution_count": null,
   "id": "60304d26-0353-4647-8e15-812ddd34ccfb",
   "metadata": {},
   "outputs": [],
   "source": []
  }
 ],
 "metadata": {
  "kernelspec": {
   "display_name": "Python 3 (ipykernel)",
   "language": "python",
   "name": "python3"
  },
  "language_info": {
   "codemirror_mode": {
    "name": "ipython",
    "version": 3
   },
   "file_extension": ".py",
   "mimetype": "text/x-python",
   "name": "python",
   "nbconvert_exporter": "python",
   "pygments_lexer": "ipython3",
   "version": "3.11.5"
  }
 },
 "nbformat": 4,
 "nbformat_minor": 5
}
