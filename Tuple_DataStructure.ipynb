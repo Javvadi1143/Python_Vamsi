{
 "cells": [
  {
   "cell_type": "markdown",
   "id": "873b6af5-fbbb-40f1-946d-3d12cbb94383",
   "metadata": {},
   "source": [
    "\n",
    "Tuple Data Structure\n",
    "\n",
    "* same as list but only difference is immutable(once we creates tuple object we cannot perform any changes in that object)\n",
    "* Insertion Order is preserved\n",
    "* Duplicates are allowed\n",
    "* Heterogeneous objects are allowed.\n",
    "* We can preserve insertion order and we can differentiate duplicate objects by using index. Hence index will play very important role in Tuple also.\n",
    "* Tuple support both +ve and -ve index. +ve index means forward direction(from left to right) and -ve index means backward direction(from right to left)"
   ]
  },
  {
   "cell_type": "code",
   "execution_count": 1,
   "id": "f904ce0f-a1e4-4c8f-aa22-521b5392e07e",
   "metadata": {},
   "outputs": [
    {
     "name": "stdout",
     "output_type": "stream",
     "text": [
      "<class 'tuple'>\n"
     ]
    }
   ],
   "source": [
    "a = 10,20,30,40\n",
    "print(type(a))"
   ]
  },
  {
   "cell_type": "code",
   "execution_count": 2,
   "id": "c0d5be52-47d9-4a08-901f-eb5503804ab6",
   "metadata": {},
   "outputs": [
    {
     "name": "stdout",
     "output_type": "stream",
     "text": [
      "(10, 20, 30, 40)\n"
     ]
    }
   ],
   "source": [
    "print(a)"
   ]
  },
  {
   "cell_type": "code",
   "execution_count": 3,
   "id": "7f26626e-9a5b-4202-903a-63c31db79481",
   "metadata": {},
   "outputs": [
    {
     "name": "stdout",
     "output_type": "stream",
     "text": [
      "10\n"
     ]
    }
   ],
   "source": [
    "b = (10)\n",
    "print(b)"
   ]
  },
  {
   "cell_type": "markdown",
   "id": "ea7c8123-9c98-45bc-98ac-3efff3773abd",
   "metadata": {},
   "source": [
    "Note: We have to take special care about single valued tuple.compulsary the value should ends with comma,otherwise it is not treated as tuple."
   ]
  },
  {
   "cell_type": "code",
   "execution_count": 5,
   "id": "a51b7c98-6c10-4c35-9429-8f77102ea9d8",
   "metadata": {},
   "outputs": [
    {
     "name": "stdout",
     "output_type": "stream",
     "text": [
      "(10,)\n",
      "<class 'tuple'>\n"
     ]
    }
   ],
   "source": [
    "c = (10,)\n",
    "print(c)\n",
    "print(type(c))"
   ]
  },
  {
   "cell_type": "code",
   "execution_count": 8,
   "id": "14563389-41a7-47ae-a010-9d12b001f4e4",
   "metadata": {},
   "outputs": [
    {
     "data": {
      "text/plain": [
       "53"
      ]
     },
     "execution_count": 8,
     "metadata": {},
     "output_type": "execute_result"
    }
   ],
   "source": [
    "d = (32,3,43,2,98,96,53,31,22)\n",
    "##d[3]\n",
    "d[6]"
   ]
  },
  {
   "cell_type": "code",
   "execution_count": 10,
   "id": "4577f2ed-36d7-4857-b14e-0401e57f2afd",
   "metadata": {},
   "outputs": [
    {
     "data": {
      "text/plain": [
       "(2, 96, 31)"
      ]
     },
     "execution_count": 10,
     "metadata": {},
     "output_type": "execute_result"
    }
   ],
   "source": [
    "d[3:8:2]"
   ]
  },
  {
   "cell_type": "code",
   "execution_count": 11,
   "id": "92849c76-22ef-4b72-b8bf-08607bc0210e",
   "metadata": {},
   "outputs": [
    {
     "name": "stdout",
     "output_type": "stream",
     "text": [
      "(23, 45, 78, 29, 87)\n"
     ]
    }
   ],
   "source": [
    "x = (23,45,78,29,87)\n",
    "print(x)"
   ]
  },
  {
   "cell_type": "code",
   "execution_count": 12,
   "id": "6df02389-3d64-4124-afe5-0556918ef2e9",
   "metadata": {},
   "outputs": [
    {
     "name": "stdout",
     "output_type": "stream",
     "text": [
      "(56, 87, 34, 50, 89, 99)\n"
     ]
    }
   ],
   "source": [
    "y = (56,87,34,50,89,99)\n",
    "print(y)"
   ]
  },
  {
   "cell_type": "code",
   "execution_count": 13,
   "id": "03ba5882-0f4c-48eb-9c90-91417d2f0a50",
   "metadata": {},
   "outputs": [
    {
     "name": "stdout",
     "output_type": "stream",
     "text": [
      "(23, 45, 78, 29, 87, 56, 87, 34, 50, 89, 99)\n"
     ]
    }
   ],
   "source": [
    "z = x+y\n",
    "print(z)"
   ]
  },
  {
   "cell_type": "code",
   "execution_count": 16,
   "id": "5d80de81-0dae-4fc4-83ca-0fe42a25b8b0",
   "metadata": {},
   "outputs": [
    {
     "ename": "AttributeError",
     "evalue": "'tuple' object has no attribute 'sort'",
     "output_type": "error",
     "traceback": [
      "\u001b[1;31m---------------------------------------------------------------------------\u001b[0m",
      "\u001b[1;31mAttributeError\u001b[0m                            Traceback (most recent call last)",
      "Cell \u001b[1;32mIn[16], line 1\u001b[0m\n\u001b[1;32m----> 1\u001b[0m \u001b[43mz\u001b[49m\u001b[38;5;241;43m.\u001b[39;49m\u001b[43msort\u001b[49m()\n",
      "\u001b[1;31mAttributeError\u001b[0m: 'tuple' object has no attribute 'sort'"
     ]
    }
   ],
   "source": [
    "z.sort()"
   ]
  },
  {
   "cell_type": "code",
   "execution_count": 23,
   "id": "3ce62f7b-9829-4fcf-b4eb-43115ebfda53",
   "metadata": {},
   "outputs": [
    {
     "name": "stdout",
     "output_type": "stream",
     "text": [
      "[34, 50, 56, 87, 89, 99]\n"
     ]
    }
   ],
   "source": [
    "l = [56,87,34,50,89,99]\n",
    "l.sort()  \n",
    "print(l)   # in list we are using sort() we ahve to write the print doesn't return value  and using sorted() it return value"
   ]
  },
  {
   "cell_type": "code",
   "execution_count": 24,
   "id": "b2ee66b4-fe6f-482d-b26c-15e6ed8a7889",
   "metadata": {},
   "outputs": [
    {
     "data": {
      "text/plain": [
       "[34, 50, 56, 76, 87, 89, 99]"
      ]
     },
     "execution_count": 24,
     "metadata": {},
     "output_type": "execute_result"
    }
   ],
   "source": [
    "l = (76,56,87,34,50,89,99)\n",
    "sorted(l)         # in tuple using sorted its convert to list and return the value"
   ]
  },
  {
   "cell_type": "code",
   "execution_count": 25,
   "id": "0b899659-b3bd-420b-b311-8dce10d653cb",
   "metadata": {},
   "outputs": [
    {
     "data": {
      "text/plain": [
       "[99, 89, 87, 76, 56, 50, 34]"
      ]
     },
     "execution_count": 25,
     "metadata": {},
     "output_type": "execute_result"
    }
   ],
   "source": [
    "sorted(l, reverse=True)"
   ]
  },
  {
   "cell_type": "code",
   "execution_count": 27,
   "id": "8c5ca36a-323e-4e21-922e-f1c67c4265d2",
   "metadata": {},
   "outputs": [
    {
     "data": {
      "text/plain": [
       "list"
      ]
     },
     "execution_count": 27,
     "metadata": {},
     "output_type": "execute_result"
    }
   ],
   "source": [
    "type(sorted(l))"
   ]
  },
  {
   "cell_type": "code",
   "execution_count": 28,
   "id": "1a062976-5895-46bb-9f5c-c708ac0f54e0",
   "metadata": {},
   "outputs": [
    {
     "data": {
      "text/plain": [
       "34"
      ]
     },
     "execution_count": 28,
     "metadata": {},
     "output_type": "execute_result"
    }
   ],
   "source": [
    "min(l)"
   ]
  },
  {
   "cell_type": "code",
   "execution_count": 29,
   "id": "f75375c2-6fd8-47f2-a05a-215da8064638",
   "metadata": {},
   "outputs": [
    {
     "data": {
      "text/plain": [
       "99"
      ]
     },
     "execution_count": 29,
     "metadata": {},
     "output_type": "execute_result"
    }
   ],
   "source": [
    "max(l)"
   ]
  },
  {
   "cell_type": "code",
   "execution_count": 31,
   "id": "fe12cb6c-e9b1-4954-be5a-ad8889e4591f",
   "metadata": {},
   "outputs": [
    {
     "name": "stdout",
     "output_type": "stream",
     "text": [
      "(10, 20, 30)\n",
      "<class 'tuple'>\n"
     ]
    }
   ],
   "source": [
    "a = 10,\n",
    "b = 20,\n",
    "c = 30,\n",
    "d = a+b+c\n",
    "print(d)\n",
    "print(type(d))"
   ]
  },
  {
   "cell_type": "code",
   "execution_count": 35,
   "id": "e271b639-918d-4e96-9301-ebe77888656e",
   "metadata": {},
   "outputs": [
    {
     "name": "stdout",
     "output_type": "stream",
     "text": [
      "a= 1 b= 23 c= 45 d= 67 e= 89 g= 99 h= 42 j= 65\n",
      "a= 1 e= 89 g= 99\n"
     ]
    }
   ],
   "source": [
    "x = (1,23,45,67,89,99,42,65)\n",
    "a,b,c,d,e,g,h,j = x\n",
    "print(\"a=\",a,\"b=\",b,\"c=\",c,\"d=\",d,\"e=\",e,\"g=\",g,\"h=\",h,\"j=\",j)\n",
    "print(\"a=\",a,\"e=\",e,\"g=\",g)  # slected value syntax"
   ]
  },
  {
   "cell_type": "code",
   "execution_count": 40,
   "id": "9c917d01-819c-455a-b768-66c687d456ea",
   "metadata": {},
   "outputs": [
    {
     "data": {
      "text/plain": [
       "<generator object <genexpr> at 0x0000018110BC4930>"
      ]
     },
     "execution_count": 40,
     "metadata": {},
     "output_type": "execute_result"
    }
   ],
   "source": [
    "t = (x*2 for x in range(1,6))\n",
    "t    # by usnig tuple  does not support retun generated error"
   ]
  },
  {
   "cell_type": "code",
   "execution_count": 41,
   "id": "97f967db-d96c-4247-8963-e8f501e7bc31",
   "metadata": {},
   "outputs": [
    {
     "data": {
      "text/plain": [
       "[2, 4, 6, 8, 10]"
      ]
     },
     "execution_count": 41,
     "metadata": {},
     "output_type": "execute_result"
    }
   ],
   "source": [
    "t = [x*2 for x in range(1,6)]\n",
    "t    # by usnig tuple  does not support retun generated error"
   ]
  },
  {
   "cell_type": "code",
   "execution_count": 44,
   "id": "59c39a2c-2039-4bc2-a886-34dfb672fd1a",
   "metadata": {},
   "outputs": [
    {
     "name": "stdout",
     "output_type": "stream",
     "text": [
      "0\n",
      "1\n",
      "2\n",
      "3\n",
      "4\n"
     ]
    }
   ],
   "source": [
    "for i in range(5):\n",
    "    print(i)\n"
   ]
  },
  {
   "cell_type": "code",
   "execution_count": null,
   "id": "b230ce10-53a5-4ee1-a663-37769a45fa03",
   "metadata": {},
   "outputs": [],
   "source": []
  },
  {
   "cell_type": "code",
   "execution_count": null,
   "id": "f76a144e-4959-4e2c-80ef-b12121a19aad",
   "metadata": {},
   "outputs": [],
   "source": []
  },
  {
   "cell_type": "code",
   "execution_count": null,
   "id": "37cfe695-825b-474f-a586-1da2b6754a34",
   "metadata": {},
   "outputs": [],
   "source": []
  },
  {
   "cell_type": "code",
   "execution_count": null,
   "id": "ca12b83d-e4ca-410b-88ff-8d4e41734507",
   "metadata": {},
   "outputs": [],
   "source": []
  },
  {
   "cell_type": "code",
   "execution_count": null,
   "id": "8bbfbf27-aadb-4e24-8b45-fd37a2c668c5",
   "metadata": {},
   "outputs": [],
   "source": []
  },
  {
   "cell_type": "code",
   "execution_count": null,
   "id": "05d34f08-e996-46e4-8dcb-95a29bf22525",
   "metadata": {},
   "outputs": [],
   "source": []
  },
  {
   "cell_type": "code",
   "execution_count": null,
   "id": "3a01457a-f935-4c30-9b7a-344de4c50960",
   "metadata": {},
   "outputs": [],
   "source": []
  },
  {
   "cell_type": "code",
   "execution_count": null,
   "id": "dd00f449-404b-427e-a446-decef85df33e",
   "metadata": {},
   "outputs": [],
   "source": []
  }
 ],
 "metadata": {
  "kernelspec": {
   "display_name": "Python 3 (ipykernel)",
   "language": "python",
   "name": "python3"
  },
  "language_info": {
   "codemirror_mode": {
    "name": "ipython",
    "version": 3
   },
   "file_extension": ".py",
   "mimetype": "text/x-python",
   "name": "python",
   "nbconvert_exporter": "python",
   "pygments_lexer": "ipython3",
   "version": "3.11.5"
  }
 },
 "nbformat": 4,
 "nbformat_minor": 5
}
