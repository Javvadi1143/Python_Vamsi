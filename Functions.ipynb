{
 "cells": [
  {
   "cell_type": "code",
   "execution_count": 2,
   "id": "0b2e37bd-b1d4-4377-97ab-2ea10e940083",
   "metadata": {},
   "outputs": [],
   "source": [
    "def welocmeToFunctions():\n",
    "    print(\"Hello Welcome to Functions Topics\")"
   ]
  },
  {
   "cell_type": "code",
   "execution_count": 3,
   "id": "2851998b-ae28-4134-a230-1d9fb1d7a287",
   "metadata": {},
   "outputs": [
    {
     "name": "stdout",
     "output_type": "stream",
     "text": [
      "Hello Welcome to Functions Topics\n"
     ]
    }
   ],
   "source": [
    "welocmeToFunctions()"
   ]
  },
  {
   "cell_type": "code",
   "execution_count": 4,
   "id": "93dd38c0-7ff7-4644-8181-306ce3b23f8b",
   "metadata": {},
   "outputs": [],
   "source": [
    "def welocmeToFunctions(name,Technology):\n",
    "    print(\"Hello\",name,\"Welcome to\",Technology,\"Functions Topics\")"
   ]
  },
  {
   "cell_type": "code",
   "execution_count": 5,
   "id": "8962ec49-c925-4995-9779-65d34a707c2c",
   "metadata": {},
   "outputs": [
    {
     "name": "stdout",
     "output_type": "stream",
     "text": [
      "Hello vamsi Welcome to Python Functions Topics\n"
     ]
    }
   ],
   "source": [
    "welocmeToFunctions(\"vamsi\",\"Python\")"
   ]
  },
  {
   "cell_type": "markdown",
   "id": "8f553828-14cd-4555-97b1-d89cb333e466",
   "metadata": {},
   "source": [
    "Parameters : "
   ]
  },
  {
   "cell_type": "code",
   "execution_count": 7,
   "id": "e316d8a8-874f-45c3-852f-6e91362cc04f",
   "metadata": {},
   "outputs": [],
   "source": [
    "def Multi(num):\n",
    "   return num*num"
   ]
  },
  {
   "cell_type": "code",
   "execution_count": 8,
   "id": "1b881333-3fbc-4871-8212-516dc5ef15e8",
   "metadata": {},
   "outputs": [
    {
     "data": {
      "text/plain": [
       "36"
      ]
     },
     "execution_count": 8,
     "metadata": {},
     "output_type": "execute_result"
    }
   ],
   "source": [
    "Multi(6)"
   ]
  },
  {
   "cell_type": "markdown",
   "id": "0678af2e-b1bd-4fc5-874a-9ae261dcad3c",
   "metadata": {},
   "source": [
    "2. return statement:  \n",
    "function can takes input values as a parameters and executes business logic and returns output as return "
   ]
  },
  {
   "cell_type": "code",
   "execution_count": 3,
   "id": "99d75c12-a357-4a88-938c-2a5b91180c7b",
   "metadata": {},
   "outputs": [
    {
     "data": {
      "text/plain": [
       "8"
      ]
     },
     "execution_count": 3,
     "metadata": {},
     "output_type": "execute_result"
    }
   ],
   "source": [
    "def add(a,b):\n",
    "    return a+b\n",
    "add(2,6)    "
   ]
  },
  {
   "cell_type": "code",
   "execution_count": 4,
   "id": "235f4806-3b55-44a7-85e7-a9641f0fcc70",
   "metadata": {},
   "outputs": [
    {
     "name": "stdout",
     "output_type": "stream",
     "text": [
      "hello\n",
      "hello\n",
      "None\n"
     ]
    }
   ],
   "source": [
    "def f1():\n",
    "    print(\"hello\")\n",
    "    \n",
    "f1()\n",
    "#print?\n",
    "print(f1())"
   ]
  },
  {
   "cell_type": "code",
   "execution_count": 8,
   "id": "5227dd91-2e94-47f6-a7e2-cffde922e9df",
   "metadata": {},
   "outputs": [],
   "source": [
    "def add_sub(x):\n",
    "    if x%2==0:\n",
    "       print(\"{} given num is Even num\".format(x))\n",
    "    else:\n",
    "       print(\"{} given num is Odd num\".format(x))\n"
   ]
  },
  {
   "cell_type": "code",
   "execution_count": 10,
   "id": "20300453-055b-4c74-8c87-d7ec2e5522da",
   "metadata": {},
   "outputs": [
    {
     "name": "stdout",
     "output_type": "stream",
     "text": [
      "26 given num is Even num\n"
     ]
    }
   ],
   "source": [
    "add_sub(26)"
   ]
  },
  {
   "cell_type": "code",
   "execution_count": 11,
   "id": "79ed6a2c-aebf-495f-98b7-3f762a56ed38",
   "metadata": {},
   "outputs": [
    {
     "name": "stdout",
     "output_type": "stream",
     "text": [
      "27 given num is Odd num\n"
     ]
    }
   ],
   "source": [
    "add_sub(27)"
   ]
  },
  {
   "cell_type": "code",
   "execution_count": null,
   "id": "769a7393-19bf-4c20-a823-5552e60bdb8b",
   "metadata": {},
   "outputs": [],
   "source": [
    "#5!= 5*4*3*2*1\n",
    "def fact(num):\n",
    "    result=1\n",
    "    while num>=1:\n",
    "        result = result*num\n",
    "        num = num-1\n",
    "    return result\n",
    "\n",
    "fact(5)"
   ]
  },
  {
   "cell_type": "code",
   "execution_count": 15,
   "id": "fb70ea4e-b360-406a-8a34-2318df50cddc",
   "metadata": {},
   "outputs": [],
   "source": [
    "def MultiVal(num):\n",
    "    result = 1\n",
    "    while num>=1:\n",
    "        result = result*num \n",
    "        num = num-1\n",
    "    return result    "
   ]
  },
  {
   "cell_type": "code",
   "execution_count": null,
   "id": "eb0dac8a-82df-4ebd-94cb-41983e07e248",
   "metadata": {},
   "outputs": [],
   "source": [
    "MultiVal(5)"
   ]
  },
  {
   "cell_type": "markdown",
   "id": "9c7ddd09-763d-4e2a-940f-7830c5f2c930",
   "metadata": {},
   "source": [
    "In Python a function can return multiple values"
   ]
  },
  {
   "cell_type": "code",
   "execution_count": 17,
   "id": "0a35494c-6deb-4d8d-82c0-19a65c5ec7b9",
   "metadata": {},
   "outputs": [],
   "source": [
    "def sub_add(x,y):\n",
    "    sub = x-y\n",
    "    add = x+y\n",
    "    return sub,add"
   ]
  },
  {
   "cell_type": "code",
   "execution_count": 21,
   "id": "6c1f60cd-179c-4c7a-a89d-aa54c58fa4a0",
   "metadata": {},
   "outputs": [],
   "source": [
    "j = sub_add(5,8)"
   ]
  },
  {
   "cell_type": "code",
   "execution_count": 22,
   "id": "a41be640-a4b7-4331-b3c7-81313f4805a9",
   "metadata": {},
   "outputs": [
    {
     "name": "stdout",
     "output_type": "stream",
     "text": [
      "(-3, 13)\n"
     ]
    }
   ],
   "source": [
    "print(j)"
   ]
  },
  {
   "cell_type": "code",
   "execution_count": 23,
   "id": "eacf0d87-95b0-401c-9abd-47e8c0a0d78f",
   "metadata": {},
   "outputs": [
    {
     "data": {
      "text/plain": [
       "[-3, 13]"
      ]
     },
     "execution_count": 23,
     "metadata": {},
     "output_type": "execute_result"
    }
   ],
   "source": [
    "list(j)"
   ]
  },
  {
   "cell_type": "code",
   "execution_count": 25,
   "id": "cbba43f2-60b5-4513-ab2f-aa5995baa165",
   "metadata": {},
   "outputs": [
    {
     "name": "stdout",
     "output_type": "stream",
     "text": [
      "(79, 11, 1530, 1.3235294117647058)\n",
      "<class 'tuple'>\n",
      "[79, 11, 1530, 1.3235294117647058]\n"
     ]
    }
   ],
   "source": [
    "def calc(x,y):\n",
    "    add = x+y\n",
    "    sub = x-y\n",
    "    mul = x*y\n",
    "    div = x/y\n",
    "    return add, sub, mul, div\n",
    "t = calc(45,34)\n",
    "print(t)\n",
    "print(type(t))\n",
    "l = list(t)\n",
    "print(l)"
   ]
  },
  {
   "cell_type": "markdown",
   "id": "cea98def-684c-4608-b7dd-58015058eaaf",
   "metadata": {},
   "source": [
    "\n",
    "3.Types of Arguments\n",
    "* positional \n",
    "* keyword \n",
    "* default \n",
    "* variable length arguments "
   ]
  },
  {
   "cell_type": "code",
   "execution_count": null,
   "id": "f8b9970c-190d-406d-9ed9-d60d238c273b",
   "metadata": {},
   "outputs": [],
   "source": []
  },
  {
   "cell_type": "markdown",
   "id": "a18f5235-7c30-4f59-af7c-4404a493e367",
   "metadata": {},
   "source": [
    "2. return statement:"
   ]
  },
  {
   "cell_type": "code",
   "execution_count": 10,
   "id": "fac68a7d-efd6-4c08-90a8-fdd9d688f1f6",
   "metadata": {},
   "outputs": [],
   "source": [
    "def add(x,y):\n",
    "    return x+y"
   ]
  },
  {
   "cell_type": "code",
   "execution_count": 11,
   "id": "3d1a9ac2-69dc-4a5d-aed2-6ffd540e65d2",
   "metadata": {},
   "outputs": [
    {
     "data": {
      "text/plain": [
       "55"
      ]
     },
     "execution_count": 11,
     "metadata": {},
     "output_type": "execute_result"
    }
   ],
   "source": [
    "add(23,32)"
   ]
  },
  {
   "cell_type": "code",
   "execution_count": 18,
   "id": "7e12d230-c7a1-41e7-a4b3-7c5890785132",
   "metadata": {},
   "outputs": [],
   "source": [
    "def ASMD(x,y):\n",
    "    a = x+y\n",
    "    s = x-y\n",
    "    m = x*y\n",
    "    d = x%y\n",
    "    return a,s,m,d"
   ]
  },
  {
   "cell_type": "code",
   "execution_count": 19,
   "id": "3e6ce625-ddba-4581-b4f3-8d3f146dcd61",
   "metadata": {},
   "outputs": [
    {
     "data": {
      "text/plain": [
       "(66, -22, 968, 22)"
      ]
     },
     "execution_count": 19,
     "metadata": {},
     "output_type": "execute_result"
    }
   ],
   "source": [
    "ASMD(22,44)"
   ]
  },
  {
   "cell_type": "code",
   "execution_count": 26,
   "id": "718553ea-7755-4858-b03b-2600bf072538",
   "metadata": {},
   "outputs": [],
   "source": [
    "def ASMD(x,y):\n",
    "    a = x+y\n",
    "    s = x-y\n",
    "    m = x*y\n",
    "    d = x%y\n",
    "    f = a,s,m,d\n",
    "    print(f)\n",
    "    print(type(f))\n",
    "    l = list(f)\n",
    "    print(l,type(l))"
   ]
  },
  {
   "cell_type": "code",
   "execution_count": 27,
   "id": "7d198200-35cf-45ab-9c5f-91571ff80c84",
   "metadata": {},
   "outputs": [
    {
     "name": "stdout",
     "output_type": "stream",
     "text": [
      "(97, -11, 2322, 43)\n",
      "<class 'tuple'>\n",
      "[97, -11, 2322, 43] <class 'list'>\n"
     ]
    }
   ],
   "source": [
    "ASMD(43,54)"
   ]
  },
  {
   "cell_type": "code",
   "execution_count": 32,
   "id": "824c9603-b8a0-4a15-b1d2-f54155b58b38",
   "metadata": {},
   "outputs": [
    {
     "data": {
      "text/plain": [
       "21"
      ]
     },
     "execution_count": 32,
     "metadata": {},
     "output_type": "execute_result"
    }
   ],
   "source": [
    "def add(a,b):\n",
    "    return a+b\n",
    "add(1,20)"
   ]
  },
  {
   "cell_type": "code",
   "execution_count": 35,
   "id": "40a38468-4984-4af2-8914-0e4238ba289b",
   "metadata": {},
   "outputs": [
    {
     "data": {
      "text/plain": [
       "-44"
      ]
     },
     "execution_count": 35,
     "metadata": {},
     "output_type": "execute_result"
    }
   ],
   "source": [
    "def sub(x,y):\n",
    "    return x-y\n",
    "sub(54,98)    "
   ]
  },
  {
   "cell_type": "markdown",
   "id": "2bd89375-eb9f-44d7-be1a-344dbff2a9cd",
   "metadata": {},
   "source": [
    "Keyword Arguments: sometimes we can pass argument values by keyword i.e by parameter name \n",
    "* no. of arguments must be matched"
   ]
  },
  {
   "cell_type": "code",
   "execution_count": 113,
   "id": "08f4314b-94a3-41af-a2ed-f9afebe0bc41",
   "metadata": {},
   "outputs": [],
   "source": [
    "def CustomerRegistration(name,age,gender,state):\n",
    "    return (\"My Name is: {0} age is:{1} I'm : {2} I'm from : {3}\").format(name,age,gender,state)  # when we are return the value ' coming in the test "
   ]
  },
  {
   "cell_type": "code",
   "execution_count": 114,
   "id": "bab620b4-8031-4b33-a1ac-2c4cbc83150b",
   "metadata": {},
   "outputs": [
    {
     "data": {
      "text/plain": [
       "\"My Name is: Vamsi age is:28 I'm : Male I'm from : Andhra\""
      ]
     },
     "execution_count": 114,
     "metadata": {},
     "output_type": "execute_result"
    }
   ],
   "source": [
    "CustomerRegistration(\"Vamsi\",28,\"Male\",\"Andhra\")"
   ]
  },
  {
   "cell_type": "code",
   "execution_count": 58,
   "id": "2c688011-2cd3-4222-8c00-100d32fb5eb8",
   "metadata": {},
   "outputs": [],
   "source": [
    "def _CustomerRegistration(name,age):\n",
    "    print(\"My Name is:\",name,\"age is:\",age,)"
   ]
  },
  {
   "cell_type": "code",
   "execution_count": 59,
   "id": "a0e9fa53-2893-4600-b18c-f23e300f849e",
   "metadata": {},
   "outputs": [
    {
     "name": "stdout",
     "output_type": "stream",
     "text": [
      "My Name is: Vamsi age is: 29\n"
     ]
    }
   ],
   "source": [
    "_CustomerRegistration(\"Vamsi\",29)"
   ]
  },
  {
   "cell_type": "code",
   "execution_count": 56,
   "id": "01889e28-bce0-4400-b465-e2ebc7ec08fe",
   "metadata": {},
   "outputs": [
    {
     "data": {
      "text/plain": [
       "('My Name is:', 'Vamsi', 'age is:', 29)"
      ]
     },
     "execution_count": 56,
     "metadata": {},
     "output_type": "execute_result"
    }
   ],
   "source": [
    "_CustomerRegistration(age=29,name=\"Vamsi\")"
   ]
  },
  {
   "cell_type": "code",
   "execution_count": 60,
   "id": "f67bf568-ebe3-4ae8-b4da-d922090805ff",
   "metadata": {},
   "outputs": [
    {
     "name": "stdout",
     "output_type": "stream",
     "text": [
      "my name is: pawan age is: 26\n"
     ]
    }
   ],
   "source": [
    "def wish(name,age):\n",
    "    print(\"my name is:\",name,\"age is:\",age)\n",
    "    \n",
    "#wish(name=\"pawan\",age=26)\n",
    "wish(age=26,name=\"pawan\")"
   ]
  },
  {
   "cell_type": "code",
   "execution_count": 69,
   "id": "32b7b551-f651-45db-9e38-80c0b0218099",
   "metadata": {},
   "outputs": [
    {
     "name": "stdout",
     "output_type": "stream",
     "text": [
      "My Name is: Priyanka age is: 25 I'm : Female I'm from : Andhra\n"
     ]
    }
   ],
   "source": [
    "def BothPositionalKeyWord(name,age,gender,state):\n",
    "    print(\"My Name is:\",name,\"age is:\",age,\"I'm :\",gender,\"I'm from :\",state)\n",
    "\n",
    "BothPositionalKeyWord(\"Priyanka\",25,\"Female\",\"Andhra\")    \n",
    "#BothPositionalKeyWord(\"Priyanka\",25,gender=\"Female\",\"Andhra\")    "
   ]
  },
  {
   "cell_type": "code",
   "execution_count": 71,
   "id": "74c1f77d-c341-4f14-959c-8d5185f5d982",
   "metadata": {},
   "outputs": [
    {
     "ename": "SyntaxError",
     "evalue": "positional argument follows keyword argument (3321043213.py, line 1)",
     "output_type": "error",
     "traceback": [
      "\u001b[1;36m  Cell \u001b[1;32mIn[71], line 1\u001b[1;36m\u001b[0m\n\u001b[1;33m    BothPositionalKeyWord(\"Priyanka\",25,gender=\"Female\",\"Andhra\")    # In Parameters Keyword asigned then no option to give positinal value\u001b[0m\n\u001b[1;37m                                                                ^\u001b[0m\n\u001b[1;31mSyntaxError\u001b[0m\u001b[1;31m:\u001b[0m positional argument follows keyword argument\n"
     ]
    }
   ],
   "source": [
    "BothPositionalKeyWord(\"Priyanka\",25,gender=\"Female\",\"Andhra\")    # In Parameters Keyword asigned then no option to give positinal value"
   ]
  },
  {
   "cell_type": "code",
   "execution_count": 72,
   "id": "21f631c7-0e4c-48af-a8a2-03e056b5a109",
   "metadata": {},
   "outputs": [
    {
     "name": "stdout",
     "output_type": "stream",
     "text": [
      "My Name is: Priyanka age is: 25 I'm : Female I'm from : Andhra\n"
     ]
    }
   ],
   "source": [
    "BothPositionalKeyWord(\"Priyanka\",25,\"Female\",state = \"Andhra\")  "
   ]
  },
  {
   "cell_type": "code",
   "execution_count": 73,
   "id": "85171b86-bd81-4446-80cc-ca69813349f6",
   "metadata": {},
   "outputs": [],
   "source": [
    "def __CustomerRegistration(name = \"vamsi Javvadi\"):\n",
    "    print(\"My Name is:\",name)"
   ]
  },
  {
   "cell_type": "code",
   "execution_count": 74,
   "id": "f3852e49-fe76-4c11-8c4f-d60840e59120",
   "metadata": {},
   "outputs": [
    {
     "name": "stdout",
     "output_type": "stream",
     "text": [
      "My Name is: vamsi Javvadi\n"
     ]
    }
   ],
   "source": [
    "__CustomerRegistration()    # if you gave default value no need to pass if u pass the value default value change to given value"
   ]
  },
  {
   "cell_type": "code",
   "execution_count": 75,
   "id": "7afaf7fb-6eb2-4e80-ba33-d66711405c5f",
   "metadata": {},
   "outputs": [
    {
     "name": "stdout",
     "output_type": "stream",
     "text": [
      "My Name is: Krishna\n"
     ]
    }
   ],
   "source": [
    "__CustomerRegistration(\"Krishna\")"
   ]
  },
  {
   "cell_type": "markdown",
   "id": "edae7e03-0757-41e0-91da-9bf7c1d93313",
   "metadata": {},
   "source": [
    "\n",
    "\n",
    "Example for all above three "
   ]
  },
  {
   "cell_type": "code",
   "execution_count": 80,
   "id": "95cf3513-ca42-4682-aa52-9aae2cfb291e",
   "metadata": {},
   "outputs": [
    {
     "name": "stdout",
     "output_type": "stream",
     "text": [
      "Student name: Pandu\n",
      "Student Marks: 26\n",
      "qualification: B.Tech\n",
      "message: Good Morning\n"
     ]
    }
   ],
   "source": [
    "def wish(name,age,qual=\"btech\",msg=\"Good Morning\"):\n",
    "    print(\"Student name:\",name)\n",
    "    print(\"Student Marks:\",age)\n",
    "    print(\"qualification:\",qual)\n",
    "    print(\"message:\",msg)\n",
    "    \n",
    "#wish(\"Pandu\",25)               #positional\n",
    "#wish(age=26,name=\"Priya\")      #keyword\n",
    "#wish(\"Javvadi\",age=26)         #p,k\n",
    "wish(\"Pandu\",age=26,qual=\"B.Tech\") #p,k,d"
   ]
  },
  {
   "cell_type": "markdown",
   "id": "0e899528-6970-4659-8179-791eb9839a92",
   "metadata": {},
   "source": [
    "Variable Length"
   ]
  },
  {
   "cell_type": "code",
   "execution_count": 100,
   "id": "b498a15f-13f5-4173-88ef-17ba2daeed2c",
   "metadata": {},
   "outputs": [
    {
     "name": "stdout",
     "output_type": "stream",
     "text": [
      "0\n",
      "254\n",
      "6\n"
     ]
    }
   ],
   "source": [
    "def sum(*n):\n",
    "    count=0\n",
    "    for i in n:\n",
    "        count=count+i\n",
    "    print(count)\n",
    "    \n",
    "sum()\n",
    "sum(1,10,36,94,36,75,2)\n",
    "sum(1,3,2)"
   ]
  },
  {
   "cell_type": "code",
   "execution_count": 109,
   "id": "30d97521-a8f8-4dcd-b01c-cef8c99d4aa9",
   "metadata": {},
   "outputs": [
    {
     "name": "stdout",
     "output_type": "stream",
     "text": [
      "245\n"
     ]
    }
   ],
   "source": [
    "def addAll(*n):\n",
    "    value=0\n",
    "    for i in n:\n",
    "        value=value+i\n",
    "    print(value)\n",
    "\n",
    "addAll(12,45,33,67,88)"
   ]
  },
  {
   "cell_type": "code",
   "execution_count": 29,
   "id": "d43f7282-6e10-43cf-8d24-9bfedfbe274e",
   "metadata": {},
   "outputs": [
    {
     "name": "stdout",
     "output_type": "stream",
     "text": [
      "the sum by Vamsi : 0\n",
      "the sum by Javvadi : 146\n",
      "the sum by Krishna : 47\n"
     ]
    }
   ],
   "source": [
    "def sum(*n,name):\n",
    "    result = 0\n",
    "    for x in n:\n",
    "        result = result+x\n",
    "    print(\"the sum by\",name,\":\",result)\n",
    "    \n",
    "sum(name=\"Vamsi\")\n",
    "sum(58,88,name=\"Javvadi\")\n",
    "sum(13,34,name=\"Krishna\")"
   ]
  },
  {
   "cell_type": "markdown",
   "id": "6538d25b-122e-443c-9c93-d4069570d34e",
   "metadata": {},
   "source": [
    "\n",
    "* we can declare keyword variable length arguments also \n",
    "* we can call this function by passing any no. of keyword arguments. internally these keyword arguments will be stored inside a dict "
   ]
  },
  {
   "cell_type": "code",
   "execution_count": 31,
   "id": "11b53ca5-bc00-4376-90ef-d5bc35db9999",
   "metadata": {},
   "outputs": [
    {
     "name": "stdout",
     "output_type": "stream",
     "text": [
      "name == pawan\n",
      "company == micro\n"
     ]
    }
   ],
   "source": [
    "def display(**kwargs):\n",
    "    for k,v in kwargs.items():\n",
    "        print(k,\"==\",v)\n",
    "        \n",
    "display(name=\"pawan\",company=\"micro\")"
   ]
  },
  {
   "cell_type": "code",
   "execution_count": 36,
   "id": "cadf2e1f-9617-4a3c-b647-a6d4ba48ee5c",
   "metadata": {},
   "outputs": [
    {
     "ename": "ValueError",
     "evalue": "not enough values to unpack (expected 3, got 2)",
     "output_type": "error",
     "traceback": [
      "\u001b[1;31m---------------------------------------------------------------------------\u001b[0m",
      "\u001b[1;31mValueError\u001b[0m                                Traceback (most recent call last)",
      "Cell \u001b[1;32mIn[36], line 5\u001b[0m\n\u001b[0;32m      2\u001b[0m     \u001b[38;5;28;01mfor\u001b[39;00m j,v,k \u001b[38;5;129;01min\u001b[39;00m JVKargs\u001b[38;5;241m.\u001b[39mitems():\n\u001b[0;32m      3\u001b[0m         \u001b[38;5;28mprint\u001b[39m(j,\u001b[38;5;124m\"\u001b[39m\u001b[38;5;124m==\u001b[39m\u001b[38;5;124m\"\u001b[39m,v,\u001b[38;5;124m\"\u001b[39m\u001b[38;5;124m==\u001b[39m\u001b[38;5;124m\"\u001b[39m,k)\n\u001b[1;32m----> 5\u001b[0m \u001b[43moutput\u001b[49m\u001b[43m(\u001b[49m\u001b[43mname\u001b[49m\u001b[38;5;241;43m=\u001b[39;49m\u001b[38;5;124;43m\"\u001b[39;49m\u001b[38;5;124;43mVamsi\u001b[39;49m\u001b[38;5;124;43m\"\u001b[39;49m\u001b[43m,\u001b[49m\u001b[43mcompany\u001b[49m\u001b[38;5;241;43m=\u001b[39;49m\u001b[38;5;124;43m\"\u001b[39;49m\u001b[38;5;124;43mJavvadi\u001b[39;49m\u001b[38;5;124;43m\"\u001b[39;49m\u001b[43m,\u001b[49m\u001b[43mdesignation\u001b[49m\u001b[38;5;241;43m=\u001b[39;49m\u001b[38;5;124;43m\"\u001b[39;49m\u001b[38;5;124;43mDeveloper\u001b[39;49m\u001b[38;5;124;43m\"\u001b[39;49m\u001b[43m)\u001b[49m\n",
      "Cell \u001b[1;32mIn[36], line 2\u001b[0m, in \u001b[0;36moutput\u001b[1;34m(**JVKargs)\u001b[0m\n\u001b[0;32m      1\u001b[0m \u001b[38;5;28;01mdef\u001b[39;00m \u001b[38;5;21moutput\u001b[39m(\u001b[38;5;241m*\u001b[39m\u001b[38;5;241m*\u001b[39mJVKargs):\n\u001b[1;32m----> 2\u001b[0m     \u001b[38;5;28;01mfor\u001b[39;00m j,v,k \u001b[38;5;129;01min\u001b[39;00m JVKargs\u001b[38;5;241m.\u001b[39mitems():\n\u001b[0;32m      3\u001b[0m         \u001b[38;5;28mprint\u001b[39m(j,\u001b[38;5;124m\"\u001b[39m\u001b[38;5;124m==\u001b[39m\u001b[38;5;124m\"\u001b[39m,v,\u001b[38;5;124m\"\u001b[39m\u001b[38;5;124m==\u001b[39m\u001b[38;5;124m\"\u001b[39m,k)\n",
      "\u001b[1;31mValueError\u001b[0m: not enough values to unpack (expected 3, got 2)"
     ]
    }
   ],
   "source": [
    "def output(**JVKargs):\n",
    "    for j,v,k in JVKargs.items():\n",
    "        print(j,\"==\",v,\"==\",k)\n",
    "        \n",
    "output(name=\"Vamsi\",company=\"Javvadi\",designation=\"Developer\")"
   ]
  },
  {
   "cell_type": "code",
   "execution_count": 38,
   "id": "2f372ada-943b-46b2-ab37-1f1a606c6d65",
   "metadata": {},
   "outputs": [
    {
     "name": "stdout",
     "output_type": "stream",
     "text": [
      "1 2 3 4\n",
      "10 20 30 40\n",
      "50 60 70 4\n",
      "1 3 3 4\n"
     ]
    }
   ],
   "source": [
    "def func(arg1,arg2,arg3=3,arg4=4):\n",
    "    print(arg1,arg2,arg3,arg4)\n",
    "    \n",
    "func(1,2)\n",
    "func(10,20,30,40)\n",
    "func(50,60,arg3=70)\n",
    "func(arg4=4,arg1=1,arg2=3)\n",
    "#func()                         #TypeError: func() missing 2 required positional arguments: 'arg1' and 'arg2'\n",
    "#func(arg3=300,arg4=400,30,40)  #SyntaxError: positional argument follows keyword argument\n",
    "#func(4,5,arg2=6)               #TypeError: func() got multiple values for argument 'arg2'\n",
    "#func(4,5,arg3=500,arg5=600)    #TypeError: func() got an unexpected keyword argument 'arg5'"
   ]
  },
  {
   "cell_type": "markdown",
   "id": "e26dd060-2a85-4baf-adbd-e1f7189a43c6",
   "metadata": {},
   "source": [
    "2.Types of Variables   \n",
    "\n",
    " * Global: - The varibales which are declared outside of a function - These variables can be accessed in all functions of that Module --> declaration outside of all functions"
   ]
  },
  {
   "cell_type": "code",
   "execution_count": 39,
   "id": "8eba30f5-1057-41f0-8d80-520bd3794e8d",
   "metadata": {},
   "outputs": [
    {
     "name": "stdout",
     "output_type": "stream",
     "text": [
      "10\n",
      "10\n"
     ]
    }
   ],
   "source": [
    "a=10 #global variable\n",
    "\n",
    "def f1():\n",
    "    print(a)\n",
    "\n",
    "def f2():\n",
    "    print(a)\n",
    "    \n",
    "f1()\n",
    "f2()"
   ]
  },
  {
   "cell_type": "markdown",
   "id": "41b28baa-9d17-488d-8ebe-351b2c299e55",
   "metadata": {},
   "source": [
    "Local:   \n",
    "* The variables which are declared inside a function\n",
    "* which can access only inside the function--> declare inside of a function"
   ]
  },
  {
   "cell_type": "code",
   "execution_count": 41,
   "id": "bc7e92a5-22c2-4e01-b409-93c1f1281522",
   "metadata": {},
   "outputs": [
    {
     "name": "stdout",
     "output_type": "stream",
     "text": [
      "12\n"
     ]
    }
   ],
   "source": [
    "def f3():\n",
    "    b=12      #local variable\n",
    "    print(b)\n",
    "\n",
    "def f4():\n",
    "    print(b)\n",
    "    \n",
    "f3()\n",
    "#f4() "
   ]
  },
  {
   "cell_type": "markdown",
   "id": "f072723d-db64-4cf9-8c56-1c2496315d80",
   "metadata": {},
   "source": [
    "global keyword  \n",
    "* To declare the global variable inside a function  \n",
    "* To make global variable available to the functions so that we can perform required modifications  "
   ]
  },
  {
   "cell_type": "code",
   "execution_count": 44,
   "id": "9002b371-c820-4b80-983b-6f9f70809eb2",
   "metadata": {},
   "outputs": [
    {
     "name": "stdout",
     "output_type": "stream",
     "text": [
      "777\n",
      "10\n"
     ]
    }
   ],
   "source": [
    "g=10\n",
    "\n",
    "def f1():\n",
    "    g=777\n",
    "    print(g)\n",
    "    \n",
    "def f2():\n",
    "    print(g)\n",
    "    \n",
    "f1()\n",
    "f2()"
   ]
  },
  {
   "cell_type": "code",
   "execution_count": 48,
   "id": "f0262441-62f1-4d48-96c6-1afe49010931",
   "metadata": {},
   "outputs": [
    {
     "name": "stdout",
     "output_type": "stream",
     "text": [
      "46\n",
      "46\n"
     ]
    }
   ],
   "source": [
    "a = 12\n",
    "def fan():\n",
    "    global a\n",
    "    a = 46\n",
    "    print(a)\n",
    "def can():\n",
    "    print(a)\n",
    "\n",
    "\n",
    "fan()\n",
    "can()"
   ]
  },
  {
   "cell_type": "code",
   "execution_count": 50,
   "id": "b7bd8cf0-9525-4e7d-b28e-6038aa492144",
   "metadata": {},
   "outputs": [
    {
     "name": "stdout",
     "output_type": "stream",
     "text": [
      "12\n",
      "12\n"
     ]
    }
   ],
   "source": [
    "b = 12\n",
    "def fan():\n",
    "    global a\n",
    "    a = 46\n",
    "    print(b)\n",
    "def can():\n",
    "    print(b)\n",
    "\n",
    "\n",
    "fan()\n",
    "can()        # here value is not declared as global then how to get 12 here"
   ]
  },
  {
   "cell_type": "code",
   "execution_count": 53,
   "id": "beda4315-5c39-4e1d-a10c-efaa08f35835",
   "metadata": {},
   "outputs": [
    {
     "name": "stdout",
     "output_type": "stream",
     "text": [
      "local variable: 777\n",
      "global variable: 100\n"
     ]
    }
   ],
   "source": [
    "a=100  #global\n",
    "\n",
    "def f1():\n",
    "    a=777 #local\n",
    "    print(\"local variable:\",a)\n",
    "    print(\"global variable:\",globals()[\"a\"])\n",
    "    \n",
    "f1()"
   ]
  },
  {
   "cell_type": "code",
   "execution_count": 54,
   "id": "74b3dce3-9ae1-46bf-b62a-5bdd3804235f",
   "metadata": {},
   "outputs": [
    {
     "ename": "SyntaxError",
     "evalue": "invalid syntax (1390734257.py, line 1)",
     "output_type": "error",
     "traceback": [
      "\u001b[1;36m  Cell \u001b[1;32mIn[54], line 1\u001b[1;36m\u001b[0m\n\u001b[1;33m    globals()?\u001b[0m\n\u001b[1;37m             ^\u001b[0m\n\u001b[1;31mSyntaxError\u001b[0m\u001b[1;31m:\u001b[0m invalid syntax\n"
     ]
    }
   ],
   "source": [
    "globals()?"
   ]
  },
  {
   "cell_type": "code",
   "execution_count": 55,
   "id": "1334921b-1c10-4153-8f31-cb923846df4f",
   "metadata": {},
   "outputs": [],
   "source": [
    "bank = \"SBI\"\n",
    "ifsc = \"SBIN00005366\"\n",
    "place = \"Bhimavaram\"\n",
    "pincode = 534202\n",
    "\n",
    "def customer1(credit):\n",
    "    bal = 10000\n",
    "    total = bal+credit\n",
    "    \n",
    "    global branch\n",
    "    branch = \"ADB\"\n",
    "    \n",
    "    pincode = 534201\n",
    "    \n",
    "    print(\"total amount in account : \",total)\n",
    "    print(place)\n",
    "    print(ifsc)\n",
    "    print(\"customer pincode : \",pincode)\n",
    "    print(\"Bank pincode : \",globals()['pincode'])\n",
    "    \n",
    "def customer2():\n",
    "    print(total)"
   ]
  },
  {
   "cell_type": "code",
   "execution_count": 57,
   "id": "d3834d02-fd92-4319-9cd8-6598952b839a",
   "metadata": {},
   "outputs": [
    {
     "name": "stdout",
     "output_type": "stream",
     "text": [
      "total amount in account :  10233\n",
      "Bhimavaram\n",
      "SBIN00005366\n",
      "customer pincode :  534201\n",
      "Bank pincode :  534202\n"
     ]
    }
   ],
   "source": [
    "customer1(233)\n",
    "#customer2()"
   ]
  },
  {
   "cell_type": "code",
   "execution_count": 58,
   "id": "04379ef0-31c5-4631-9bfa-991f83325b0c",
   "metadata": {},
   "outputs": [],
   "source": [
    "def customer2():\n",
    "    print(pincode)"
   ]
  },
  {
   "cell_type": "code",
   "execution_count": 59,
   "id": "7c121bcb-9270-41df-8f9f-22e1c8019cec",
   "metadata": {},
   "outputs": [
    {
     "name": "stdout",
     "output_type": "stream",
     "text": [
      "534202\n"
     ]
    }
   ],
   "source": [
    "customer2()"
   ]
  },
  {
   "cell_type": "code",
   "execution_count": null,
   "id": "779f9681-e9a8-4401-a2eb-3b794c1f159a",
   "metadata": {},
   "outputs": [],
   "source": []
  }
 ],
 "metadata": {
  "kernelspec": {
   "display_name": "Python 3 (ipykernel)",
   "language": "python",
   "name": "python3"
  },
  "language_info": {
   "codemirror_mode": {
    "name": "ipython",
    "version": 3
   },
   "file_extension": ".py",
   "mimetype": "text/x-python",
   "name": "python",
   "nbconvert_exporter": "python",
   "pygments_lexer": "ipython3",
   "version": "3.11.5"
  }
 },
 "nbformat": 4,
 "nbformat_minor": 5
}
