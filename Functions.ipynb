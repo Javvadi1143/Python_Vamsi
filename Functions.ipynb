{
 "cells": [
  {
   "cell_type": "code",
   "execution_count": 2,
   "id": "0b2e37bd-b1d4-4377-97ab-2ea10e940083",
   "metadata": {},
   "outputs": [],
   "source": [
    "def welocmeToFunctions():\n",
    "    print(\"Hello Welcome to Functions Topics\")"
   ]
  },
  {
   "cell_type": "code",
   "execution_count": 3,
   "id": "2851998b-ae28-4134-a230-1d9fb1d7a287",
   "metadata": {},
   "outputs": [
    {
     "name": "stdout",
     "output_type": "stream",
     "text": [
      "Hello Welcome to Functions Topics\n"
     ]
    }
   ],
   "source": [
    "welocmeToFunctions()"
   ]
  },
  {
   "cell_type": "code",
   "execution_count": 4,
   "id": "93dd38c0-7ff7-4644-8181-306ce3b23f8b",
   "metadata": {},
   "outputs": [],
   "source": [
    "def welocmeToFunctions(name,Technology):\n",
    "    print(\"Hello\",name,\"Welcome to\",Technology,\"Functions Topics\")"
   ]
  },
  {
   "cell_type": "code",
   "execution_count": 5,
   "id": "8962ec49-c925-4995-9779-65d34a707c2c",
   "metadata": {},
   "outputs": [
    {
     "name": "stdout",
     "output_type": "stream",
     "text": [
      "Hello vamsi Welcome to Python Functions Topics\n"
     ]
    }
   ],
   "source": [
    "welocmeToFunctions(\"vamsi\",\"Python\")"
   ]
  },
  {
   "cell_type": "markdown",
   "id": "8f553828-14cd-4555-97b1-d89cb333e466",
   "metadata": {},
   "source": [
    "Parameters : "
   ]
  },
  {
   "cell_type": "code",
   "execution_count": 7,
   "id": "e316d8a8-874f-45c3-852f-6e91362cc04f",
   "metadata": {},
   "outputs": [],
   "source": [
    "def Multi(num):\n",
    "   return num*num"
   ]
  },
  {
   "cell_type": "code",
   "execution_count": 8,
   "id": "1b881333-3fbc-4871-8212-516dc5ef15e8",
   "metadata": {},
   "outputs": [
    {
     "data": {
      "text/plain": [
       "36"
      ]
     },
     "execution_count": 8,
     "metadata": {},
     "output_type": "execute_result"
    }
   ],
   "source": [
    "Multi(6)"
   ]
  },
  {
   "cell_type": "markdown",
   "id": "a18f5235-7c30-4f59-af7c-4404a493e367",
   "metadata": {},
   "source": [
    "2. return statement:"
   ]
  },
  {
   "cell_type": "code",
   "execution_count": 10,
   "id": "fac68a7d-efd6-4c08-90a8-fdd9d688f1f6",
   "metadata": {},
   "outputs": [],
   "source": [
    "def add(x,y):\n",
    "    return x+y"
   ]
  },
  {
   "cell_type": "code",
   "execution_count": 11,
   "id": "3d1a9ac2-69dc-4a5d-aed2-6ffd540e65d2",
   "metadata": {},
   "outputs": [
    {
     "data": {
      "text/plain": [
       "55"
      ]
     },
     "execution_count": 11,
     "metadata": {},
     "output_type": "execute_result"
    }
   ],
   "source": [
    "add(23,32)"
   ]
  },
  {
   "cell_type": "code",
   "execution_count": 18,
   "id": "7e12d230-c7a1-41e7-a4b3-7c5890785132",
   "metadata": {},
   "outputs": [],
   "source": [
    "def ASMD(x,y):\n",
    "    a = x+y\n",
    "    s = x-y\n",
    "    m = x*y\n",
    "    d = x%y\n",
    "    return a,s,m,d"
   ]
  },
  {
   "cell_type": "code",
   "execution_count": 19,
   "id": "3e6ce625-ddba-4581-b4f3-8d3f146dcd61",
   "metadata": {},
   "outputs": [
    {
     "data": {
      "text/plain": [
       "(66, -22, 968, 22)"
      ]
     },
     "execution_count": 19,
     "metadata": {},
     "output_type": "execute_result"
    }
   ],
   "source": [
    "ASMD(22,44)"
   ]
  },
  {
   "cell_type": "code",
   "execution_count": 26,
   "id": "718553ea-7755-4858-b03b-2600bf072538",
   "metadata": {},
   "outputs": [],
   "source": [
    "def ASMD(x,y):\n",
    "    a = x+y\n",
    "    s = x-y\n",
    "    m = x*y\n",
    "    d = x%y\n",
    "    f = a,s,m,d\n",
    "    print(f)\n",
    "    print(type(f))\n",
    "    l = list(f)\n",
    "    print(l,type(l))"
   ]
  },
  {
   "cell_type": "code",
   "execution_count": 27,
   "id": "7d198200-35cf-45ab-9c5f-91571ff80c84",
   "metadata": {},
   "outputs": [
    {
     "name": "stdout",
     "output_type": "stream",
     "text": [
      "(97, -11, 2322, 43)\n",
      "<class 'tuple'>\n",
      "[97, -11, 2322, 43] <class 'list'>\n"
     ]
    }
   ],
   "source": [
    "ASMD(43,54)"
   ]
  },
  {
   "cell_type": "markdown",
   "id": "291779d7-45c0-44de-bfd6-019e4d7e4c11",
   "metadata": {},
   "source": [
    "\n",
    "3.Types of Arguments\n",
    "* positional \n",
    "* keyword \n",
    "* default \n",
    "* variable length arguments "
   ]
  },
  {
   "cell_type": "code",
   "execution_count": 32,
   "id": "824c9603-b8a0-4a15-b1d2-f54155b58b38",
   "metadata": {},
   "outputs": [
    {
     "data": {
      "text/plain": [
       "21"
      ]
     },
     "execution_count": 32,
     "metadata": {},
     "output_type": "execute_result"
    }
   ],
   "source": [
    "def add(a,b):\n",
    "    return a+b\n",
    "add(1,20)"
   ]
  },
  {
   "cell_type": "code",
   "execution_count": 35,
   "id": "40a38468-4984-4af2-8914-0e4238ba289b",
   "metadata": {},
   "outputs": [
    {
     "data": {
      "text/plain": [
       "-44"
      ]
     },
     "execution_count": 35,
     "metadata": {},
     "output_type": "execute_result"
    }
   ],
   "source": [
    "def sub(x,y):\n",
    "    return x-y\n",
    "sub(54,98)    "
   ]
  },
  {
   "cell_type": "markdown",
   "id": "2bd89375-eb9f-44d7-be1a-344dbff2a9cd",
   "metadata": {},
   "source": [
    "Keyword Arguments: sometimes we can pass argument values by keyword i.e by parameter name \n",
    "* no. of arguments must be matched"
   ]
  },
  {
   "cell_type": "code",
   "execution_count": 37,
   "id": "08f4314b-94a3-41af-a2ed-f9afebe0bc41",
   "metadata": {},
   "outputs": [],
   "source": [
    "def CustomerRegistration(name,age,gender,state):\n",
    "    return (\"My Name is:\",name,\"age is:\",age,\"I'm :\",gender,\"I'm from :\",state)  # when we are return the value ' coming in the test "
   ]
  },
  {
   "cell_type": "code",
   "execution_count": 48,
   "id": "bab620b4-8031-4b33-a1ac-2c4cbc83150b",
   "metadata": {},
   "outputs": [
    {
     "data": {
      "text/plain": [
       "('My Name is', 'Vamsi', 'age is', 28, \"I'm\", 'Male', \"I'm from\", 'Andhra')"
      ]
     },
     "execution_count": 48,
     "metadata": {},
     "output_type": "execute_result"
    }
   ],
   "source": [
    "CustomerRegistration(\"Vamsi\",28,\"Male\",\"Andhra\")"
   ]
  },
  {
   "cell_type": "code",
   "execution_count": 58,
   "id": "2c688011-2cd3-4222-8c00-100d32fb5eb8",
   "metadata": {},
   "outputs": [],
   "source": [
    "def _CustomerRegistration(name,age):\n",
    "    print(\"My Name is:\",name,\"age is:\",age,)"
   ]
  },
  {
   "cell_type": "code",
   "execution_count": 59,
   "id": "a0e9fa53-2893-4600-b18c-f23e300f849e",
   "metadata": {},
   "outputs": [
    {
     "name": "stdout",
     "output_type": "stream",
     "text": [
      "My Name is: Vamsi age is: 29\n"
     ]
    }
   ],
   "source": [
    "_CustomerRegistration(\"Vamsi\",29)"
   ]
  },
  {
   "cell_type": "code",
   "execution_count": 56,
   "id": "01889e28-bce0-4400-b465-e2ebc7ec08fe",
   "metadata": {},
   "outputs": [
    {
     "data": {
      "text/plain": [
       "('My Name is:', 'Vamsi', 'age is:', 29)"
      ]
     },
     "execution_count": 56,
     "metadata": {},
     "output_type": "execute_result"
    }
   ],
   "source": [
    "_CustomerRegistration(age=29,name=\"Vamsi\")"
   ]
  },
  {
   "cell_type": "code",
   "execution_count": 60,
   "id": "f67bf568-ebe3-4ae8-b4da-d922090805ff",
   "metadata": {},
   "outputs": [
    {
     "name": "stdout",
     "output_type": "stream",
     "text": [
      "my name is: pawan age is: 26\n"
     ]
    }
   ],
   "source": [
    "def wish(name,age):\n",
    "    print(\"my name is:\",name,\"age is:\",age)\n",
    "    \n",
    "#wish(name=\"pawan\",age=26)\n",
    "wish(age=26,name=\"pawan\")"
   ]
  },
  {
   "cell_type": "code",
   "execution_count": 69,
   "id": "32b7b551-f651-45db-9e38-80c0b0218099",
   "metadata": {},
   "outputs": [
    {
     "name": "stdout",
     "output_type": "stream",
     "text": [
      "My Name is: Priyanka age is: 25 I'm : Female I'm from : Andhra\n"
     ]
    }
   ],
   "source": [
    "def BothPositionalKeyWord(name,age,gender,state):\n",
    "    print(\"My Name is:\",name,\"age is:\",age,\"I'm :\",gender,\"I'm from :\",state)\n",
    "\n",
    "BothPositionalKeyWord(\"Priyanka\",25,\"Female\",\"Andhra\")    \n",
    "#BothPositionalKeyWord(\"Priyanka\",25,gender=\"Female\",\"Andhra\")    "
   ]
  },
  {
   "cell_type": "code",
   "execution_count": 71,
   "id": "74c1f77d-c341-4f14-959c-8d5185f5d982",
   "metadata": {},
   "outputs": [
    {
     "ename": "SyntaxError",
     "evalue": "positional argument follows keyword argument (3321043213.py, line 1)",
     "output_type": "error",
     "traceback": [
      "\u001b[1;36m  Cell \u001b[1;32mIn[71], line 1\u001b[1;36m\u001b[0m\n\u001b[1;33m    BothPositionalKeyWord(\"Priyanka\",25,gender=\"Female\",\"Andhra\")    # In Parameters Keyword asigned then no option to give positinal value\u001b[0m\n\u001b[1;37m                                                                ^\u001b[0m\n\u001b[1;31mSyntaxError\u001b[0m\u001b[1;31m:\u001b[0m positional argument follows keyword argument\n"
     ]
    }
   ],
   "source": [
    "BothPositionalKeyWord(\"Priyanka\",25,gender=\"Female\",\"Andhra\")    # In Parameters Keyword asigned then no option to give positinal value"
   ]
  },
  {
   "cell_type": "code",
   "execution_count": 72,
   "id": "21f631c7-0e4c-48af-a8a2-03e056b5a109",
   "metadata": {},
   "outputs": [
    {
     "name": "stdout",
     "output_type": "stream",
     "text": [
      "My Name is: Priyanka age is: 25 I'm : Female I'm from : Andhra\n"
     ]
    }
   ],
   "source": [
    "BothPositionalKeyWord(\"Priyanka\",25,\"Female\",state = \"Andhra\")  "
   ]
  },
  {
   "cell_type": "code",
   "execution_count": 73,
   "id": "85171b86-bd81-4446-80cc-ca69813349f6",
   "metadata": {},
   "outputs": [],
   "source": [
    "def __CustomerRegistration(name = \"vamsi Javvadi\"):\n",
    "    print(\"My Name is:\",name)"
   ]
  },
  {
   "cell_type": "code",
   "execution_count": 74,
   "id": "f3852e49-fe76-4c11-8c4f-d60840e59120",
   "metadata": {},
   "outputs": [
    {
     "name": "stdout",
     "output_type": "stream",
     "text": [
      "My Name is: vamsi Javvadi\n"
     ]
    }
   ],
   "source": [
    "__CustomerRegistration()    # if you gave default value no need to pass if u pass the value default value change to given value"
   ]
  },
  {
   "cell_type": "code",
   "execution_count": 75,
   "id": "7afaf7fb-6eb2-4e80-ba33-d66711405c5f",
   "metadata": {},
   "outputs": [
    {
     "name": "stdout",
     "output_type": "stream",
     "text": [
      "My Name is: Krishna\n"
     ]
    }
   ],
   "source": [
    "__CustomerRegistration(\"Krishna\")"
   ]
  },
  {
   "cell_type": "markdown",
   "id": "edae7e03-0757-41e0-91da-9bf7c1d93313",
   "metadata": {},
   "source": [
    "\n",
    "\n",
    "Example for all above three "
   ]
  },
  {
   "cell_type": "code",
   "execution_count": 80,
   "id": "95cf3513-ca42-4682-aa52-9aae2cfb291e",
   "metadata": {},
   "outputs": [
    {
     "name": "stdout",
     "output_type": "stream",
     "text": [
      "Student name: Pandu\n",
      "Student Marks: 26\n",
      "qualification: B.Tech\n",
      "message: Good Morning\n"
     ]
    }
   ],
   "source": [
    "def wish(name,age,qual=\"btech\",msg=\"Good Morning\"):\n",
    "    print(\"Student name:\",name)\n",
    "    print(\"Student Marks:\",age)\n",
    "    print(\"qualification:\",qual)\n",
    "    print(\"message:\",msg)\n",
    "    \n",
    "#wish(\"Pandu\",25)               #positional\n",
    "#wish(age=26,name=\"Priya\")      #keyword\n",
    "#wish(\"Javvadi\",age=26)         #p,k\n",
    "wish(\"Pandu\",age=26,qual=\"B.Tech\") #p,k,d"
   ]
  },
  {
   "cell_type": "markdown",
   "id": "0e899528-6970-4659-8179-791eb9839a92",
   "metadata": {},
   "source": [
    "Variable Length"
   ]
  },
  {
   "cell_type": "code",
   "execution_count": 100,
   "id": "b498a15f-13f5-4173-88ef-17ba2daeed2c",
   "metadata": {},
   "outputs": [
    {
     "name": "stdout",
     "output_type": "stream",
     "text": [
      "0\n",
      "254\n",
      "6\n"
     ]
    }
   ],
   "source": [
    "def sum(*n):\n",
    "    count=0\n",
    "    for i in n:\n",
    "        count=count+i\n",
    "    print(count)\n",
    "    \n",
    "sum()\n",
    "sum(1,10,36,94,36,75,2)\n",
    "sum(1,3,2)"
   ]
  },
  {
   "cell_type": "code",
   "execution_count": 109,
   "id": "30d97521-a8f8-4dcd-b01c-cef8c99d4aa9",
   "metadata": {},
   "outputs": [
    {
     "name": "stdout",
     "output_type": "stream",
     "text": [
      "245\n"
     ]
    }
   ],
   "source": [
    "def addAll(*n):\n",
    "    value=0\n",
    "    for i in n:\n",
    "        value=value+i\n",
    "    print(value)\n",
    "\n",
    "addAll(12,45,33,67,88)"
   ]
  },
  {
   "cell_type": "code",
   "execution_count": null,
   "id": "d43f7282-6e10-43cf-8d24-9bfedfbe274e",
   "metadata": {},
   "outputs": [],
   "source": []
  }
 ],
 "metadata": {
  "kernelspec": {
   "display_name": "Python 3 (ipykernel)",
   "language": "python",
   "name": "python3"
  },
  "language_info": {
   "codemirror_mode": {
    "name": "ipython",
    "version": 3
   },
   "file_extension": ".py",
   "mimetype": "text/x-python",
   "name": "python",
   "nbconvert_exporter": "python",
   "pygments_lexer": "ipython3",
   "version": "3.11.5"
  }
 },
 "nbformat": 4,
 "nbformat_minor": 5
}
