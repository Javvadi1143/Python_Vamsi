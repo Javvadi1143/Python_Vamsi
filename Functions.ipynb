{
 "cells": [
  {
   "cell_type": "code",
   "execution_count": 2,
   "id": "0b2e37bd-b1d4-4377-97ab-2ea10e940083",
   "metadata": {},
   "outputs": [],
   "source": [
    "def welocmeToFunctions():\n",
    "    print(\"Hello Welcome to Functions Topics\")"
   ]
  },
  {
   "cell_type": "code",
   "execution_count": 3,
   "id": "2851998b-ae28-4134-a230-1d9fb1d7a287",
   "metadata": {},
   "outputs": [
    {
     "name": "stdout",
     "output_type": "stream",
     "text": [
      "Hello Welcome to Functions Topics\n"
     ]
    }
   ],
   "source": [
    "welocmeToFunctions()"
   ]
  },
  {
   "cell_type": "code",
   "execution_count": 4,
   "id": "93dd38c0-7ff7-4644-8181-306ce3b23f8b",
   "metadata": {},
   "outputs": [],
   "source": [
    "def welocmeToFunctions(name,Technology):\n",
    "    print(\"Hello\",name,\"Welcome to\",Technology,\"Functions Topics\")"
   ]
  },
  {
   "cell_type": "code",
   "execution_count": 5,
   "id": "8962ec49-c925-4995-9779-65d34a707c2c",
   "metadata": {},
   "outputs": [
    {
     "name": "stdout",
     "output_type": "stream",
     "text": [
      "Hello vamsi Welcome to Python Functions Topics\n"
     ]
    }
   ],
   "source": [
    "welocmeToFunctions(\"vamsi\",\"Python\")"
   ]
  },
  {
   "cell_type": "markdown",
   "id": "8f553828-14cd-4555-97b1-d89cb333e466",
   "metadata": {},
   "source": [
    "Parameters : "
   ]
  },
  {
   "cell_type": "code",
   "execution_count": 7,
   "id": "e316d8a8-874f-45c3-852f-6e91362cc04f",
   "metadata": {},
   "outputs": [],
   "source": [
    "def Multi(num):\n",
    "   return num*num"
   ]
  },
  {
   "cell_type": "code",
   "execution_count": 8,
   "id": "1b881333-3fbc-4871-8212-516dc5ef15e8",
   "metadata": {},
   "outputs": [
    {
     "data": {
      "text/plain": [
       "36"
      ]
     },
     "execution_count": 8,
     "metadata": {},
     "output_type": "execute_result"
    }
   ],
   "source": [
    "Multi(6)"
   ]
  },
  {
   "cell_type": "markdown",
   "id": "0678af2e-b1bd-4fc5-874a-9ae261dcad3c",
   "metadata": {},
   "source": [
    "2. return statement:  \n",
    "function can takes input values as a parameters and executes business logic and returns output as return "
   ]
  },
  {
   "cell_type": "code",
   "execution_count": 3,
   "id": "99d75c12-a357-4a88-938c-2a5b91180c7b",
   "metadata": {},
   "outputs": [
    {
     "data": {
      "text/plain": [
       "8"
      ]
     },
     "execution_count": 3,
     "metadata": {},
     "output_type": "execute_result"
    }
   ],
   "source": [
    "def add(a,b):\n",
    "    return a+b\n",
    "add(2,6)    "
   ]
  },
  {
   "cell_type": "code",
   "execution_count": 4,
   "id": "235f4806-3b55-44a7-85e7-a9641f0fcc70",
   "metadata": {},
   "outputs": [
    {
     "name": "stdout",
     "output_type": "stream",
     "text": [
      "hello\n",
      "hello\n",
      "None\n"
     ]
    }
   ],
   "source": [
    "def f1():\n",
    "    print(\"hello\")\n",
    "    \n",
    "f1()\n",
    "#print?\n",
    "print(f1())"
   ]
  },
  {
   "cell_type": "code",
   "execution_count": 8,
   "id": "5227dd91-2e94-47f6-a7e2-cffde922e9df",
   "metadata": {},
   "outputs": [],
   "source": [
    "def add_sub(x):\n",
    "    if x%2==0:\n",
    "       print(\"{} given num is Even num\".format(x))\n",
    "    else:\n",
    "       print(\"{} given num is Odd num\".format(x))\n"
   ]
  },
  {
   "cell_type": "code",
   "execution_count": 10,
   "id": "20300453-055b-4c74-8c87-d7ec2e5522da",
   "metadata": {},
   "outputs": [
    {
     "name": "stdout",
     "output_type": "stream",
     "text": [
      "26 given num is Even num\n"
     ]
    }
   ],
   "source": [
    "add_sub(26)"
   ]
  },
  {
   "cell_type": "code",
   "execution_count": 11,
   "id": "79ed6a2c-aebf-495f-98b7-3f762a56ed38",
   "metadata": {},
   "outputs": [
    {
     "name": "stdout",
     "output_type": "stream",
     "text": [
      "27 given num is Odd num\n"
     ]
    }
   ],
   "source": [
    "add_sub(27)"
   ]
  },
  {
   "cell_type": "code",
   "execution_count": null,
   "id": "769a7393-19bf-4c20-a823-5552e60bdb8b",
   "metadata": {},
   "outputs": [],
   "source": [
    "#5!= 5*4*3*2*1\n",
    "def fact(num):\n",
    "    result=1\n",
    "    while num>=1:\n",
    "        result = result*num\n",
    "        num = num-1\n",
    "    return result\n",
    "\n",
    "fact(5)"
   ]
  },
  {
   "cell_type": "code",
   "execution_count": 15,
   "id": "fb70ea4e-b360-406a-8a34-2318df50cddc",
   "metadata": {},
   "outputs": [],
   "source": [
    "def MultiVal(num):\n",
    "    result = 1\n",
    "    while num>=1:\n",
    "        result = result*num \n",
    "        num = num-1\n",
    "    return result    "
   ]
  },
  {
   "cell_type": "code",
   "execution_count": null,
   "id": "eb0dac8a-82df-4ebd-94cb-41983e07e248",
   "metadata": {},
   "outputs": [],
   "source": [
    "MultiVal(5)"
   ]
  },
  {
   "cell_type": "markdown",
   "id": "9c7ddd09-763d-4e2a-940f-7830c5f2c930",
   "metadata": {},
   "source": [
    "In Python a function can return multiple values"
   ]
  },
  {
   "cell_type": "code",
   "execution_count": 17,
   "id": "0a35494c-6deb-4d8d-82c0-19a65c5ec7b9",
   "metadata": {},
   "outputs": [],
   "source": [
    "def sub_add(x,y):\n",
    "    sub = x-y\n",
    "    add = x+y\n",
    "    return sub,add"
   ]
  },
  {
   "cell_type": "code",
   "execution_count": 21,
   "id": "6c1f60cd-179c-4c7a-a89d-aa54c58fa4a0",
   "metadata": {},
   "outputs": [],
   "source": [
    "j = sub_add(5,8)"
   ]
  },
  {
   "cell_type": "code",
   "execution_count": 22,
   "id": "a41be640-a4b7-4331-b3c7-81313f4805a9",
   "metadata": {},
   "outputs": [
    {
     "name": "stdout",
     "output_type": "stream",
     "text": [
      "(-3, 13)\n"
     ]
    }
   ],
   "source": [
    "print(j)"
   ]
  },
  {
   "cell_type": "code",
   "execution_count": 23,
   "id": "eacf0d87-95b0-401c-9abd-47e8c0a0d78f",
   "metadata": {},
   "outputs": [
    {
     "data": {
      "text/plain": [
       "[-3, 13]"
      ]
     },
     "execution_count": 23,
     "metadata": {},
     "output_type": "execute_result"
    }
   ],
   "source": [
    "list(j)"
   ]
  },
  {
   "cell_type": "code",
   "execution_count": 25,
   "id": "cbba43f2-60b5-4513-ab2f-aa5995baa165",
   "metadata": {},
   "outputs": [
    {
     "name": "stdout",
     "output_type": "stream",
     "text": [
      "(79, 11, 1530, 1.3235294117647058)\n",
      "<class 'tuple'>\n",
      "[79, 11, 1530, 1.3235294117647058]\n"
     ]
    }
   ],
   "source": [
    "def calc(x,y):\n",
    "    add = x+y\n",
    "    sub = x-y\n",
    "    mul = x*y\n",
    "    div = x/y\n",
    "    return add, sub, mul, div\n",
    "t = calc(45,34)\n",
    "print(t)\n",
    "print(type(t))\n",
    "l = list(t)\n",
    "print(l)"
   ]
  },
  {
   "cell_type": "markdown",
   "id": "cea98def-684c-4608-b7dd-58015058eaaf",
   "metadata": {},
   "source": [
    "\n",
    "3.Types of Arguments\n",
    "* positional \n",
    "* keyword \n",
    "* default \n",
    "* variable length arguments "
   ]
  },
  {
   "cell_type": "code",
   "execution_count": null,
   "id": "f8b9970c-190d-406d-9ed9-d60d238c273b",
   "metadata": {},
   "outputs": [],
   "source": []
  },
  {
   "cell_type": "markdown",
   "id": "a18f5235-7c30-4f59-af7c-4404a493e367",
   "metadata": {},
   "source": [
    "2. return statement:"
   ]
  },
  {
   "cell_type": "code",
   "execution_count": 10,
   "id": "fac68a7d-efd6-4c08-90a8-fdd9d688f1f6",
   "metadata": {},
   "outputs": [],
   "source": [
    "def add(x,y):\n",
    "    return x+y"
   ]
  },
  {
   "cell_type": "code",
   "execution_count": 11,
   "id": "3d1a9ac2-69dc-4a5d-aed2-6ffd540e65d2",
   "metadata": {},
   "outputs": [
    {
     "data": {
      "text/plain": [
       "55"
      ]
     },
     "execution_count": 11,
     "metadata": {},
     "output_type": "execute_result"
    }
   ],
   "source": [
    "add(23,32)"
   ]
  },
  {
   "cell_type": "code",
   "execution_count": 18,
   "id": "7e12d230-c7a1-41e7-a4b3-7c5890785132",
   "metadata": {},
   "outputs": [],
   "source": [
    "def ASMD(x,y):\n",
    "    a = x+y\n",
    "    s = x-y\n",
    "    m = x*y\n",
    "    d = x%y\n",
    "    return a,s,m,d"
   ]
  },
  {
   "cell_type": "code",
   "execution_count": 19,
   "id": "3e6ce625-ddba-4581-b4f3-8d3f146dcd61",
   "metadata": {},
   "outputs": [
    {
     "data": {
      "text/plain": [
       "(66, -22, 968, 22)"
      ]
     },
     "execution_count": 19,
     "metadata": {},
     "output_type": "execute_result"
    }
   ],
   "source": [
    "ASMD(22,44)"
   ]
  },
  {
   "cell_type": "code",
   "execution_count": 26,
   "id": "718553ea-7755-4858-b03b-2600bf072538",
   "metadata": {},
   "outputs": [],
   "source": [
    "def ASMD(x,y):\n",
    "    a = x+y\n",
    "    s = x-y\n",
    "    m = x*y\n",
    "    d = x%y\n",
    "    f = a,s,m,d\n",
    "    print(f)\n",
    "    print(type(f))\n",
    "    l = list(f)\n",
    "    print(l,type(l))"
   ]
  },
  {
   "cell_type": "code",
   "execution_count": 27,
   "id": "7d198200-35cf-45ab-9c5f-91571ff80c84",
   "metadata": {},
   "outputs": [
    {
     "name": "stdout",
     "output_type": "stream",
     "text": [
      "(97, -11, 2322, 43)\n",
      "<class 'tuple'>\n",
      "[97, -11, 2322, 43] <class 'list'>\n"
     ]
    }
   ],
   "source": [
    "ASMD(43,54)"
   ]
  },
  {
   "cell_type": "code",
   "execution_count": 32,
   "id": "824c9603-b8a0-4a15-b1d2-f54155b58b38",
   "metadata": {},
   "outputs": [
    {
     "data": {
      "text/plain": [
       "21"
      ]
     },
     "execution_count": 32,
     "metadata": {},
     "output_type": "execute_result"
    }
   ],
   "source": [
    "def add(a,b):\n",
    "    return a+b\n",
    "add(1,20)"
   ]
  },
  {
   "cell_type": "code",
   "execution_count": 35,
   "id": "40a38468-4984-4af2-8914-0e4238ba289b",
   "metadata": {},
   "outputs": [
    {
     "data": {
      "text/plain": [
       "-44"
      ]
     },
     "execution_count": 35,
     "metadata": {},
     "output_type": "execute_result"
    }
   ],
   "source": [
    "def sub(x,y):\n",
    "    return x-y\n",
    "sub(54,98)    "
   ]
  },
  {
   "cell_type": "markdown",
   "id": "2bd89375-eb9f-44d7-be1a-344dbff2a9cd",
   "metadata": {},
   "source": [
    "Keyword Arguments: sometimes we can pass argument values by keyword i.e by parameter name \n",
    "* no. of arguments must be matched"
   ]
  },
  {
   "cell_type": "code",
   "execution_count": 113,
   "id": "08f4314b-94a3-41af-a2ed-f9afebe0bc41",
   "metadata": {},
   "outputs": [],
   "source": [
    "def CustomerRegistration(name,age,gender,state):\n",
    "    return (\"My Name is: {0} age is:{1} I'm : {2} I'm from : {3}\").format(name,age,gender,state)  # when we are return the value ' coming in the test "
   ]
  },
  {
   "cell_type": "code",
   "execution_count": 114,
   "id": "bab620b4-8031-4b33-a1ac-2c4cbc83150b",
   "metadata": {},
   "outputs": [
    {
     "data": {
      "text/plain": [
       "\"My Name is: Vamsi age is:28 I'm : Male I'm from : Andhra\""
      ]
     },
     "execution_count": 114,
     "metadata": {},
     "output_type": "execute_result"
    }
   ],
   "source": [
    "CustomerRegistration(\"Vamsi\",28,\"Male\",\"Andhra\")"
   ]
  },
  {
   "cell_type": "code",
   "execution_count": 58,
   "id": "2c688011-2cd3-4222-8c00-100d32fb5eb8",
   "metadata": {},
   "outputs": [],
   "source": [
    "def _CustomerRegistration(name,age):\n",
    "    print(\"My Name is:\",name,\"age is:\",age,)"
   ]
  },
  {
   "cell_type": "code",
   "execution_count": 59,
   "id": "a0e9fa53-2893-4600-b18c-f23e300f849e",
   "metadata": {},
   "outputs": [
    {
     "name": "stdout",
     "output_type": "stream",
     "text": [
      "My Name is: Vamsi age is: 29\n"
     ]
    }
   ],
   "source": [
    "_CustomerRegistration(\"Vamsi\",29)"
   ]
  },
  {
   "cell_type": "code",
   "execution_count": 56,
   "id": "01889e28-bce0-4400-b465-e2ebc7ec08fe",
   "metadata": {},
   "outputs": [
    {
     "data": {
      "text/plain": [
       "('My Name is:', 'Vamsi', 'age is:', 29)"
      ]
     },
     "execution_count": 56,
     "metadata": {},
     "output_type": "execute_result"
    }
   ],
   "source": [
    "_CustomerRegistration(age=29,name=\"Vamsi\")"
   ]
  },
  {
   "cell_type": "code",
   "execution_count": 60,
   "id": "f67bf568-ebe3-4ae8-b4da-d922090805ff",
   "metadata": {},
   "outputs": [
    {
     "name": "stdout",
     "output_type": "stream",
     "text": [
      "my name is: pawan age is: 26\n"
     ]
    }
   ],
   "source": [
    "def wish(name,age):\n",
    "    print(\"my name is:\",name,\"age is:\",age)\n",
    "    \n",
    "#wish(name=\"pawan\",age=26)\n",
    "wish(age=26,name=\"pawan\")"
   ]
  },
  {
   "cell_type": "code",
   "execution_count": 69,
   "id": "32b7b551-f651-45db-9e38-80c0b0218099",
   "metadata": {},
   "outputs": [
    {
     "name": "stdout",
     "output_type": "stream",
     "text": [
      "My Name is: Priyanka age is: 25 I'm : Female I'm from : Andhra\n"
     ]
    }
   ],
   "source": [
    "def BothPositionalKeyWord(name,age,gender,state):\n",
    "    print(\"My Name is:\",name,\"age is:\",age,\"I'm :\",gender,\"I'm from :\",state)\n",
    "\n",
    "BothPositionalKeyWord(\"Priyanka\",25,\"Female\",\"Andhra\")    \n",
    "#BothPositionalKeyWord(\"Priyanka\",25,gender=\"Female\",\"Andhra\")    "
   ]
  },
  {
   "cell_type": "code",
   "execution_count": 71,
   "id": "74c1f77d-c341-4f14-959c-8d5185f5d982",
   "metadata": {},
   "outputs": [
    {
     "ename": "SyntaxError",
     "evalue": "positional argument follows keyword argument (3321043213.py, line 1)",
     "output_type": "error",
     "traceback": [
      "\u001b[1;36m  Cell \u001b[1;32mIn[71], line 1\u001b[1;36m\u001b[0m\n\u001b[1;33m    BothPositionalKeyWord(\"Priyanka\",25,gender=\"Female\",\"Andhra\")    # In Parameters Keyword asigned then no option to give positinal value\u001b[0m\n\u001b[1;37m                                                                ^\u001b[0m\n\u001b[1;31mSyntaxError\u001b[0m\u001b[1;31m:\u001b[0m positional argument follows keyword argument\n"
     ]
    }
   ],
   "source": [
    "BothPositionalKeyWord(\"Priyanka\",25,gender=\"Female\",\"Andhra\")    # In Parameters Keyword asigned then no option to give positinal value"
   ]
  },
  {
   "cell_type": "code",
   "execution_count": 72,
   "id": "21f631c7-0e4c-48af-a8a2-03e056b5a109",
   "metadata": {},
   "outputs": [
    {
     "name": "stdout",
     "output_type": "stream",
     "text": [
      "My Name is: Priyanka age is: 25 I'm : Female I'm from : Andhra\n"
     ]
    }
   ],
   "source": [
    "BothPositionalKeyWord(\"Priyanka\",25,\"Female\",state = \"Andhra\")  "
   ]
  },
  {
   "cell_type": "code",
   "execution_count": 73,
   "id": "85171b86-bd81-4446-80cc-ca69813349f6",
   "metadata": {},
   "outputs": [],
   "source": [
    "def __CustomerRegistration(name = \"vamsi Javvadi\"):\n",
    "    print(\"My Name is:\",name)"
   ]
  },
  {
   "cell_type": "code",
   "execution_count": 74,
   "id": "f3852e49-fe76-4c11-8c4f-d60840e59120",
   "metadata": {},
   "outputs": [
    {
     "name": "stdout",
     "output_type": "stream",
     "text": [
      "My Name is: vamsi Javvadi\n"
     ]
    }
   ],
   "source": [
    "__CustomerRegistration()    # if you gave default value no need to pass if u pass the value default value change to given value"
   ]
  },
  {
   "cell_type": "code",
   "execution_count": 75,
   "id": "7afaf7fb-6eb2-4e80-ba33-d66711405c5f",
   "metadata": {},
   "outputs": [
    {
     "name": "stdout",
     "output_type": "stream",
     "text": [
      "My Name is: Krishna\n"
     ]
    }
   ],
   "source": [
    "__CustomerRegistration(\"Krishna\")"
   ]
  },
  {
   "cell_type": "markdown",
   "id": "edae7e03-0757-41e0-91da-9bf7c1d93313",
   "metadata": {},
   "source": [
    "\n",
    "\n",
    "Example for all above three "
   ]
  },
  {
   "cell_type": "code",
   "execution_count": 80,
   "id": "95cf3513-ca42-4682-aa52-9aae2cfb291e",
   "metadata": {},
   "outputs": [
    {
     "name": "stdout",
     "output_type": "stream",
     "text": [
      "Student name: Pandu\n",
      "Student Marks: 26\n",
      "qualification: B.Tech\n",
      "message: Good Morning\n"
     ]
    }
   ],
   "source": [
    "def wish(name,age,qual=\"btech\",msg=\"Good Morning\"):\n",
    "    print(\"Student name:\",name)\n",
    "    print(\"Student Marks:\",age)\n",
    "    print(\"qualification:\",qual)\n",
    "    print(\"message:\",msg)\n",
    "    \n",
    "#wish(\"Pandu\",25)               #positional\n",
    "#wish(age=26,name=\"Priya\")      #keyword\n",
    "#wish(\"Javvadi\",age=26)         #p,k\n",
    "wish(\"Pandu\",age=26,qual=\"B.Tech\") #p,k,d"
   ]
  },
  {
   "cell_type": "markdown",
   "id": "0e899528-6970-4659-8179-791eb9839a92",
   "metadata": {},
   "source": [
    "Variable Length"
   ]
  },
  {
   "cell_type": "code",
   "execution_count": 100,
   "id": "b498a15f-13f5-4173-88ef-17ba2daeed2c",
   "metadata": {},
   "outputs": [
    {
     "name": "stdout",
     "output_type": "stream",
     "text": [
      "0\n",
      "254\n",
      "6\n"
     ]
    }
   ],
   "source": [
    "def sum(*n):\n",
    "    count=0\n",
    "    for i in n:\n",
    "        count=count+i\n",
    "    print(count)\n",
    "    \n",
    "sum()\n",
    "sum(1,10,36,94,36,75,2)\n",
    "sum(1,3,2)"
   ]
  },
  {
   "cell_type": "code",
   "execution_count": 109,
   "id": "30d97521-a8f8-4dcd-b01c-cef8c99d4aa9",
   "metadata": {},
   "outputs": [
    {
     "name": "stdout",
     "output_type": "stream",
     "text": [
      "245\n"
     ]
    }
   ],
   "source": [
    "def addAll(*n):\n",
    "    value=0\n",
    "    for i in n:\n",
    "        value=value+i\n",
    "    print(value)\n",
    "\n",
    "addAll(12,45,33,67,88)"
   ]
  },
  {
   "cell_type": "code",
   "execution_count": 29,
   "id": "d43f7282-6e10-43cf-8d24-9bfedfbe274e",
   "metadata": {},
   "outputs": [
    {
     "name": "stdout",
     "output_type": "stream",
     "text": [
      "the sum by Vamsi : 0\n",
      "the sum by Javvadi : 146\n",
      "the sum by Krishna : 47\n"
     ]
    }
   ],
   "source": [
    "def sum(*n,name):\n",
    "    result = 0\n",
    "    for x in n:\n",
    "        result = result+x\n",
    "    print(\"the sum by\",name,\":\",result)\n",
    "    \n",
    "sum(name=\"Vamsi\")\n",
    "sum(58,88,name=\"Javvadi\")\n",
    "sum(13,34,name=\"Krishna\")"
   ]
  },
  {
   "cell_type": "markdown",
   "id": "6538d25b-122e-443c-9c93-d4069570d34e",
   "metadata": {},
   "source": [
    "\n",
    "* we can declare keyword variable length arguments also \n",
    "* we can call this function by passing any no. of keyword arguments. internally these keyword arguments will be stored inside a dict "
   ]
  },
  {
   "cell_type": "code",
   "execution_count": 31,
   "id": "11b53ca5-bc00-4376-90ef-d5bc35db9999",
   "metadata": {},
   "outputs": [
    {
     "name": "stdout",
     "output_type": "stream",
     "text": [
      "name == pawan\n",
      "company == micro\n"
     ]
    }
   ],
   "source": [
    "def display(**kwargs):\n",
    "    for k,v in kwargs.items():\n",
    "        print(k,\"==\",v)\n",
    "        \n",
    "display(name=\"pawan\",company=\"micro\")"
   ]
  },
  {
   "cell_type": "code",
   "execution_count": 36,
   "id": "cadf2e1f-9617-4a3c-b647-a6d4ba48ee5c",
   "metadata": {},
   "outputs": [
    {
     "ename": "ValueError",
     "evalue": "not enough values to unpack (expected 3, got 2)",
     "output_type": "error",
     "traceback": [
      "\u001b[1;31m---------------------------------------------------------------------------\u001b[0m",
      "\u001b[1;31mValueError\u001b[0m                                Traceback (most recent call last)",
      "Cell \u001b[1;32mIn[36], line 5\u001b[0m\n\u001b[0;32m      2\u001b[0m     \u001b[38;5;28;01mfor\u001b[39;00m j,v,k \u001b[38;5;129;01min\u001b[39;00m JVKargs\u001b[38;5;241m.\u001b[39mitems():\n\u001b[0;32m      3\u001b[0m         \u001b[38;5;28mprint\u001b[39m(j,\u001b[38;5;124m\"\u001b[39m\u001b[38;5;124m==\u001b[39m\u001b[38;5;124m\"\u001b[39m,v,\u001b[38;5;124m\"\u001b[39m\u001b[38;5;124m==\u001b[39m\u001b[38;5;124m\"\u001b[39m,k)\n\u001b[1;32m----> 5\u001b[0m \u001b[43moutput\u001b[49m\u001b[43m(\u001b[49m\u001b[43mname\u001b[49m\u001b[38;5;241;43m=\u001b[39;49m\u001b[38;5;124;43m\"\u001b[39;49m\u001b[38;5;124;43mVamsi\u001b[39;49m\u001b[38;5;124;43m\"\u001b[39;49m\u001b[43m,\u001b[49m\u001b[43mcompany\u001b[49m\u001b[38;5;241;43m=\u001b[39;49m\u001b[38;5;124;43m\"\u001b[39;49m\u001b[38;5;124;43mJavvadi\u001b[39;49m\u001b[38;5;124;43m\"\u001b[39;49m\u001b[43m,\u001b[49m\u001b[43mdesignation\u001b[49m\u001b[38;5;241;43m=\u001b[39;49m\u001b[38;5;124;43m\"\u001b[39;49m\u001b[38;5;124;43mDeveloper\u001b[39;49m\u001b[38;5;124;43m\"\u001b[39;49m\u001b[43m)\u001b[49m\n",
      "Cell \u001b[1;32mIn[36], line 2\u001b[0m, in \u001b[0;36moutput\u001b[1;34m(**JVKargs)\u001b[0m\n\u001b[0;32m      1\u001b[0m \u001b[38;5;28;01mdef\u001b[39;00m \u001b[38;5;21moutput\u001b[39m(\u001b[38;5;241m*\u001b[39m\u001b[38;5;241m*\u001b[39mJVKargs):\n\u001b[1;32m----> 2\u001b[0m     \u001b[38;5;28;01mfor\u001b[39;00m j,v,k \u001b[38;5;129;01min\u001b[39;00m JVKargs\u001b[38;5;241m.\u001b[39mitems():\n\u001b[0;32m      3\u001b[0m         \u001b[38;5;28mprint\u001b[39m(j,\u001b[38;5;124m\"\u001b[39m\u001b[38;5;124m==\u001b[39m\u001b[38;5;124m\"\u001b[39m,v,\u001b[38;5;124m\"\u001b[39m\u001b[38;5;124m==\u001b[39m\u001b[38;5;124m\"\u001b[39m,k)\n",
      "\u001b[1;31mValueError\u001b[0m: not enough values to unpack (expected 3, got 2)"
     ]
    }
   ],
   "source": [
    "def output(**JVKargs):\n",
    "    for j,v,k in JVKargs.items():\n",
    "        print(j,\"==\",v,\"==\",k)\n",
    "        \n",
    "output(name=\"Vamsi\",company=\"Javvadi\",designation=\"Developer\")"
   ]
  },
  {
   "cell_type": "code",
   "execution_count": 38,
   "id": "2f372ada-943b-46b2-ab37-1f1a606c6d65",
   "metadata": {},
   "outputs": [
    {
     "name": "stdout",
     "output_type": "stream",
     "text": [
      "1 2 3 4\n",
      "10 20 30 40\n",
      "50 60 70 4\n",
      "1 3 3 4\n"
     ]
    }
   ],
   "source": [
    "def func(arg1,arg2,arg3=3,arg4=4):\n",
    "    print(arg1,arg2,arg3,arg4)\n",
    "    \n",
    "func(1,2)\n",
    "func(10,20,30,40)\n",
    "func(50,60,arg3=70)\n",
    "func(arg4=4,arg1=1,arg2=3)\n",
    "#func()                         #TypeError: func() missing 2 required positional arguments: 'arg1' and 'arg2'\n",
    "#func(arg3=300,arg4=400,30,40)  #SyntaxError: positional argument follows keyword argument\n",
    "#func(4,5,arg2=6)               #TypeError: func() got multiple values for argument 'arg2'\n",
    "#func(4,5,arg3=500,arg5=600)    #TypeError: func() got an unexpected keyword argument 'arg5'"
   ]
  },
  {
   "cell_type": "markdown",
   "id": "e26dd060-2a85-4baf-adbd-e1f7189a43c6",
   "metadata": {},
   "source": [
    "2.Types of Variables   \n",
    "\n",
    " * Global: - The varibales which are declared outside of a function - These variables can be accessed in all functions of that Module --> declaration outside of all functions"
   ]
  },
  {
   "cell_type": "code",
   "execution_count": 39,
   "id": "8eba30f5-1057-41f0-8d80-520bd3794e8d",
   "metadata": {},
   "outputs": [
    {
     "name": "stdout",
     "output_type": "stream",
     "text": [
      "10\n",
      "10\n"
     ]
    }
   ],
   "source": [
    "a=10 #global variable\n",
    "\n",
    "def f1():\n",
    "    print(a)\n",
    "\n",
    "def f2():\n",
    "    print(a)\n",
    "    \n",
    "f1()\n",
    "f2()"
   ]
  },
  {
   "cell_type": "markdown",
   "id": "41b28baa-9d17-488d-8ebe-351b2c299e55",
   "metadata": {},
   "source": [
    "Local:   \n",
    "* The variables which are declared inside a function\n",
    "* which can access only inside the function--> declare inside of a function"
   ]
  },
  {
   "cell_type": "code",
   "execution_count": 41,
   "id": "bc7e92a5-22c2-4e01-b409-93c1f1281522",
   "metadata": {},
   "outputs": [
    {
     "name": "stdout",
     "output_type": "stream",
     "text": [
      "12\n"
     ]
    }
   ],
   "source": [
    "def f3():\n",
    "    b=12      #local variable\n",
    "    print(b)\n",
    "\n",
    "def f4():\n",
    "    print(b)\n",
    "    \n",
    "f3()\n",
    "#f4() "
   ]
  },
  {
   "cell_type": "markdown",
   "id": "f072723d-db64-4cf9-8c56-1c2496315d80",
   "metadata": {},
   "source": [
    "global keyword  \n",
    "* To declare the global variable inside a function  \n",
    "* To make global variable available to the functions so that we can perform required modifications  "
   ]
  },
  {
   "cell_type": "code",
   "execution_count": 44,
   "id": "9002b371-c820-4b80-983b-6f9f70809eb2",
   "metadata": {},
   "outputs": [
    {
     "name": "stdout",
     "output_type": "stream",
     "text": [
      "777\n",
      "10\n"
     ]
    }
   ],
   "source": [
    "g=10\n",
    "\n",
    "def f1():\n",
    "    g=777\n",
    "    print(g)\n",
    "    \n",
    "def f2():\n",
    "    print(g)\n",
    "    \n",
    "f1()\n",
    "f2()"
   ]
  },
  {
   "cell_type": "code",
   "execution_count": 48,
   "id": "f0262441-62f1-4d48-96c6-1afe49010931",
   "metadata": {},
   "outputs": [
    {
     "name": "stdout",
     "output_type": "stream",
     "text": [
      "46\n",
      "46\n"
     ]
    }
   ],
   "source": [
    "a = 12\n",
    "def fan():\n",
    "    global a\n",
    "    a = 46\n",
    "    print(a)\n",
    "def can():\n",
    "    print(a)\n",
    "\n",
    "\n",
    "fan()\n",
    "can()"
   ]
  },
  {
   "cell_type": "code",
   "execution_count": 50,
   "id": "b7bd8cf0-9525-4e7d-b28e-6038aa492144",
   "metadata": {},
   "outputs": [
    {
     "name": "stdout",
     "output_type": "stream",
     "text": [
      "12\n",
      "12\n"
     ]
    }
   ],
   "source": [
    "b = 12\n",
    "def fan():\n",
    "    global a\n",
    "    a = 46\n",
    "    print(b)\n",
    "def can():\n",
    "    print(b)\n",
    "\n",
    "\n",
    "fan()\n",
    "can()        # here value is not declared as global then how to get 12 here"
   ]
  },
  {
   "cell_type": "code",
   "execution_count": 53,
   "id": "beda4315-5c39-4e1d-a10c-efaa08f35835",
   "metadata": {},
   "outputs": [
    {
     "name": "stdout",
     "output_type": "stream",
     "text": [
      "local variable: 777\n",
      "global variable: 100\n"
     ]
    }
   ],
   "source": [
    "a=100  #global\n",
    "\n",
    "def f1():\n",
    "    a=777 #local\n",
    "    print(\"local variable:\",a)\n",
    "    print(\"global variable:\",globals()[\"a\"])\n",
    "    \n",
    "f1()"
   ]
  },
  {
   "cell_type": "code",
   "execution_count": 54,
   "id": "74b3dce3-9ae1-46bf-b62a-5bdd3804235f",
   "metadata": {},
   "outputs": [
    {
     "ename": "SyntaxError",
     "evalue": "invalid syntax (1390734257.py, line 1)",
     "output_type": "error",
     "traceback": [
      "\u001b[1;36m  Cell \u001b[1;32mIn[54], line 1\u001b[1;36m\u001b[0m\n\u001b[1;33m    globals()?\u001b[0m\n\u001b[1;37m             ^\u001b[0m\n\u001b[1;31mSyntaxError\u001b[0m\u001b[1;31m:\u001b[0m invalid syntax\n"
     ]
    }
   ],
   "source": [
    "globals()?"
   ]
  },
  {
   "cell_type": "code",
   "execution_count": 55,
   "id": "1334921b-1c10-4153-8f31-cb923846df4f",
   "metadata": {},
   "outputs": [],
   "source": [
    "bank = \"SBI\"\n",
    "ifsc = \"SBIN00005366\"\n",
    "place = \"Bhimavaram\"\n",
    "pincode = 534202\n",
    "\n",
    "def customer1(credit):\n",
    "    bal = 10000\n",
    "    total = bal+credit\n",
    "    \n",
    "    global branch\n",
    "    branch = \"ADB\"\n",
    "    \n",
    "    pincode = 534201\n",
    "    \n",
    "    print(\"total amount in account : \",total)\n",
    "    print(place)\n",
    "    print(ifsc)\n",
    "    print(\"customer pincode : \",pincode)\n",
    "    print(\"Bank pincode : \",globals()['pincode'])\n",
    "    \n",
    "def customer2():\n",
    "    print(total)"
   ]
  },
  {
   "cell_type": "code",
   "execution_count": 57,
   "id": "d3834d02-fd92-4319-9cd8-6598952b839a",
   "metadata": {},
   "outputs": [
    {
     "name": "stdout",
     "output_type": "stream",
     "text": [
      "total amount in account :  10233\n",
      "Bhimavaram\n",
      "SBIN00005366\n",
      "customer pincode :  534201\n",
      "Bank pincode :  534202\n"
     ]
    }
   ],
   "source": [
    "customer1(233)\n",
    "#customer2()"
   ]
  },
  {
   "cell_type": "code",
   "execution_count": 58,
   "id": "04379ef0-31c5-4631-9bfa-991f83325b0c",
   "metadata": {},
   "outputs": [],
   "source": [
    "def customer2():\n",
    "    print(pincode)"
   ]
  },
  {
   "cell_type": "code",
   "execution_count": 59,
   "id": "7c121bcb-9270-41df-8f9f-22e1c8019cec",
   "metadata": {},
   "outputs": [
    {
     "name": "stdout",
     "output_type": "stream",
     "text": [
      "534202\n"
     ]
    }
   ],
   "source": [
    "customer2()"
   ]
  },
  {
   "cell_type": "code",
   "execution_count": 74,
   "id": "779f9681-e9a8-4401-a2eb-3b794c1f159a",
   "metadata": {},
   "outputs": [],
   "source": [
    "def fact(n):\n",
    "    if  n == 0:\n",
    "        result = 1\n",
    "    else:\n",
    "        result = n*(fact(n1))\n",
    "    return result\n",
    "                         "
   ]
  },
  {
   "cell_type": "code",
   "execution_count": 75,
   "id": "009eb92a-108f-435c-a7a8-ffa2eb0b1f63",
   "metadata": {},
   "outputs": [
    {
     "data": {
      "text/plain": [
       "120"
      ]
     },
     "execution_count": 75,
     "metadata": {},
     "output_type": "execute_result"
    }
   ],
   "source": [
    "fact(5)"
   ]
  },
  {
   "cell_type": "markdown",
   "id": "aefddf2a-c77f-4fc6-b50f-65d54e126ef9",
   "metadata": {},
   "source": [
    "4.Anonymous Functions:  \n",
    "* Sometimes we can declare a function without any name,such type of function are called lambda or anonymous function  \n",
    "* The main purpose of anonymous function is just for instant use(i.e one time usage)"
   ]
  },
  {
   "cell_type": "code",
   "execution_count": 78,
   "id": "3e72cba9-ddd8-4b34-8f3b-7221b567feb3",
   "metadata": {},
   "outputs": [
    {
     "data": {
      "text/plain": [
       "9"
      ]
     },
     "execution_count": 78,
     "metadata": {},
     "output_type": "execute_result"
    }
   ],
   "source": [
    "def square(n):\n",
    "    return n*n\n",
    "square(3)    "
   ]
  },
  {
   "cell_type": "markdown",
   "id": "36e1aea2-be78-4929-8e6d-447bfef2bc6d",
   "metadata": {},
   "source": [
    "Lambda Function  \n",
    "* By using lambda function we can write the concise code so the readaibility of the program will be improved  \n",
    "* syn: lambda arg_list : Expression  "
   ]
  },
  {
   "cell_type": "code",
   "execution_count": 84,
   "id": "410ef7de-8315-44a4-95ec-e0e525d6f79e",
   "metadata": {},
   "outputs": [],
   "source": [
    "s = lambda n : n*n"
   ]
  },
  {
   "cell_type": "code",
   "execution_count": 86,
   "id": "f285b6a3-6c2e-41d3-8f0a-3e242d88e168",
   "metadata": {},
   "outputs": [
    {
     "data": {
      "text/plain": [
       "9"
      ]
     },
     "execution_count": 86,
     "metadata": {},
     "output_type": "execute_result"
    }
   ],
   "source": [
    "s(3)"
   ]
  },
  {
   "cell_type": "code",
   "execution_count": 88,
   "id": "55b7225f-6d58-4b62-8039-90448c5b7543",
   "metadata": {},
   "outputs": [],
   "source": [
    "k = lambda j : j+j"
   ]
  },
  {
   "cell_type": "code",
   "execution_count": 89,
   "id": "5adcc873-a19b-4340-9ed4-e9123ef0cbdc",
   "metadata": {},
   "outputs": [
    {
     "data": {
      "text/plain": [
       "12"
      ]
     },
     "execution_count": 89,
     "metadata": {},
     "output_type": "execute_result"
    }
   ],
   "source": [
    "k(6)"
   ]
  },
  {
   "cell_type": "code",
   "execution_count": 91,
   "id": "ceb898d1-f369-4ae0-8f3b-d66153c6f930",
   "metadata": {},
   "outputs": [],
   "source": [
    "l = lambda i : i-i"
   ]
  },
  {
   "cell_type": "code",
   "execution_count": 92,
   "id": "c6eb19af-41a4-43fa-b1d8-db189b1aaf38",
   "metadata": {},
   "outputs": [
    {
     "data": {
      "text/plain": [
       "0"
      ]
     },
     "execution_count": 92,
     "metadata": {},
     "output_type": "execute_result"
    }
   ],
   "source": [
    "l(4)"
   ]
  },
  {
   "cell_type": "code",
   "execution_count": 94,
   "id": "6c5ee601-6e19-433d-965c-094b3186e0f7",
   "metadata": {},
   "outputs": [],
   "source": [
    "o = lambda t : t%t"
   ]
  },
  {
   "cell_type": "code",
   "execution_count": 95,
   "id": "b9a67690-1366-47df-a65f-f2ffc45db5dd",
   "metadata": {},
   "outputs": [
    {
     "data": {
      "text/plain": [
       "0"
      ]
     },
     "execution_count": 95,
     "metadata": {},
     "output_type": "execute_result"
    }
   ],
   "source": [
    "o(5)"
   ]
  },
  {
   "cell_type": "code",
   "execution_count": 96,
   "id": "29f392ee-83d1-4595-ad2e-551a8aea8e18",
   "metadata": {},
   "outputs": [],
   "source": [
    "q = lambda r : r*r"
   ]
  },
  {
   "cell_type": "code",
   "execution_count": 97,
   "id": "9d2d1049-085e-4eaf-8fef-62c74e4ccb2d",
   "metadata": {},
   "outputs": [
    {
     "data": {
      "text/plain": [
       "9"
      ]
     },
     "execution_count": 97,
     "metadata": {},
     "output_type": "execute_result"
    }
   ],
   "source": [
    "q(3)"
   ]
  },
  {
   "cell_type": "code",
   "execution_count": 98,
   "id": "e3d1968f-3f81-453c-bff1-e99837ad432b",
   "metadata": {},
   "outputs": [],
   "source": [
    "def AddTwoValues(a,b):\n",
    "    return a+b"
   ]
  },
  {
   "cell_type": "code",
   "execution_count": 99,
   "id": "786cfa50-81c6-45aa-9b81-913eafc529e5",
   "metadata": {},
   "outputs": [
    {
     "data": {
      "text/plain": [
       "5"
      ]
     },
     "execution_count": 99,
     "metadata": {},
     "output_type": "execute_result"
    }
   ],
   "source": [
    "AddTwoValues(3,2)"
   ]
  },
  {
   "cell_type": "code",
   "execution_count": 102,
   "id": "aef46af4-0c3b-407d-9979-338df6ddb6bb",
   "metadata": {},
   "outputs": [
    {
     "name": "stdout",
     "output_type": "stream",
     "text": [
      "-42\n"
     ]
    }
   ],
   "source": [
    "a = 23\n",
    "b = 65\n",
    "if(a>b):\n",
    "  print(a+b)\n",
    "else:\n",
    "  print(a-b)"
   ]
  },
  {
   "cell_type": "code",
   "execution_count": 103,
   "id": "da8f09f4-4b95-4e61-8d89-13364a9b89bb",
   "metadata": {},
   "outputs": [
    {
     "name": "stdout",
     "output_type": "stream",
     "text": [
      "112\n"
     ]
    }
   ],
   "source": [
    "a = 78\n",
    "b = 34\n",
    "if(a>b):\n",
    "  print(a+b)\n",
    "else:\n",
    "  print(a-b)"
   ]
  },
  {
   "cell_type": "code",
   "execution_count": 104,
   "id": "3fcde017-764f-419b-9e1c-beb6a3546ed5",
   "metadata": {},
   "outputs": [
    {
     "name": "stdout",
     "output_type": "stream",
     "text": [
      "-42\n"
     ]
    }
   ],
   "source": [
    "a = 23\n",
    "b = 65\n",
    "print(a+b) if(a>b) else print(a-b)"
   ]
  },
  {
   "cell_type": "code",
   "execution_count": 105,
   "id": "d13a350d-bcb5-4c72-b85a-e179d016678a",
   "metadata": {},
   "outputs": [
    {
     "name": "stdout",
     "output_type": "stream",
     "text": [
      "112\n"
     ]
    }
   ],
   "source": [
    "a = 78\n",
    "b = 34\n",
    "print(a+b) if(a>b) else print(a-b)"
   ]
  },
  {
   "cell_type": "code",
   "execution_count": 106,
   "id": "985def98-12e2-492c-9509-7ed25706b68e",
   "metadata": {},
   "outputs": [],
   "source": [
    "s = lambda a,b:a if(a>b) else print(a-b)"
   ]
  },
  {
   "cell_type": "code",
   "execution_count": 107,
   "id": "2cbd40fa-d416-4c67-b9f9-b4a6e077b74d",
   "metadata": {},
   "outputs": [
    {
     "data": {
      "text/plain": [
       "32"
      ]
     },
     "execution_count": 107,
     "metadata": {},
     "output_type": "execute_result"
    }
   ],
   "source": [
    "s(32,24)"
   ]
  },
  {
   "cell_type": "code",
   "execution_count": 108,
   "id": "85e6179b-5e74-4dee-bdcb-f47ba7d76c63",
   "metadata": {},
   "outputs": [
    {
     "name": "stdout",
     "output_type": "stream",
     "text": [
      "-24\n"
     ]
    }
   ],
   "source": [
    "s(64,88)"
   ]
  },
  {
   "cell_type": "markdown",
   "id": "d4b8cebc-3279-45e7-accc-cf77b014e27b",
   "metadata": {},
   "source": [
    "Note:  \n",
    "* lambda function internally returns expression value and we are not required to write return statement explicitly  \n",
    "* sometimes we can pass function as argument to another function. In such cases lambda functions are best choice \n",
    "* we can use lambda functions very commonly with Map(), Reduce() and Filter() beacuse these functions expect function as argument  "
   ]
  },
  {
   "cell_type": "markdown",
   "id": "41d7098f-5e5d-4223-82eb-fec38350e21c",
   "metadata": {},
   "source": [
    "\n",
    "\n",
    "map(function,Sequence)"
   ]
  },
  {
   "cell_type": "code",
   "execution_count": 113,
   "id": "34006b94-3f26-4b2f-957d-9609818d2033",
   "metadata": {},
   "outputs": [],
   "source": [
    "def mul(a):\n",
    "    return 4*a"
   ]
  },
  {
   "cell_type": "code",
   "execution_count": 115,
   "id": "84e99163-cabe-4e86-ab5c-07bc85527e34",
   "metadata": {},
   "outputs": [
    {
     "data": {
      "text/plain": [
       "16"
      ]
     },
     "execution_count": 115,
     "metadata": {},
     "output_type": "execute_result"
    }
   ],
   "source": [
    "mul(4)"
   ]
  },
  {
   "cell_type": "code",
   "execution_count": 125,
   "id": "e915e566-989d-4249-83c9-a2f195d72db1",
   "metadata": {},
   "outputs": [
    {
     "data": {
      "text/plain": [
       "[4, 8, 12, 16, 20]"
      ]
     },
     "execution_count": 125,
     "metadata": {},
     "output_type": "execute_result"
    }
   ],
   "source": [
    "e = [1,2,3,4,5]\n",
    "new = []\n",
    "for i in e:\n",
    "    new.append(mul(i))\n",
    "new"
   ]
  },
  {
   "cell_type": "code",
   "execution_count": 124,
   "id": "00603c48-8e93-4a34-b321-c9d8c63e8228",
   "metadata": {},
   "outputs": [
    {
     "data": {
      "text/plain": [
       "[4, 8, 12, 16, 20]"
      ]
     },
     "execution_count": 124,
     "metadata": {},
     "output_type": "execute_result"
    }
   ],
   "source": [
    "p=[1,2,3,4,5]\n",
    "\n",
    "new=[]\n",
    "for i in p:\n",
    "    new.append(mul(i))\n",
    "new  "
   ]
  },
  {
   "cell_type": "code",
   "execution_count": 127,
   "id": "38b4bc09-3c96-493e-9784-e89d783ba8a1",
   "metadata": {},
   "outputs": [
    {
     "data": {
      "text/plain": [
       "[4, 8, 12, 16, 20]"
      ]
     },
     "execution_count": 127,
     "metadata": {},
     "output_type": "execute_result"
    }
   ],
   "source": [
    "list(map(mul,l))"
   ]
  },
  {
   "cell_type": "code",
   "execution_count": 128,
   "id": "95cd6ed6-edc5-49cd-9cce-9a3edda813de",
   "metadata": {},
   "outputs": [
    {
     "data": {
      "text/plain": [
       "[2, 4, 6, 8, 10]"
      ]
     },
     "execution_count": 128,
     "metadata": {},
     "output_type": "execute_result"
    }
   ],
   "source": [
    "list(map(lambda x:2*x,l))"
   ]
  },
  {
   "cell_type": "code",
   "execution_count": 129,
   "id": "b7d9bb90-bd1e-4ef8-b0ab-d3adc5e4061c",
   "metadata": {},
   "outputs": [],
   "source": [
    "#reduce will produce a single unit\n",
    "def cust_reduce(func, my_list):\n",
    "    \n",
    "    #get first item in sequence and assign to result\n",
    "    result = my_list[0]\n",
    "    \n",
    "    # iterate over remaining items in sequence and apply reduction function\n",
    "    for i in my_list[1:]:\n",
    "        result = func(result,i)\n",
    "    return result"
   ]
  },
  {
   "cell_type": "code",
   "execution_count": 130,
   "id": "b16e8a8a-8188-4cc6-899e-0846eba25c99",
   "metadata": {},
   "outputs": [],
   "source": [
    "def do_sum(a,b):\n",
    "    return a+b"
   ]
  },
  {
   "cell_type": "code",
   "execution_count": 132,
   "id": "7c187d08-e153-434d-a936-2c7a5458d94a",
   "metadata": {},
   "outputs": [
    {
     "data": {
      "text/plain": [
       "29"
      ]
     },
     "execution_count": 132,
     "metadata": {},
     "output_type": "execute_result"
    }
   ],
   "source": [
    "cust_reduce(do_sum,[3,4,6,7,9])"
   ]
  },
  {
   "cell_type": "code",
   "execution_count": 133,
   "id": "b1e814be-9fcd-40cc-8773-73c4cff7a618",
   "metadata": {},
   "outputs": [
    {
     "data": {
      "text/plain": [
       "45"
      ]
     },
     "execution_count": 133,
     "metadata": {},
     "output_type": "execute_result"
    }
   ],
   "source": [
    "my_list=[1,2,3,4,5,6,7,8,9]\n",
    "cust_reduce(lambda x,y:x+y,my_list)"
   ]
  },
  {
   "cell_type": "markdown",
   "id": "ac60b2a5-28c4-495a-83b9-fb12fa6c8518",
   "metadata": {},
   "source": [
    "5.Function Aliasing   \n",
    "for an existing function we can give another name which is nothing but function aliasing"
   ]
  },
  {
   "cell_type": "code",
   "execution_count": 134,
   "id": "3934df72-8e20-45b7-916d-fbe3bc7cb477",
   "metadata": {},
   "outputs": [
    {
     "name": "stdout",
     "output_type": "stream",
     "text": [
      "1975833182048\n",
      "1975833182048\n"
     ]
    }
   ],
   "source": [
    "def f1():\n",
    "    print(\"hello pawan\")\n",
    "f2=f1\n",
    "print(id(f1))\n",
    "print(id(f2))"
   ]
  },
  {
   "cell_type": "markdown",
   "id": "04c478b6-e143-4c3b-a09f-7df5a5107081",
   "metadata": {},
   "source": [
    "Here we are aliasing both references are pointing to same object"
   ]
  },
  {
   "cell_type": "code",
   "execution_count": 137,
   "id": "dc5afacc-292e-417f-a49e-2b5270efa935",
   "metadata": {},
   "outputs": [],
   "source": [
    "def MyName(name):\n",
    "    print(\"I'm {}\".format(name))"
   ]
  },
  {
   "cell_type": "code",
   "execution_count": 138,
   "id": "12639b87-d26d-4bc3-a7d4-4f076f509046",
   "metadata": {},
   "outputs": [
    {
     "name": "stdout",
     "output_type": "stream",
     "text": [
      "I'm Vamsi Krishna Javvadi\n"
     ]
    }
   ],
   "source": [
    "MyName(\"Vamsi Krishna Javvadi\")"
   ]
  },
  {
   "cell_type": "code",
   "execution_count": 150,
   "id": "20177909-9b14-4efe-b0b2-0a5b6be5430a",
   "metadata": {},
   "outputs": [
    {
     "name": "stdout",
     "output_type": "stream",
     "text": [
      "1975838530976\n",
      "1975838530976\n"
     ]
    }
   ],
   "source": [
    "def MyName(name):\n",
    "    print(\"I'm {}\".format(name))\n",
    "RelName = MyName  \n",
    "print(id(RelName))\n",
    "print(id(MyName))"
   ]
  },
  {
   "cell_type": "code",
   "execution_count": 151,
   "id": "618a312f-296a-4aa3-9960-3322886a1143",
   "metadata": {},
   "outputs": [
    {
     "name": "stdout",
     "output_type": "stream",
     "text": [
      "I'm Krishnam Naidu\n"
     ]
    }
   ],
   "source": [
    "RelName(\"Krishnam Naidu\")"
   ]
  },
  {
   "cell_type": "markdown",
   "id": "e01f1b0b-d338-40ab-9f59-722e06ea7c24",
   "metadata": {},
   "source": [
    "if we delete one name still we can access that function by using alias name"
   ]
  },
  {
   "cell_type": "code",
   "execution_count": 153,
   "id": "669dae61-1362-4747-95fa-928d7422c361",
   "metadata": {},
   "outputs": [],
   "source": [
    "del MyName"
   ]
  },
  {
   "cell_type": "code",
   "execution_count": 154,
   "id": "4c258cb7-ab56-49a1-8580-3dcf90eab0ac",
   "metadata": {},
   "outputs": [
    {
     "ename": "NameError",
     "evalue": "name 'MyName' is not defined",
     "output_type": "error",
     "traceback": [
      "\u001b[1;31m---------------------------------------------------------------------------\u001b[0m",
      "\u001b[1;31mNameError\u001b[0m                                 Traceback (most recent call last)",
      "Cell \u001b[1;32mIn[154], line 1\u001b[0m\n\u001b[1;32m----> 1\u001b[0m \u001b[43mMyName\u001b[49m(\u001b[38;5;124m\"\u001b[39m\u001b[38;5;124mvamsi\u001b[39m\u001b[38;5;124m\"\u001b[39m)\n",
      "\u001b[1;31mNameError\u001b[0m: name 'MyName' is not defined"
     ]
    }
   ],
   "source": [
    "MyName(\"vamsi\")"
   ]
  },
  {
   "cell_type": "code",
   "execution_count": 155,
   "id": "684348c2-7862-44dc-ad37-5e89077af0ad",
   "metadata": {},
   "outputs": [
    {
     "name": "stdout",
     "output_type": "stream",
     "text": [
      "I'm vamsi\n"
     ]
    }
   ],
   "source": [
    "RelName(\"vamsi\")"
   ]
  },
  {
   "cell_type": "markdown",
   "id": "a1f12e28-f1f5-4d1b-a14d-25bbe8c30819",
   "metadata": {},
   "source": [
    "6.Nested Functions   \n",
    "* we can declare a function inside another function such type of functions are called nested functions.   "
   ]
  },
  {
   "cell_type": "code",
   "execution_count": 161,
   "id": "58f17cc1-9785-4e7e-bacd-d2af723629c9",
   "metadata": {},
   "outputs": [],
   "source": [
    "def outer():\n",
    "    print(\"1.outer function started\")\n",
    "    def inner():\n",
    "        print(\"2.inner function started\")\n",
    "    print(\"3.outer function calling inner function\")\n",
    "    #inner()"
   ]
  },
  {
   "cell_type": "code",
   "execution_count": 162,
   "id": "72e5e57b-4876-4f1e-b6f4-09f75004fc73",
   "metadata": {},
   "outputs": [
    {
     "name": "stdout",
     "output_type": "stream",
     "text": [
      "1.outer function started\n",
      "3.outer function calling inner function\n"
     ]
    }
   ],
   "source": [
    "outer()"
   ]
  },
  {
   "cell_type": "code",
   "execution_count": 163,
   "id": "ca7a8bcf-da98-4820-8d80-e97c6ee1e514",
   "metadata": {},
   "outputs": [],
   "source": [
    "def outer():\n",
    "    print(\"1.outer function started\")\n",
    "    def inner():\n",
    "        print(\"2.inner function started\")\n",
    "    print(\"3.outer function calling inner function\")\n",
    "    inner()"
   ]
  },
  {
   "cell_type": "code",
   "execution_count": 164,
   "id": "e950c6e2-794c-4cd4-b70e-5cce34967966",
   "metadata": {},
   "outputs": [
    {
     "name": "stdout",
     "output_type": "stream",
     "text": [
      "1.outer function started\n",
      "3.outer function calling inner function\n",
      "2.inner function started\n"
     ]
    }
   ],
   "source": [
    "outer()"
   ]
  },
  {
   "cell_type": "markdown",
   "id": "72f39705-2b65-4164-98e7-99f8a6febba2",
   "metadata": {},
   "source": [
    "Note: A function can return another function  \n"
   ]
  },
  {
   "cell_type": "code",
   "execution_count": 165,
   "id": "2dc74200-8701-480f-af83-3683b1f376c8",
   "metadata": {},
   "outputs": [
    {
     "ename": "SyntaxError",
     "evalue": "incomplete input (3326709569.py, line 1)",
     "output_type": "error",
     "traceback": [
      "\u001b[1;36m  Cell \u001b[1;32mIn[165], line 1\u001b[1;36m\u001b[0m\n\u001b[1;33m    def outer():\u001b[0m\n\u001b[1;37m                ^\u001b[0m\n\u001b[1;31mSyntaxError\u001b[0m\u001b[1;31m:\u001b[0m incomplete input\n"
     ]
    }
   ],
   "source": [
    "def outer():"
   ]
  },
  {
   "cell_type": "code",
   "execution_count": 166,
   "id": "c24d0e7f-35f9-4c18-8070-f8972a76f319",
   "metadata": {},
   "outputs": [],
   "source": [
    "def outer():\n",
    "    print(\"outer function started\")\n",
    "    def inner():\n",
    "        print(\"inner function execution\")\n",
    "    print(\"outer fuction returning inner function\")\n",
    "    return inner\n",
    "\n",
    "#outer()"
   ]
  },
  {
   "cell_type": "code",
   "execution_count": 168,
   "id": "5494dc65-d88e-4cba-8348-577055e92c09",
   "metadata": {},
   "outputs": [
    {
     "name": "stdout",
     "output_type": "stream",
     "text": [
      "outer function started\n",
      "outer fuction returning inner function\n"
     ]
    },
    {
     "data": {
      "text/plain": [
       "<function __main__.outer.<locals>.inner()>"
      ]
     },
     "execution_count": 168,
     "metadata": {},
     "output_type": "execute_result"
    }
   ],
   "source": [
    "outer()"
   ]
  },
  {
   "cell_type": "code",
   "execution_count": 169,
   "id": "f33b45c4-f55b-4718-8cff-e6219b6042dc",
   "metadata": {},
   "outputs": [],
   "source": [
    "def outer():\n",
    "    print(\"outer function started\")\n",
    "    def inner():\n",
    "        print(\"inner function execution\")\n",
    "    print(\"outer fuction returning inner function\")\n",
    "    return inner\n",
    "\n",
    "#outer()"
   ]
  },
  {
   "cell_type": "code",
   "execution_count": 170,
   "id": "79e0a067-ff7a-4502-bc56-476706ca576b",
   "metadata": {},
   "outputs": [
    {
     "name": "stdout",
     "output_type": "stream",
     "text": [
      "outer function started\n",
      "outer fuction returning inner function\n"
     ]
    }
   ],
   "source": [
    "f = outer()"
   ]
  },
  {
   "cell_type": "code",
   "execution_count": 171,
   "id": "7589603a-2835-494c-b547-843f95b8610d",
   "metadata": {},
   "outputs": [
    {
     "name": "stdout",
     "output_type": "stream",
     "text": [
      "inner function execution\n"
     ]
    }
   ],
   "source": [
    "f()"
   ]
  },
  {
   "cell_type": "code",
   "execution_count": 172,
   "id": "f96c6b3e-f2a3-4645-ae8d-adf35fdb3168",
   "metadata": {},
   "outputs": [
    {
     "name": "stdout",
     "output_type": "stream",
     "text": [
      "inner function execution\n"
     ]
    }
   ],
   "source": [
    "f()"
   ]
  },
  {
   "cell_type": "code",
   "execution_count": null,
   "id": "8f01a7c3-d2dc-4863-b22d-465821b8722f",
   "metadata": {},
   "outputs": [],
   "source": []
  },
  {
   "cell_type": "code",
   "execution_count": null,
   "id": "9e85d790-eed6-4cbf-88e1-4c5fb802d624",
   "metadata": {},
   "outputs": [],
   "source": []
  },
  {
   "cell_type": "code",
   "execution_count": null,
   "id": "95398a73-53a1-49d7-a88e-11d50ab4d9af",
   "metadata": {},
   "outputs": [],
   "source": []
  }
 ],
 "metadata": {
  "kernelspec": {
   "display_name": "Python 3 (ipykernel)",
   "language": "python",
   "name": "python3"
  },
  "language_info": {
   "codemirror_mode": {
    "name": "ipython",
    "version": 3
   },
   "file_extension": ".py",
   "mimetype": "text/x-python",
   "name": "python",
   "nbconvert_exporter": "python",
   "pygments_lexer": "ipython3",
   "version": "3.11.5"
  }
 },
 "nbformat": 4,
 "nbformat_minor": 5
}
